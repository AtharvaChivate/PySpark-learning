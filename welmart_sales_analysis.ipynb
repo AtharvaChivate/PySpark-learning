{
 "cells": [
  {
   "cell_type": "code",
   "execution_count": 6,
   "metadata": {},
   "outputs": [],
   "source": [
    "import pyspark\n",
    "from pyspark.sql import SparkSession #Necessary for initializing pyspark\n",
    "from pyspark.sql.functions import *\n",
    "from pyspark.sql import functions as F"
   ]
  },
  {
   "cell_type": "code",
   "execution_count": 2,
   "metadata": {},
   "outputs": [],
   "source": [
    "# Creating a SparkSession\n",
    "spark = (SparkSession.builder.appName(\"SparkSQLExample\").getOrCreate())\n",
    "\n",
    "# Path to data set\n",
    "csv_file = \"superstore.csv\"\n",
    "\n",
    "df = spark.read \\\n",
    "    .format(\"csv\") \\\n",
    "    .option(\"inferSchema\", \"true\") \\\n",
    "    .option(\"header\", \"true\") \\\n",
    "    .load(csv_file)\n",
    "\n",
    "\n",
    "# Creating a temporary view to run SQL Queries\n",
    "df.createOrReplaceTempView(\"u\") "
   ]
  },
  {
   "cell_type": "code",
   "execution_count": 15,
   "metadata": {},
   "outputs": [
    {
     "name": "stdout",
     "output_type": "stream",
     "text": [
      "+------+--------------+----------+----------+--------------+-----------+------------------+-----------+-------------+---------------+--------------+-----------+-------+---------------+---------------+------------+--------------------+--------+--------+--------+--------+\n",
      "|Row ID|      Order ID|Order Date| Ship Date|     Ship Mode|Customer ID|     Customer Name|    Segment|      Country|           City|         State|Postal Code| Region|     Product ID|       Category|Sub-Category|        Product Name|   Sales|Quantity|Discount|  Profit|\n",
      "+------+--------------+----------+----------+--------------+-----------+------------------+-----------+-------------+---------------+--------------+-----------+-------+---------------+---------------+------------+--------------------+--------+--------+--------+--------+\n",
      "|     1|CA-2016-152156| 11/8/2016|11/11/2016|  Second Class|   CG-12520|       Claire Gute|   Consumer|United States|      Henderson|      Kentucky|      42420|  South|FUR-BO-10001798|      Furniture|   Bookcases|Bush Somerset Col...|  261.96|       2|       0| 41.9136|\n",
      "|     2|CA-2016-152156| 11/8/2016|11/11/2016|  Second Class|   CG-12520|       Claire Gute|   Consumer|United States|      Henderson|      Kentucky|      42420|  South|FUR-CH-10000454|      Furniture|      Chairs|Hon Deluxe Fabric...|  731.94|       3|       0| 219.582|\n",
      "|     3|CA-2016-138688| 6/12/2016| 6/16/2016|  Second Class|   DV-13045|   Darrin Van Huff|  Corporate|United States|    Los Angeles|    California|      90036|   West|OFF-LA-10000240|Office Supplies|      Labels|Self-Adhesive Add...|   14.62|       2|       0|  6.8714|\n",
      "|     4|US-2015-108966|10/11/2015|10/18/2015|Standard Class|   SO-20335|    Sean O'Donnell|   Consumer|United States|Fort Lauderdale|       Florida|      33311|  South|FUR-TA-10000577|      Furniture|      Tables|Bretford CR4500 S...|957.5775|       5|    0.45|-383.031|\n",
      "|     5|US-2015-108966|10/11/2015|10/18/2015|Standard Class|   SO-20335|    Sean O'Donnell|   Consumer|United States|Fort Lauderdale|       Florida|      33311|  South|OFF-ST-10000760|Office Supplies|     Storage|Eldon Fold 'N Rol...|  22.368|       2|     0.2|  2.5164|\n",
      "|     6|CA-2014-115812|  6/9/2014| 6/14/2014|Standard Class|   BH-11710|   Brosina Hoffman|   Consumer|United States|    Los Angeles|    California|      90032|   West|FUR-FU-10001487|      Furniture| Furnishings|Eldon Expressions...|   48.86|       7|       0| 14.1694|\n",
      "|     7|CA-2014-115812|  6/9/2014| 6/14/2014|Standard Class|   BH-11710|   Brosina Hoffman|   Consumer|United States|    Los Angeles|    California|      90032|   West|OFF-AR-10002833|Office Supplies|         Art|          Newell 322|    7.28|       4|       0|  1.9656|\n",
      "|     8|CA-2014-115812|  6/9/2014| 6/14/2014|Standard Class|   BH-11710|   Brosina Hoffman|   Consumer|United States|    Los Angeles|    California|      90032|   West|TEC-PH-10002275|     Technology|      Phones|Mitel 5320 IP Pho...| 907.152|       6|     0.2| 90.7152|\n",
      "|     9|CA-2014-115812|  6/9/2014| 6/14/2014|Standard Class|   BH-11710|   Brosina Hoffman|   Consumer|United States|    Los Angeles|    California|      90032|   West|OFF-BI-10003910|Office Supplies|     Binders|DXL Angle-View Bi...|  18.504|       3|     0.2|  5.7825|\n",
      "|    10|CA-2014-115812|  6/9/2014| 6/14/2014|Standard Class|   BH-11710|   Brosina Hoffman|   Consumer|United States|    Los Angeles|    California|      90032|   West|OFF-AP-10002892|Office Supplies|  Appliances|Belkin F5C206VTEL...|   114.9|       5|       0|   34.47|\n",
      "|    11|CA-2014-115812|  6/9/2014| 6/14/2014|Standard Class|   BH-11710|   Brosina Hoffman|   Consumer|United States|    Los Angeles|    California|      90032|   West|FUR-TA-10001539|      Furniture|      Tables|Chromcraft Rectan...|1706.184|       9|     0.2| 85.3092|\n",
      "|    12|CA-2014-115812|  6/9/2014| 6/14/2014|Standard Class|   BH-11710|   Brosina Hoffman|   Consumer|United States|    Los Angeles|    California|      90032|   West|TEC-PH-10002033|     Technology|      Phones|Konftel 250 Confe...| 911.424|       4|     0.2| 68.3568|\n",
      "|    13|CA-2017-114412| 4/15/2017| 4/20/2017|Standard Class|   AA-10480|      Andrew Allen|   Consumer|United States|        Concord|North Carolina|      28027|  South|OFF-PA-10002365|Office Supplies|       Paper|          Xerox 1967|  15.552|       3|     0.2|  5.4432|\n",
      "|    14|CA-2016-161389| 12/5/2016|12/10/2016|Standard Class|   IM-15070|      Irene Maddox|   Consumer|United States|        Seattle|    Washington|      98103|   West|OFF-BI-10003656|Office Supplies|     Binders|Fellowes PB200 Pl...| 407.976|       3|     0.2|132.5922|\n",
      "|    15|US-2015-118983|11/22/2015|11/26/2015|Standard Class|   HP-14815|     Harold Pawlan|Home Office|United States|     Fort Worth|         Texas|      76106|Central|OFF-AP-10002311|Office Supplies|  Appliances|Holmes Replacemen...|   68.81|       5|     0.8|-123.858|\n",
      "|    16|US-2015-118983|11/22/2015|11/26/2015|Standard Class|   HP-14815|     Harold Pawlan|Home Office|United States|     Fort Worth|         Texas|      76106|Central|OFF-BI-10000756|Office Supplies|     Binders|Storex DuraTech R...|   2.544|       3|     0.8|  -3.816|\n",
      "|    17|CA-2014-105893|11/11/2014|11/18/2014|Standard Class|   PK-19075|         Pete Kriz|   Consumer|United States|        Madison|     Wisconsin|      53711|Central|OFF-ST-10004186|Office Supplies|     Storage|\"Stur-D-Stor Shel...|  665.88|       6|       0| 13.3176|\n",
      "|    18|CA-2014-167164| 5/13/2014| 5/15/2014|  Second Class|   AG-10270|   Alejandro Grove|   Consumer|United States|    West Jordan|          Utah|      84084|   West|OFF-ST-10000107|Office Supplies|     Storage|Fellowes Super St...|    55.5|       2|       0|    9.99|\n",
      "|    19|CA-2014-143336| 8/27/2014|  9/1/2014|  Second Class|   ZD-21925|Zuschuss Donatelli|   Consumer|United States|  San Francisco|    California|      94109|   West|OFF-AR-10003056|Office Supplies|         Art|          Newell 341|    8.56|       2|       0|  2.4824|\n",
      "|    20|CA-2014-143336| 8/27/2014|  9/1/2014|  Second Class|   ZD-21925|Zuschuss Donatelli|   Consumer|United States|  San Francisco|    California|      94109|   West|TEC-PH-10001949|     Technology|      Phones|Cisco SPA 501G IP...|  213.48|       3|     0.2|  16.011|\n",
      "+------+--------------+----------+----------+--------------+-----------+------------------+-----------+-------------+---------------+--------------+-----------+-------+---------------+---------------+------------+--------------------+--------+--------+--------+--------+\n",
      "only showing top 20 rows\n",
      "\n"
     ]
    }
   ],
   "source": [
    "df.show()"
   ]
  },
  {
   "cell_type": "markdown",
   "metadata": {},
   "source": [
    "#### Determine the best-selling product sub-category."
   ]
  },
  {
   "cell_type": "code",
   "execution_count": 8,
   "metadata": {},
   "outputs": [
    {
     "name": "stdout",
     "output_type": "stream",
     "text": [
      "+------------+-------------------+\n",
      "|Sub-Category|Total Quantity Sold|\n",
      "+------------+-------------------+\n",
      "|     Storage|            10105.0|\n",
      "| Furnishings|             9644.0|\n",
      "|     Binders|             8576.0|\n",
      "|       Paper|             7813.0|\n",
      "|      Phones|             3508.0|\n",
      "|         Art|             3000.0|\n",
      "| Accessories|             2976.0|\n",
      "|      Chairs|             2356.0|\n",
      "|   Envelopes|             2017.0|\n",
      "|  Appliances|             1729.0|\n",
      "|      Labels|             1400.0|\n",
      "|    Supplies|             1311.0|\n",
      "|      Tables|             1241.0|\n",
      "|   Fasteners|              917.0|\n",
      "|   Bookcases|              868.0|\n",
      "|    Machines|              440.0|\n",
      "|     Copiers|              234.0|\n",
      "+------------+-------------------+\n",
      "\n"
     ]
    }
   ],
   "source": [
    "best_selling_sub_category = df.groupBy(\"Sub-Category\").agg(F.round(F.sum(\"Quantity\")).alias(\"Total Quantity Sold\"))\n",
    "best_selling_sub_category.orderBy(\"Total Quantity Sold\", ascending=False).show()\n",
    "# We use `F` as a shorthand for `pyspark.sql.functions` to make the code cleaner and easier to read by reducing repetitive typing."
   ]
  },
  {
   "cell_type": "code",
   "execution_count": 9,
   "metadata": {},
   "outputs": [
    {
     "name": "stdout",
     "output_type": "stream",
     "text": [
      "+------------+-------------------+\n",
      "|Sub-Category|Total Quantity Sold|\n",
      "+------------+-------------------+\n",
      "|     Storage|            10105.0|\n",
      "+------------+-------------------+\n",
      "\n"
     ]
    }
   ],
   "source": [
    "best_selling_sub_category.orderBy(\"Total Quantity Sold\", ascending=False).limit(1).show()"
   ]
  },
  {
   "cell_type": "markdown",
   "metadata": {},
   "source": [
    "#### Identify the product category generating the highest revenue."
   ]
  },
  {
   "cell_type": "code",
   "execution_count": 12,
   "metadata": {},
   "outputs": [
    {
     "name": "stdout",
     "output_type": "stream",
     "text": [
      "+---------------+-----------------------------------+\n",
      "|       Category|Total Revenue Generated by Category|\n",
      "+---------------+-----------------------------------+\n",
      "|     Technology|                          835900.07|\n",
      "|      Furniture|                          733046.86|\n",
      "|Office Supplies|                          703502.93|\n",
      "+---------------+-----------------------------------+\n",
      "\n"
     ]
    }
   ],
   "source": [
    "highest_rev_generating_category = df.groupBy(\"Category\").agg(F.round(F.sum(\"Sales\"),2).alias(\"Total Revenue Generated by Category\"))\n",
    "highest_rev_generating_category.orderBy(\"Total Revenue Generated by Category\", ascending=False).show()"
   ]
  },
  {
   "cell_type": "code",
   "execution_count": 13,
   "metadata": {},
   "outputs": [
    {
     "name": "stdout",
     "output_type": "stream",
     "text": [
      "+----------+-----------------------------------+\n",
      "|  Category|Total Revenue Generated by Category|\n",
      "+----------+-----------------------------------+\n",
      "|Technology|                          835900.07|\n",
      "+----------+-----------------------------------+\n",
      "\n"
     ]
    }
   ],
   "source": [
    "highest_rev_generating_category.orderBy(\"Total Revenue Generated by Category\", ascending=False).limit(1).show()"
   ]
  },
  {
   "cell_type": "markdown",
   "metadata": {},
   "source": [
    "#### Compile a top 10 list of the most valuable customers."
   ]
  },
  {
   "cell_type": "code",
   "execution_count": 21,
   "metadata": {},
   "outputs": [
    {
     "name": "stdout",
     "output_type": "stream",
     "text": [
      "+--------------------+--------------------------+\n",
      "|       Customer Name|Total Profit from Customer|\n",
      "+--------------------+--------------------------+\n",
      "|        Tamara Chand|                   8964.48|\n",
      "|        Raymond Buch|                    6976.1|\n",
      "|        Sanjit Chand|                   5757.41|\n",
      "|        Hunter Lopez|                   5622.43|\n",
      "|       Adrian Barton|                   5438.91|\n",
      "|        Tom Ashbrook|                   4703.79|\n",
      "|Christopher Martinez|                   3899.89|\n",
      "|       Keith Dawkins|                   3038.63|\n",
      "|         Andy Reiter|                   2884.62|\n",
      "|       Daniel Raglin|                   2869.08|\n",
      "+--------------------+--------------------------+\n",
      "\n"
     ]
    }
   ],
   "source": [
    "most_valuable_customer = (\n",
    "    df.groupBy(\"Customer Name\")\n",
    "    .agg(F.round(F.sum(\"Profit\"), 2).alias(\"Total Profit from Customer\"))\n",
    "    .orderBy(\"Total Profit from Customer\", ascending=False)\n",
    "    .limit(10)\n",
    ")\n",
    "\n",
    "most_valuable_customer.show()"
   ]
  },
  {
   "cell_type": "markdown",
   "metadata": {},
   "source": [
    "#### Determine the state responsible for the highest number of orders."
   ]
  },
  {
   "cell_type": "code",
   "execution_count": 23,
   "metadata": {},
   "outputs": [
    {
     "name": "stdout",
     "output_type": "stream",
     "text": [
      "+------------+---------------------+\n",
      "|       State|Total Orders By State|\n",
      "+------------+---------------------+\n",
      "|  California|             13637.27|\n",
      "|    New York|               5116.2|\n",
      "|       Texas|              4272.41|\n",
      "|Pennsylvania|              3614.38|\n",
      "|  Washington|              3541.89|\n",
      "|    Illinois|              2903.23|\n",
      "|        Ohio|              2863.19|\n",
      "|     Florida|              1939.53|\n",
      "|  New Jersey|              1602.74|\n",
      "|     Arizona|              1596.94|\n",
      "+------------+---------------------+\n",
      "\n"
     ]
    }
   ],
   "source": [
    "highest_ordering_state = (\n",
    "    df.groupBy(\"State\")\n",
    "    .agg(F.round(F.sum(\"Quantity\"), 2).alias(\"Total Orders By State\"))\n",
    "    .orderBy(\"Total Orders By State\", ascending=False)\n",
    "    .limit(10)\n",
    ")\n",
    "\n",
    "highest_ordering_state.show()"
   ]
  },
  {
   "cell_type": "markdown",
   "metadata": {},
   "source": [
    "#### Find the year with the highest revenue generation."
   ]
  },
  {
   "cell_type": "code",
   "execution_count": 46,
   "metadata": {},
   "outputs": [],
   "source": [
    "# This query converts the \"Order Date\" column from a string format (M/d/yyyy) to a date type and creates a new column \"Year\" that extracts the year from the converted date.\n",
    "df_with_year = df.withColumn(\"Order Date\", F.to_date(\"Order Date\", \"M/d/yyyy\")) \\\n",
    "                 .withColumn(\"Year\", F.year(\"Order Date\"))"
   ]
  },
  {
   "cell_type": "code",
   "execution_count": 47,
   "metadata": {},
   "outputs": [],
   "source": [
    "most_rev_generating_year = (\n",
    "    df_with_year.groupBy(\"Year\")\n",
    "    .agg(F.round(F.sum(\"Sales\"), 2).alias(\"Total Sales by Year\"))\n",
    "    .orderBy(\"Total Sales by Year\", ascending=False)\n",
    ")"
   ]
  },
  {
   "cell_type": "code",
   "execution_count": 48,
   "metadata": {},
   "outputs": [
    {
     "name": "stdout",
     "output_type": "stream",
     "text": [
      "+----+-------------------+\n",
      "|Year|Total Sales by Year|\n",
      "+----+-------------------+\n",
      "|2017|          724994.56|\n",
      "|2016|          601265.26|\n",
      "|2014|           481763.8|\n",
      "|2015|          464426.24|\n",
      "+----+-------------------+\n",
      "\n"
     ]
    }
   ],
   "source": [
    "most_rev_generating_year.show()"
   ]
  }
 ],
 "metadata": {
  "kernelspec": {
   "display_name": "venv",
   "language": "python",
   "name": "python3"
  },
  "language_info": {
   "codemirror_mode": {
    "name": "ipython",
    "version": 3
   },
   "file_extension": ".py",
   "mimetype": "text/x-python",
   "name": "python",
   "nbconvert_exporter": "python",
   "pygments_lexer": "ipython3",
   "version": "3.10.11"
  }
 },
 "nbformat": 4,
 "nbformat_minor": 2
}
