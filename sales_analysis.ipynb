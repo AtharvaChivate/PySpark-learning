{
 "cells": [
  {
   "cell_type": "code",
   "execution_count": 1,
   "metadata": {},
   "outputs": [],
   "source": [
    "import pyspark\n",
    "from pyspark.sql import SparkSession #Necessary for initializing pyspark\n",
    "from pyspark.sql.functions import *"
   ]
  },
  {
   "cell_type": "code",
   "execution_count": 4,
   "metadata": {},
   "outputs": [],
   "source": [
    "spark = SparkSession.builder.appName('Pyspark Demo').getOrCreate()"
   ]
  },
  {
   "cell_type": "code",
   "execution_count": 6,
   "metadata": {},
   "outputs": [],
   "source": [
    "csv_file = \"retail_sales_dataset.csv\"\n",
    "\n",
    "df = spark.read \\\n",
    "    .format(\"csv\") \\\n",
    "    .option(\"inferSchema\", \"true\") \\\n",
    "    .option(\"header\", \"true\") \\\n",
    "    .load(csv_file)\n",
    "\n",
    "\n",
    "# Creating a temporary view to run SQL Queries\n",
    "df.createOrReplaceTempView(\"u\") "
   ]
  },
  {
   "cell_type": "code",
   "execution_count": 7,
   "metadata": {},
   "outputs": [
    {
     "name": "stdout",
     "output_type": "stream",
     "text": [
      "+--------------+----------+-----------+------+---+----------------+--------+--------------+------------+\n",
      "|Transaction ID|      Date|Customer ID|Gender|Age|Product Category|Quantity|Price per Unit|Total Amount|\n",
      "+--------------+----------+-----------+------+---+----------------+--------+--------------+------------+\n",
      "|             1|2023-11-24|    CUST001|  Male| 34|          Beauty|       3|            50|         150|\n",
      "|             2|2023-02-27|    CUST002|Female| 26|        Clothing|       2|           500|        1000|\n",
      "|             3|2023-01-13|    CUST003|  Male| 50|     Electronics|       1|            30|          30|\n",
      "|             4|2023-05-21|    CUST004|  Male| 37|        Clothing|       1|           500|         500|\n",
      "|             5|2023-05-06|    CUST005|  Male| 30|          Beauty|       2|            50|         100|\n",
      "|             6|2023-04-25|    CUST006|Female| 45|          Beauty|       1|            30|          30|\n",
      "|             7|2023-03-13|    CUST007|  Male| 46|        Clothing|       2|            25|          50|\n",
      "|             8|2023-02-22|    CUST008|  Male| 30|     Electronics|       4|            25|         100|\n",
      "|             9|2023-12-13|    CUST009|  Male| 63|     Electronics|       2|           300|         600|\n",
      "|            10|2023-10-07|    CUST010|Female| 52|        Clothing|       4|            50|         200|\n",
      "|            11|2023-02-14|    CUST011|  Male| 23|        Clothing|       2|            50|         100|\n",
      "|            12|2023-10-30|    CUST012|  Male| 35|          Beauty|       3|            25|          75|\n",
      "|            13|2023-08-05|    CUST013|  Male| 22|     Electronics|       3|           500|        1500|\n",
      "|            14|2023-01-17|    CUST014|  Male| 64|        Clothing|       4|            30|         120|\n",
      "|            15|2023-01-16|    CUST015|Female| 42|     Electronics|       4|           500|        2000|\n",
      "|            16|2023-02-17|    CUST016|  Male| 19|        Clothing|       3|           500|        1500|\n",
      "|            17|2023-04-22|    CUST017|Female| 27|        Clothing|       4|            25|         100|\n",
      "|            18|2023-04-30|    CUST018|Female| 47|     Electronics|       2|            25|          50|\n",
      "|            19|2023-09-16|    CUST019|Female| 62|        Clothing|       2|            25|          50|\n",
      "|            20|2023-11-05|    CUST020|  Male| 22|        Clothing|       3|           300|         900|\n",
      "+--------------+----------+-----------+------+---+----------------+--------+--------------+------------+\n",
      "only showing top 20 rows\n",
      "\n"
     ]
    }
   ],
   "source": [
    "df.show()"
   ]
  },
  {
   "cell_type": "markdown",
   "metadata": {},
   "source": [
    "#### Find the Most Sold Category"
   ]
  },
  {
   "cell_type": "code",
   "execution_count": 8,
   "metadata": {},
   "outputs": [],
   "source": [
    "sales_by_category = df.groupBy(\"Product Category\").agg(sum(\"Quantity\").alias(\"Total Quantity Sold\"))"
   ]
  },
  {
   "cell_type": "code",
   "execution_count": 12,
   "metadata": {},
   "outputs": [
    {
     "name": "stdout",
     "output_type": "stream",
     "text": [
      "+----------------+-------------------+\n",
      "|Product Category|Total Quantity Sold|\n",
      "+----------------+-------------------+\n",
      "|        Clothing|                894|\n",
      "|     Electronics|                849|\n",
      "|          Beauty|                771|\n",
      "+----------------+-------------------+\n",
      "\n"
     ]
    }
   ],
   "source": [
    "sales_by_category.orderBy(\"Total Quantity Sold\", ascending = False).show()"
   ]
  },
  {
   "cell_type": "code",
   "execution_count": 14,
   "metadata": {},
   "outputs": [
    {
     "name": "stdout",
     "output_type": "stream",
     "text": [
      "+----------------+-------------------+\n",
      "|Product Category|Total Quantity Sold|\n",
      "+----------------+-------------------+\n",
      "|        Clothing|                894|\n",
      "+----------------+-------------------+\n",
      "\n"
     ]
    }
   ],
   "source": [
    "most_sold_category = sales_by_category.orderBy(\"Total Quantity Sold\", ascending = False).limit(1)\n",
    "most_sold_category.show()"
   ]
  },
  {
   "cell_type": "markdown",
   "metadata": {},
   "source": [
    "#### Find Most revenue generating category"
   ]
  },
  {
   "cell_type": "code",
   "execution_count": 15,
   "metadata": {},
   "outputs": [],
   "source": [
    "rev_by_category = df.groupBy(\"Product Category\").agg(sum(\"Total Amount\").alias(\"Total Amount Sold by Product Category\"))"
   ]
  },
  {
   "cell_type": "code",
   "execution_count": 18,
   "metadata": {},
   "outputs": [
    {
     "name": "stdout",
     "output_type": "stream",
     "text": [
      "+----------------+-------------------------------------+\n",
      "|Product Category|Total Amount Sold by Product Category|\n",
      "+----------------+-------------------------------------+\n",
      "|     Electronics|                               156905|\n",
      "|        Clothing|                               155580|\n",
      "|          Beauty|                               143515|\n",
      "+----------------+-------------------------------------+\n",
      "\n"
     ]
    }
   ],
   "source": [
    "rev_by_category.orderBy(\"Total Amount Sold by Product Category\", ascending = False).show()"
   ]
  },
  {
   "cell_type": "code",
   "execution_count": 20,
   "metadata": {},
   "outputs": [
    {
     "name": "stdout",
     "output_type": "stream",
     "text": [
      "+----------------+-------------------------------------+\n",
      "|Product Category|Total Amount Sold by Product Category|\n",
      "+----------------+-------------------------------------+\n",
      "|     Electronics|                               156905|\n",
      "+----------------+-------------------------------------+\n",
      "\n"
     ]
    }
   ],
   "source": [
    "# Most revenue Generating category\n",
    "rev_by_category.orderBy(\"Total Amount Sold by Product Category\", ascending = False).limit(1).show()"
   ]
  },
  {
   "cell_type": "markdown",
   "metadata": {},
   "source": [
    "#### Most valued top 10 customers"
   ]
  },
  {
   "cell_type": "code",
   "execution_count": 22,
   "metadata": {},
   "outputs": [],
   "source": [
    "rev_by_customer = df.groupBy(\"Customer ID\").agg(sum(\"Total Amount\").alias(\"Total Amount Sold by Customer ID\"))"
   ]
  },
  {
   "cell_type": "code",
   "execution_count": 25,
   "metadata": {},
   "outputs": [
    {
     "name": "stdout",
     "output_type": "stream",
     "text": [
      "+-----------+--------------------------------+\n",
      "|Customer ID|Total Amount Sold by Customer ID|\n",
      "+-----------+--------------------------------+\n",
      "|    CUST412|                            2000|\n",
      "|    CUST595|                            2000|\n",
      "|    CUST093|                            2000|\n",
      "|    CUST946|                            2000|\n",
      "|    CUST743|                            2000|\n",
      "|    CUST269|                            2000|\n",
      "|    CUST832|                            2000|\n",
      "|    CUST476|                            2000|\n",
      "|    CUST875|                            2000|\n",
      "|    CUST487|                            2000|\n",
      "+-----------+--------------------------------+\n",
      "\n"
     ]
    }
   ],
   "source": [
    "rev_by_customer.orderBy(\"Total Amount Sold by Customer ID\", ascending = False).limit(10).show()"
   ]
  },
  {
   "cell_type": "markdown",
   "metadata": {},
   "source": [
    "#### Find the gender buys which product category the most"
   ]
  },
  {
   "cell_type": "code",
   "execution_count": 27,
   "metadata": {},
   "outputs": [
    {
     "name": "stdout",
     "output_type": "stream",
     "text": [
      "+------+----------------+-----+\n",
      "|Gender|Product Category|count|\n",
      "+------+----------------+-----+\n",
      "|  Male|        Clothing|  177|\n",
      "|Female|        Clothing|  174|\n",
      "|  Male|     Electronics|  172|\n",
      "|Female|          Beauty|  166|\n",
      "|  Male|          Beauty|  141|\n",
      "|Female|     Electronics|  170|\n",
      "+------+----------------+-----+\n",
      "\n"
     ]
    }
   ],
   "source": [
    "gender_product_category =   df.groupBy(\"Gender\", \"Product Category\").count()\n",
    "gender_product_category.show()"
   ]
  },
  {
   "cell_type": "markdown",
   "metadata": {},
   "source": [
    "#### Create a chart for the age category vs the sales"
   ]
  },
  {
   "cell_type": "code",
   "execution_count": 37,
   "metadata": {},
   "outputs": [
    {
     "name": "stdout",
     "output_type": "stream",
     "text": [
      "+--------------+----------+-----------+------+---+----------------+--------+--------------+------------+------------+\n",
      "|Transaction ID|      Date|Customer ID|Gender|Age|Product Category|Quantity|Price per Unit|Total Amount|Age Category|\n",
      "+--------------+----------+-----------+------+---+----------------+--------+--------------+------------+------------+\n",
      "|             1|2023-11-24|    CUST001|  Male| 34|          Beauty|       3|            50|         150|       30-39|\n",
      "|             2|2023-02-27|    CUST002|Female| 26|        Clothing|       2|           500|        1000|       20-29|\n",
      "|             3|2023-01-13|    CUST003|  Male| 50|     Electronics|       1|            30|          30|       50-59|\n",
      "|             4|2023-05-21|    CUST004|  Male| 37|        Clothing|       1|           500|         500|       30-39|\n",
      "|             5|2023-05-06|    CUST005|  Male| 30|          Beauty|       2|            50|         100|       30-39|\n",
      "|             6|2023-04-25|    CUST006|Female| 45|          Beauty|       1|            30|          30|       40-49|\n",
      "|             7|2023-03-13|    CUST007|  Male| 46|        Clothing|       2|            25|          50|       40-49|\n",
      "|             8|2023-02-22|    CUST008|  Male| 30|     Electronics|       4|            25|         100|       30-39|\n",
      "|             9|2023-12-13|    CUST009|  Male| 63|     Electronics|       2|           300|         600|         60+|\n",
      "|            10|2023-10-07|    CUST010|Female| 52|        Clothing|       4|            50|         200|       50-59|\n",
      "|            11|2023-02-14|    CUST011|  Male| 23|        Clothing|       2|            50|         100|       20-29|\n",
      "|            12|2023-10-30|    CUST012|  Male| 35|          Beauty|       3|            25|          75|       30-39|\n",
      "|            13|2023-08-05|    CUST013|  Male| 22|     Electronics|       3|           500|        1500|       20-29|\n",
      "|            14|2023-01-17|    CUST014|  Male| 64|        Clothing|       4|            30|         120|         60+|\n",
      "|            15|2023-01-16|    CUST015|Female| 42|     Electronics|       4|           500|        2000|       40-49|\n",
      "|            16|2023-02-17|    CUST016|  Male| 19|        Clothing|       3|           500|        1500|       10-19|\n",
      "|            17|2023-04-22|    CUST017|Female| 27|        Clothing|       4|            25|         100|       20-29|\n",
      "|            18|2023-04-30|    CUST018|Female| 47|     Electronics|       2|            25|          50|       40-49|\n",
      "|            19|2023-09-16|    CUST019|Female| 62|        Clothing|       2|            25|          50|         60+|\n",
      "|            20|2023-11-05|    CUST020|  Male| 22|        Clothing|       3|           300|         900|       20-29|\n",
      "+--------------+----------+-----------+------+---+----------------+--------+--------------+------------+------------+\n",
      "only showing top 20 rows\n",
      "\n"
     ]
    }
   ],
   "source": [
    "df = df.withColumn(\"Age Category\",\n",
    "                     when((df['Age'] >= 1) & (df['Age'] <= 9), \"1-9\")\n",
    "                    .when((df['Age'] >= 10) & (df['Age'] <= 19), \"10-19\")\n",
    "                    .when((df['Age'] >= 20) & (df['Age'] <= 29), \"20-29\")\n",
    "                    .when((df['Age'] >= 30) & (df['Age'] <= 39), \"30-39\")\n",
    "                    .when((df['Age'] >= 40) & (df['Age'] <= 49), \"40-49\")\n",
    "                    .when((df['Age'] >= 50) & (df['Age'] <= 59), \"50-59\")\n",
    "                    .when(df['Age'] > 60, \"60+\")\n",
    "                    .otherwise(\"Unknown\"))\n",
    "df.show()"
   ]
  },
  {
   "cell_type": "code",
   "execution_count": 38,
   "metadata": {},
   "outputs": [],
   "source": [
    "sales_by_age_category = df.groupBy(\"Age Category\").agg(sum(\"Total Amount\").alias(\"Total Sales\"))"
   ]
  },
  {
   "cell_type": "code",
   "execution_count": 39,
   "metadata": {},
   "outputs": [],
   "source": [
    "sales_by_age_category = sales_by_age_category.orderBy(\"Age Category\")"
   ]
  },
  {
   "cell_type": "code",
   "execution_count": 40,
   "metadata": {},
   "outputs": [
    {
     "name": "stdout",
     "output_type": "stream",
     "text": [
      "+------------+-----------+\n",
      "|Age Category|Total Sales|\n",
      "+------------+-----------+\n",
      "|       10-19|      26085|\n",
      "|       20-29|      97070|\n",
      "|       30-39|      96325|\n",
      "|       40-49|      93365|\n",
      "|       50-59|      98340|\n",
      "|         60+|      33225|\n",
      "|     Unknown|      11590|\n",
      "+------------+-----------+\n",
      "\n"
     ]
    }
   ],
   "source": [
    "sales_by_age_category.show()"
   ]
  }
 ],
 "metadata": {
  "kernelspec": {
   "display_name": "venv",
   "language": "python",
   "name": "python3"
  },
  "language_info": {
   "codemirror_mode": {
    "name": "ipython",
    "version": 3
   },
   "file_extension": ".py",
   "mimetype": "text/x-python",
   "name": "python",
   "nbconvert_exporter": "python",
   "pygments_lexer": "ipython3",
   "version": "3.10.11"
  }
 },
 "nbformat": 4,
 "nbformat_minor": 2
}
