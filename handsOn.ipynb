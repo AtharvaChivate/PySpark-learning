{
 "cells": [
  {
   "cell_type": "code",
   "execution_count": 1,
   "metadata": {},
   "outputs": [],
   "source": [
    "import pyspark\n",
    "from pyspark.sql import SparkSession #Necessary for initializing pyspark\n",
    "from pyspark.sql.functions import *"
   ]
  },
  {
   "cell_type": "code",
   "execution_count": 3,
   "metadata": {},
   "outputs": [],
   "source": [
    "# Creating a SparkSession\n",
    "spark = (SparkSession.builder.appName(\"SparkSQLExample\").getOrCreate())\n",
    "\n",
    "# Path to data set\n",
    "csv_file = \"onlinefoods.csv\"\n",
    "\n",
    "df = spark.read \\\n",
    "    .format(\"csv\") \\\n",
    "    .option(\"inferSchema\", \"true\") \\\n",
    "    .option(\"header\", \"true\") \\\n",
    "    .load(csv_file)\n",
    "\n",
    "\n",
    "# Creating a temporary view to run SQL Queries\n",
    "df.createOrReplaceTempView(\"u\") "
   ]
  },
  {
   "cell_type": "code",
   "execution_count": 4,
   "metadata": {},
   "outputs": [
    {
     "name": "stdout",
     "output_type": "stream",
     "text": [
      "+---+------+--------------+--------------+---------------+--------------------------+-----------+--------+---------+--------+------+---------+----+\n",
      "|Age|Gender|Marital Status|    Occupation| Monthly Income|Educational Qualifications|Family size|latitude|longitude|Pin code|Output| Feedback|_c12|\n",
      "+---+------+--------------+--------------+---------------+--------------------------+-----------+--------+---------+--------+------+---------+----+\n",
      "| 20|Female|        Single|       Student|      No Income|             Post Graduate|          4| 12.9766|  77.5993|  560001|   Yes| Positive| Yes|\n",
      "| 24|Female|        Single|       Student| Below Rs.10000|                  Graduate|          3|  12.977|  77.5773|  560009|   Yes| Positive| Yes|\n",
      "| 22|  Male|        Single|       Student| Below Rs.10000|             Post Graduate|          3| 12.9551|  77.6593|  560017|   Yes|Negative | Yes|\n",
      "| 22|Female|        Single|       Student|      No Income|                  Graduate|          6| 12.9473|  77.5616|  560019|   Yes| Positive| Yes|\n",
      "| 22|  Male|        Single|       Student| Below Rs.10000|             Post Graduate|          4|  12.985|  77.5533|  560010|   Yes| Positive| Yes|\n",
      "| 27|Female|       Married|      Employee|More than 50000|             Post Graduate|          2| 12.9299|  77.6848|  560103|   Yes| Positive| Yes|\n",
      "| 22|  Male|        Single|       Student|      No Income|                  Graduate|          3|  12.977|  77.5773|  560009|   Yes| Positive| Yes|\n",
      "| 24|Female|        Single|       Student|      No Income|             Post Graduate|          3| 12.9828|  77.6131|  560042|   Yes| Positive| Yes|\n",
      "| 23|Female|        Single|       Student|      No Income|             Post Graduate|          2| 12.9766|  77.5993|  560001|   Yes| Positive| Yes|\n",
      "| 23|Female|        Single|       Student|      No Income|             Post Graduate|          4| 12.9854|  77.7081|  560048|   Yes| Positive| Yes|\n",
      "| 22|Female|        Single|       Student|      No Income|             Post Graduate|          5|  12.985|  77.5533|  560010|   Yes| Positive| Yes|\n",
      "| 23|  Male|        Single|       Student| Below Rs.10000|             Post Graduate|          2|  12.977|  77.5773|  560009|   Yes|Negative | Yes|\n",
      "| 23|  Male|        Single|       Student|      No Income|             Post Graduate|          5| 12.8988|  77.5764|  560078|   Yes| Positive| Yes|\n",
      "| 21|  Male|        Single|       Student|      No Income|                  Graduate|          4|  12.977|  77.5773|  560009|   Yes| Positive| Yes|\n",
      "| 23|Female|        Single|Self Employeed| 10001 to 25000|             Post Graduate|          5| 12.9438|  77.5738|  560004|   Yes| Positive| Yes|\n",
      "| 24|Female|        Single|       Student|      No Income|             Post Graduate|          6| 12.8893|  77.6399|  560068|   Yes| Positive| Yes|\n",
      "| 28|Female|        Single|      Employee| 25001 to 50000|             Post Graduate|          2| 12.9783|  77.6408|  560038|   Yes| Positive| Yes|\n",
      "| 23|Female|        Single|       Student|      No Income|                  Graduate|          3|  12.982|  77.6256|  560008|   Yes|Negative | Yes|\n",
      "| 25|  Male|        Single|       Student|      No Income|                  Graduate|          4| 12.8988|  77.5764|  560078|   Yes|Negative | Yes|\n",
      "| 21|Female|        Single|       Student| Below Rs.10000|             Post Graduate|          1| 12.9783|  77.6408|  560038|   Yes| Positive| Yes|\n",
      "+---+------+--------------+--------------+---------------+--------------------------+-----------+--------+---------+--------+------+---------+----+\n",
      "only showing top 20 rows\n",
      "\n"
     ]
    }
   ],
   "source": [
    "df.show()"
   ]
  },
  {
   "cell_type": "code",
   "execution_count": 5,
   "metadata": {},
   "outputs": [
    {
     "name": "stdout",
     "output_type": "stream",
     "text": [
      "+-------+------------------+------+--------------+----------+--------------+--------------------------+------------------+--------------------+------------------+------------------+------+---------+----+\n",
      "|summary|               Age|Gender|Marital Status|Occupation|Monthly Income|Educational Qualifications|       Family size|            latitude|         longitude|          Pin code|Output| Feedback|_c12|\n",
      "+-------+------------------+------+--------------+----------+--------------+--------------------------+------------------+--------------------+------------------+------------------+------+---------+----+\n",
      "|  count|               388|   388|           388|       388|           388|                       388|               388|                 388|               388|               388|   388|      388| 388|\n",
      "|   mean|24.628865979381445|  NULL|          NULL|      NULL|          NULL|                      NULL|3.2809278350515463|  12.972057989690706| 77.60015953608251| 560040.1134020619|  NULL|     NULL|NULL|\n",
      "| stddev| 2.975592660672904|  NULL|          NULL|      NULL|          NULL|                      NULL|1.3510249396453127|0.044489248628105924|0.0513539170127217|31.399608710261372|  NULL|     NULL|NULL|\n",
      "|    min|                18|Female|       Married|  Employee|10001 to 25000|                  Graduate|                 1|             12.8652|           77.4842|            560001|    No|Negative |  No|\n",
      "|    max|                33|  Male|        Single|   Student|     No Income|                Uneducated|                 6|              13.102|           77.7582|            560109|   Yes| Positive| Yes|\n",
      "+-------+------------------+------+--------------+----------+--------------+--------------------------+------------------+--------------------+------------------+------------------+------+---------+----+\n",
      "\n"
     ]
    }
   ],
   "source": [
    "df.describe().show()"
   ]
  },
  {
   "cell_type": "code",
   "execution_count": 6,
   "metadata": {},
   "outputs": [
    {
     "name": "stdout",
     "output_type": "stream",
     "text": [
      "root\n",
      " |-- Age: integer (nullable = true)\n",
      " |-- Gender: string (nullable = true)\n",
      " |-- Marital Status: string (nullable = true)\n",
      " |-- Occupation: string (nullable = true)\n",
      " |-- Monthly Income: string (nullable = true)\n",
      " |-- Educational Qualifications: string (nullable = true)\n",
      " |-- Family size: integer (nullable = true)\n",
      " |-- latitude: double (nullable = true)\n",
      " |-- longitude: double (nullable = true)\n",
      " |-- Pin code: integer (nullable = true)\n",
      " |-- Output: string (nullable = true)\n",
      " |-- Feedback: string (nullable = true)\n",
      " |-- _c12: string (nullable = true)\n",
      "\n"
     ]
    }
   ],
   "source": [
    "df.printSchema()"
   ]
  },
  {
   "cell_type": "code",
   "execution_count": 7,
   "metadata": {},
   "outputs": [
    {
     "data": {
      "text/plain": [
       "False"
      ]
     },
     "execution_count": 7,
     "metadata": {},
     "output_type": "execute_result"
    }
   ],
   "source": [
    "df.isEmpty()"
   ]
  },
  {
   "cell_type": "code",
   "execution_count": 8,
   "metadata": {},
   "outputs": [
    {
     "data": {
      "text/plain": [
       "['Age',\n",
       " 'Gender',\n",
       " 'Marital Status',\n",
       " 'Occupation',\n",
       " 'Monthly Income',\n",
       " 'Educational Qualifications',\n",
       " 'Family size',\n",
       " 'latitude',\n",
       " 'longitude',\n",
       " 'Pin code',\n",
       " 'Output',\n",
       " 'Feedback',\n",
       " '_c12']"
      ]
     },
     "execution_count": 8,
     "metadata": {},
     "output_type": "execute_result"
    }
   ],
   "source": [
    "df.columns"
   ]
  },
  {
   "cell_type": "code",
   "execution_count": 9,
   "metadata": {},
   "outputs": [
    {
     "data": {
      "text/plain": [
       "388"
      ]
     },
     "execution_count": 9,
     "metadata": {},
     "output_type": "execute_result"
    }
   ],
   "source": [
    "df.count()"
   ]
  },
  {
   "cell_type": "code",
   "execution_count": 10,
   "metadata": {},
   "outputs": [
    {
     "data": {
      "text/plain": [
       "[Row(Age=20, Gender='Female', Marital Status='Single', Occupation='Student', Monthly Income='No Income', Educational Qualifications='Post Graduate', Family size=4, latitude=12.9766, longitude=77.5993, Pin code=560001, Output='Yes', Feedback='Positive', _c12='Yes'),\n",
       " Row(Age=24, Gender='Female', Marital Status='Single', Occupation='Student', Monthly Income='Below Rs.10000', Educational Qualifications='Graduate', Family size=3, latitude=12.977, longitude=77.5773, Pin code=560009, Output='Yes', Feedback='Positive', _c12='Yes'),\n",
       " Row(Age=22, Gender='Male', Marital Status='Single', Occupation='Student', Monthly Income='Below Rs.10000', Educational Qualifications='Post Graduate', Family size=3, latitude=12.9551, longitude=77.6593, Pin code=560017, Output='Yes', Feedback='Negative ', _c12='Yes'),\n",
       " Row(Age=22, Gender='Female', Marital Status='Single', Occupation='Student', Monthly Income='No Income', Educational Qualifications='Graduate', Family size=6, latitude=12.9473, longitude=77.5616, Pin code=560019, Output='Yes', Feedback='Positive', _c12='Yes'),\n",
       " Row(Age=22, Gender='Male', Marital Status='Single', Occupation='Student', Monthly Income='Below Rs.10000', Educational Qualifications='Post Graduate', Family size=4, latitude=12.985, longitude=77.5533, Pin code=560010, Output='Yes', Feedback='Positive', _c12='Yes'),\n",
       " Row(Age=27, Gender='Female', Marital Status='Married', Occupation='Employee', Monthly Income='More than 50000', Educational Qualifications='Post Graduate', Family size=2, latitude=12.9299, longitude=77.6848, Pin code=560103, Output='Yes', Feedback='Positive', _c12='Yes'),\n",
       " Row(Age=22, Gender='Male', Marital Status='Single', Occupation='Student', Monthly Income='No Income', Educational Qualifications='Graduate', Family size=3, latitude=12.977, longitude=77.5773, Pin code=560009, Output='Yes', Feedback='Positive', _c12='Yes'),\n",
       " Row(Age=24, Gender='Female', Marital Status='Single', Occupation='Student', Monthly Income='No Income', Educational Qualifications='Post Graduate', Family size=3, latitude=12.9828, longitude=77.6131, Pin code=560042, Output='Yes', Feedback='Positive', _c12='Yes'),\n",
       " Row(Age=23, Gender='Female', Marital Status='Single', Occupation='Student', Monthly Income='No Income', Educational Qualifications='Post Graduate', Family size=2, latitude=12.9766, longitude=77.5993, Pin code=560001, Output='Yes', Feedback='Positive', _c12='Yes'),\n",
       " Row(Age=23, Gender='Female', Marital Status='Single', Occupation='Student', Monthly Income='No Income', Educational Qualifications='Post Graduate', Family size=4, latitude=12.9854, longitude=77.7081, Pin code=560048, Output='Yes', Feedback='Positive', _c12='Yes')]"
      ]
     },
     "execution_count": 10,
     "metadata": {},
     "output_type": "execute_result"
    }
   ],
   "source": [
    "df.head(10)"
   ]
  },
  {
   "cell_type": "code",
   "execution_count": 11,
   "metadata": {},
   "outputs": [],
   "source": [
    "new_df = df.select('Age', 'Monthly Income')"
   ]
  },
  {
   "cell_type": "code",
   "execution_count": 12,
   "metadata": {},
   "outputs": [
    {
     "name": "stdout",
     "output_type": "stream",
     "text": [
      "+---+---------------+\n",
      "|Age| Monthly Income|\n",
      "+---+---------------+\n",
      "| 20|      No Income|\n",
      "| 24| Below Rs.10000|\n",
      "| 22| Below Rs.10000|\n",
      "| 22|      No Income|\n",
      "| 22| Below Rs.10000|\n",
      "| 27|More than 50000|\n",
      "| 22|      No Income|\n",
      "| 24|      No Income|\n",
      "| 23|      No Income|\n",
      "| 23|      No Income|\n",
      "| 22|      No Income|\n",
      "| 23| Below Rs.10000|\n",
      "| 23|      No Income|\n",
      "| 21|      No Income|\n",
      "| 23| 10001 to 25000|\n",
      "| 24|      No Income|\n",
      "| 28| 25001 to 50000|\n",
      "| 23|      No Income|\n",
      "| 25|      No Income|\n",
      "| 21| Below Rs.10000|\n",
      "+---+---------------+\n",
      "only showing top 20 rows\n",
      "\n"
     ]
    }
   ],
   "source": [
    "new_df.show()"
   ]
  },
  {
   "cell_type": "code",
   "execution_count": 13,
   "metadata": {},
   "outputs": [
    {
     "name": "stdout",
     "output_type": "stream",
     "text": [
      "Row(Age=20, Gender='Female', Marital Status='Single', Occupation='Student', Monthly Income='No Income', Educational Qualifications='Post Graduate', Family size=4, latitude=12.9766, longitude=77.5993, Pin code=560001, Output='Yes', Feedback='Positive', _c12='Yes')\n",
      "Row(Age=24, Gender='Female', Marital Status='Single', Occupation='Student', Monthly Income='Below Rs.10000', Educational Qualifications='Graduate', Family size=3, latitude=12.977, longitude=77.5773, Pin code=560009, Output='Yes', Feedback='Positive', _c12='Yes')\n"
     ]
    }
   ],
   "source": [
    "first_two_rows = df.take(2)\n",
    "\n",
    "# Print the result\n",
    "for row in first_two_rows:\n",
    "    print(row)"
   ]
  },
  {
   "cell_type": "code",
   "execution_count": 17,
   "metadata": {},
   "outputs": [
    {
     "data": {
      "text/plain": [
       "{'Age': 20,\n",
       " 'Gender': 'Female',\n",
       " 'Marital Status': 'Single',\n",
       " 'Occupation': 'Student',\n",
       " 'Monthly Income': 'No Income',\n",
       " 'Educational Qualifications': 'Post Graduate',\n",
       " 'Family size': 4,\n",
       " 'latitude': 12.9766,\n",
       " 'longitude': 77.5993,\n",
       " 'Pin code': 560001,\n",
       " 'Output': 'Yes',\n",
       " 'Feedback': 'Positive',\n",
       " '_c12': 'Yes'}"
      ]
     },
     "execution_count": 17,
     "metadata": {},
     "output_type": "execute_result"
    }
   ],
   "source": [
    "first_row = df.first()\n",
    "\n",
    "# Convert row to dictionary\n",
    "row_dict = first_row.asDict()\n",
    "\n",
    "row_dict"
   ]
  },
  {
   "cell_type": "code",
   "execution_count": 19,
   "metadata": {},
   "outputs": [
    {
     "name": "stdout",
     "output_type": "stream",
     "text": [
      "+---+------+--------------+--------------+---------------+--------------------------+-----------+--------+---------+--------+------+---------+----+----------------------+\n",
      "|Age|Gender|Marital Status|    Occupation| Monthly Income|Educational Qualifications|Family size|latitude|longitude|Pin code|Output| Feedback|_c12|Post_Graduate_Customer|\n",
      "+---+------+--------------+--------------+---------------+--------------------------+-----------+--------+---------+--------+------+---------+----+----------------------+\n",
      "| 20|Female|        Single|       Student|      No Income|             Post Graduate|          4| 12.9766|  77.5993|  560001|   Yes| Positive| Yes|                   Yes|\n",
      "| 24|Female|        Single|       Student| Below Rs.10000|                  Graduate|          3|  12.977|  77.5773|  560009|   Yes| Positive| Yes|                    No|\n",
      "| 22|  Male|        Single|       Student| Below Rs.10000|             Post Graduate|          3| 12.9551|  77.6593|  560017|   Yes|Negative | Yes|                   Yes|\n",
      "| 22|Female|        Single|       Student|      No Income|                  Graduate|          6| 12.9473|  77.5616|  560019|   Yes| Positive| Yes|                    No|\n",
      "| 22|  Male|        Single|       Student| Below Rs.10000|             Post Graduate|          4|  12.985|  77.5533|  560010|   Yes| Positive| Yes|                   Yes|\n",
      "| 27|Female|       Married|      Employee|More than 50000|             Post Graduate|          2| 12.9299|  77.6848|  560103|   Yes| Positive| Yes|                   Yes|\n",
      "| 22|  Male|        Single|       Student|      No Income|                  Graduate|          3|  12.977|  77.5773|  560009|   Yes| Positive| Yes|                    No|\n",
      "| 24|Female|        Single|       Student|      No Income|             Post Graduate|          3| 12.9828|  77.6131|  560042|   Yes| Positive| Yes|                   Yes|\n",
      "| 23|Female|        Single|       Student|      No Income|             Post Graduate|          2| 12.9766|  77.5993|  560001|   Yes| Positive| Yes|                   Yes|\n",
      "| 23|Female|        Single|       Student|      No Income|             Post Graduate|          4| 12.9854|  77.7081|  560048|   Yes| Positive| Yes|                   Yes|\n",
      "| 22|Female|        Single|       Student|      No Income|             Post Graduate|          5|  12.985|  77.5533|  560010|   Yes| Positive| Yes|                   Yes|\n",
      "| 23|  Male|        Single|       Student| Below Rs.10000|             Post Graduate|          2|  12.977|  77.5773|  560009|   Yes|Negative | Yes|                   Yes|\n",
      "| 23|  Male|        Single|       Student|      No Income|             Post Graduate|          5| 12.8988|  77.5764|  560078|   Yes| Positive| Yes|                   Yes|\n",
      "| 21|  Male|        Single|       Student|      No Income|                  Graduate|          4|  12.977|  77.5773|  560009|   Yes| Positive| Yes|                    No|\n",
      "| 23|Female|        Single|Self Employeed| 10001 to 25000|             Post Graduate|          5| 12.9438|  77.5738|  560004|   Yes| Positive| Yes|                   Yes|\n",
      "| 24|Female|        Single|       Student|      No Income|             Post Graduate|          6| 12.8893|  77.6399|  560068|   Yes| Positive| Yes|                   Yes|\n",
      "| 28|Female|        Single|      Employee| 25001 to 50000|             Post Graduate|          2| 12.9783|  77.6408|  560038|   Yes| Positive| Yes|                   Yes|\n",
      "| 23|Female|        Single|       Student|      No Income|                  Graduate|          3|  12.982|  77.6256|  560008|   Yes|Negative | Yes|                    No|\n",
      "| 25|  Male|        Single|       Student|      No Income|                  Graduate|          4| 12.8988|  77.5764|  560078|   Yes|Negative | Yes|                    No|\n",
      "| 21|Female|        Single|       Student| Below Rs.10000|             Post Graduate|          1| 12.9783|  77.6408|  560038|   Yes| Positive| Yes|                   Yes|\n",
      "+---+------+--------------+--------------+---------------+--------------------------+-----------+--------+---------+--------+------+---------+----+----------------------+\n",
      "only showing top 20 rows\n",
      "\n"
     ]
    }
   ],
   "source": [
    "# Adding column based on some condition\n",
    "df = df.withColumn(\"Post_Graduate_Customer\", when(df[\"Educational Qualifications\"] == \"Post Graduate\", \"Yes\").otherwise(\"No\"))\n",
    "\n",
    "df.show()"
   ]
  },
  {
   "cell_type": "code",
   "execution_count": 20,
   "metadata": {},
   "outputs": [
    {
     "name": "stdout",
     "output_type": "stream",
     "text": [
      "+---+------+--------------+--------------+---------------+--------------------------+-----------+--------+---------+--------+------+---------+----+----------------------+\n",
      "|Age|Gender|Marital Status|    Job Status| Monthly Income|Educational Qualifications|Family size|latitude|longitude|Pin code|Output| Feedback|_c12|Post_Graduate_Customer|\n",
      "+---+------+--------------+--------------+---------------+--------------------------+-----------+--------+---------+--------+------+---------+----+----------------------+\n",
      "| 20|Female|        Single|       Student|      No Income|             Post Graduate|          4| 12.9766|  77.5993|  560001|   Yes| Positive| Yes|                   Yes|\n",
      "| 24|Female|        Single|       Student| Below Rs.10000|                  Graduate|          3|  12.977|  77.5773|  560009|   Yes| Positive| Yes|                    No|\n",
      "| 22|  Male|        Single|       Student| Below Rs.10000|             Post Graduate|          3| 12.9551|  77.6593|  560017|   Yes|Negative | Yes|                   Yes|\n",
      "| 22|Female|        Single|       Student|      No Income|                  Graduate|          6| 12.9473|  77.5616|  560019|   Yes| Positive| Yes|                    No|\n",
      "| 22|  Male|        Single|       Student| Below Rs.10000|             Post Graduate|          4|  12.985|  77.5533|  560010|   Yes| Positive| Yes|                   Yes|\n",
      "| 27|Female|       Married|      Employee|More than 50000|             Post Graduate|          2| 12.9299|  77.6848|  560103|   Yes| Positive| Yes|                   Yes|\n",
      "| 22|  Male|        Single|       Student|      No Income|                  Graduate|          3|  12.977|  77.5773|  560009|   Yes| Positive| Yes|                    No|\n",
      "| 24|Female|        Single|       Student|      No Income|             Post Graduate|          3| 12.9828|  77.6131|  560042|   Yes| Positive| Yes|                   Yes|\n",
      "| 23|Female|        Single|       Student|      No Income|             Post Graduate|          2| 12.9766|  77.5993|  560001|   Yes| Positive| Yes|                   Yes|\n",
      "| 23|Female|        Single|       Student|      No Income|             Post Graduate|          4| 12.9854|  77.7081|  560048|   Yes| Positive| Yes|                   Yes|\n",
      "| 22|Female|        Single|       Student|      No Income|             Post Graduate|          5|  12.985|  77.5533|  560010|   Yes| Positive| Yes|                   Yes|\n",
      "| 23|  Male|        Single|       Student| Below Rs.10000|             Post Graduate|          2|  12.977|  77.5773|  560009|   Yes|Negative | Yes|                   Yes|\n",
      "| 23|  Male|        Single|       Student|      No Income|             Post Graduate|          5| 12.8988|  77.5764|  560078|   Yes| Positive| Yes|                   Yes|\n",
      "| 21|  Male|        Single|       Student|      No Income|                  Graduate|          4|  12.977|  77.5773|  560009|   Yes| Positive| Yes|                    No|\n",
      "| 23|Female|        Single|Self Employeed| 10001 to 25000|             Post Graduate|          5| 12.9438|  77.5738|  560004|   Yes| Positive| Yes|                   Yes|\n",
      "| 24|Female|        Single|       Student|      No Income|             Post Graduate|          6| 12.8893|  77.6399|  560068|   Yes| Positive| Yes|                   Yes|\n",
      "| 28|Female|        Single|      Employee| 25001 to 50000|             Post Graduate|          2| 12.9783|  77.6408|  560038|   Yes| Positive| Yes|                   Yes|\n",
      "| 23|Female|        Single|       Student|      No Income|                  Graduate|          3|  12.982|  77.6256|  560008|   Yes|Negative | Yes|                    No|\n",
      "| 25|  Male|        Single|       Student|      No Income|                  Graduate|          4| 12.8988|  77.5764|  560078|   Yes|Negative | Yes|                    No|\n",
      "| 21|Female|        Single|       Student| Below Rs.10000|             Post Graduate|          1| 12.9783|  77.6408|  560038|   Yes| Positive| Yes|                   Yes|\n",
      "+---+------+--------------+--------------+---------------+--------------------------+-----------+--------+---------+--------+------+---------+----+----------------------+\n",
      "only showing top 20 rows\n",
      "\n"
     ]
    }
   ],
   "source": [
    "df = df.withColumnRenamed(\"Occupation\", \"Job Status\")\n",
    "\n",
    "df.show()"
   ]
  },
  {
   "cell_type": "code",
   "execution_count": 21,
   "metadata": {},
   "outputs": [
    {
     "data": {
      "text/plain": [
       "DataFrame[Age: int, Gender: string, Marital Status: string, Job Status: string, Monthly Income: string, Educational Qualifications: string, Family size: int, latitude: double, longitude: double, Pin code: int, Output: string, Feedback: string, _c12: string]"
      ]
     },
     "execution_count": 21,
     "metadata": {},
     "output_type": "execute_result"
    }
   ],
   "source": [
    "# Dropping column\n",
    "df.drop(\"Post_Graduate_Customer\")"
   ]
  },
  {
   "cell_type": "code",
   "execution_count": 22,
   "metadata": {},
   "outputs": [
    {
     "name": "stdout",
     "output_type": "stream",
     "text": [
      "DataFrame after removing duplicates\n",
      "+---+------+-----------------+--------------+---------------+--------------------------+-----------+--------+---------+--------+------+---------+----+----------------------+\n",
      "|Age|Gender|   Marital Status|    Job Status| Monthly Income|Educational Qualifications|Family size|latitude|longitude|Pin code|Output| Feedback|_c12|Post_Graduate_Customer|\n",
      "+---+------+-----------------+--------------+---------------+--------------------------+-----------+--------+---------+--------+------+---------+----+----------------------+\n",
      "| 23|  Male|           Single|      Employee| 10001 to 25000|             Post Graduate|          2|  12.985|  77.5533|  560010|   Yes| Positive| Yes|                   Yes|\n",
      "| 26|Female|           Single|Self Employeed| 25001 to 50000|             Post Graduate|          3| 12.9635|  77.5821|  560002|   Yes| Positive| Yes|                   Yes|\n",
      "| 29|  Male|           Single|      Employee| 25001 to 50000|                  Graduate|          3| 13.0641|  77.5931|  560092|    No|Negative |  No|                    No|\n",
      "| 21|  Male|           Single|       Student|      No Income|                  Graduate|          3| 13.0641|  77.5931|  560092|   Yes|Negative | Yes|                    No|\n",
      "| 18|  Male|           Single|       Student|      No Income|                  Graduate|          5| 12.9635|  77.5821|  560002|   Yes| Positive| Yes|                    No|\n",
      "| 32|Female|          Married|      Employee|More than 50000|                  Graduate|          1| 13.0019|  77.5713|  560003|    No| Positive|  No|                    No|\n",
      "| 19|  Male|           Single|       Student|      No Income|                  Graduate|          6| 12.9442|  77.6076|  560030|   Yes| Positive| Yes|                    No|\n",
      "| 23|  Male|           Single|       Student|      No Income|                  Graduate|          4| 13.0103|  77.5796|  560080|   Yes| Positive| Yes|                    No|\n",
      "| 26|Female|          Married|       Student| Below Rs.10000|                      Ph.D|          3| 13.0166|  77.6804|  560016|   Yes| Positive| Yes|                    No|\n",
      "| 22|  Male|           Single|       Student| Below Rs.10000|             Post Graduate|          3| 12.9551|  77.6593|  560017|   Yes|Negative | Yes|                   Yes|\n",
      "| 26|  Male|           Single|      Employee| 25001 to 50000|             Post Graduate|          3|  13.014|  77.5658|  560012|   Yes| Positive| Yes|                   Yes|\n",
      "| 23|Female|           Single|       Student|      No Income|                  Graduate|          1|  12.977|  77.5773|  560009|   Yes| Positive| Yes|                    No|\n",
      "| 24|  Male|           Single|       Student|      No Income|             Post Graduate|          3| 13.0138|  77.5877|  560006|    No|Negative |  No|                   Yes|\n",
      "| 24|Female|          Married|      Employee| 25001 to 50000|             Post Graduate|          2|  12.957|  77.5637|  560018|   Yes|Negative | Yes|                   Yes|\n",
      "| 31|  Male|          Married|Self Employeed|More than 50000|                    School|          6| 13.0487|  77.5923|  560024|   Yes| Positive| Yes|                    No|\n",
      "| 22|  Male|           Single|      Employee| 10001 to 25000|                  Graduate|          2| 12.9299|  77.6848|  560103|   Yes| Positive| Yes|                    No|\n",
      "| 22|  Male|          Married|Self Employeed| 10001 to 25000|                    School|          3|  12.982|  77.6256|  560008|   Yes|Negative | Yes|                    No|\n",
      "| 28|  Male|          Married|      Employee| 25001 to 50000|             Post Graduate|          5| 13.0262|    77.62|  560045|   Yes| Positive| Yes|                   Yes|\n",
      "| 24|Female|           Single|       Student|      No Income|             Post Graduate|          4| 13.0496|  77.4941|  560073|   Yes| Positive| Yes|                   Yes|\n",
      "| 32|Female|Prefer not to say|    House wife|      No Income|                  Graduate|          5|  12.982|  77.6256|  560008|   Yes|Negative | Yes|                    No|\n",
      "+---+------+-----------------+--------------+---------------+--------------------------+-----------+--------+---------+--------+------+---------+----+----------------------+\n",
      "only showing top 20 rows\n",
      "\n"
     ]
    }
   ],
   "source": [
    "# using distinct() to remove duplicates\n",
    "distinct_df = df.distinct()\n",
    "\n",
    "print(\"DataFrame after removing duplicates\")\n",
    "distinct_df.show()"
   ]
  },
  {
   "cell_type": "code",
   "execution_count": 25,
   "metadata": {},
   "outputs": [
    {
     "name": "stdout",
     "output_type": "stream",
     "text": [
      "+-----+---+-------------+\n",
      "| Name|Age|MaritalStatus|\n",
      "+-----+---+-------------+\n",
      "|Alice| 34|       Single|\n",
      "|  Bob| 45|      Married|\n",
      "+-----+---+-------------+\n",
      "\n"
     ]
    }
   ],
   "source": [
    "# Example data\n",
    "data = [(\"Alice\", 34, \"Single\"),\n",
    "        (\"Bob\", 45, \"Married\"),\n",
    "        (\"Charlie\", 28, \"Single\")]\n",
    "\n",
    "columns = [\"Name\", \"Age\", \"MaritalStatus\"]\n",
    "df_new_data = spark.createDataFrame(data,columns)\n",
    "\n",
    "# Register the dataFrame as temporary view\n",
    "df_new_data.createOrReplaceTempView(\"people\")\n",
    "\n",
    "# Executing sql query using spark sql\n",
    "result = spark.sql(\"Select * from people where Age > 30\")\n",
    "\n",
    "result.show()"
   ]
  },
  {
   "cell_type": "code",
   "execution_count": 33,
   "metadata": {},
   "outputs": [
    {
     "name": "stdout",
     "output_type": "stream",
     "text": [
      "+---+------+-----------------+--------------+---------------+--------------------------+-----------+--------+---------+--------+------+---------+----+----------------------+\n",
      "|Age|Gender|   Marital Status|    Job Status| Monthly Income|Educational Qualifications|Family size|latitude|longitude|Pin code|Output| Feedback|_c12|Post_Graduate_Customer|\n",
      "+---+------+-----------------+--------------+---------------+--------------------------+-----------+--------+---------+--------+------+---------+----+----------------------+\n",
      "| 32|Female|Prefer not to say|    House wife|      No Income|                  Graduate|          5|  12.982|  77.6256|  560008|   Yes|Negative | Yes|                    No|\n",
      "| 32|Female|          Married|    House wife|      No Income|                Uneducated|          3|  13.014|  77.5658|  560012|    No| Positive|  No|                    No|\n",
      "| 32|Female|          Married|      Employee| 25001 to 50000|                  Graduate|          5| 12.9261|  77.6221|  560034|   Yes| Positive| Yes|                    No|\n",
      "| 32|  Male|          Married|      Employee|More than 50000|                      Ph.D|          5| 12.9635|  77.5821|  560002|   Yes|Negative | Yes|                    No|\n",
      "| 32|Female|          Married|      Employee|More than 50000|                  Graduate|          1| 13.0019|  77.5713|  560003|    No| Positive|  No|                    No|\n",
      "| 33|  Male|          Married|      Employee|More than 50000|                      Ph.D|          5|  12.998|  77.6227|  560005|    No|Negative |  No|                    No|\n",
      "| 32|  Male|          Married|      Employee| 10001 to 25000|                  Graduate|          4| 12.9783|  77.6408|  560038|   Yes| Positive| Yes|                    No|\n",
      "| 32|Female|          Married|    House wife|      No Income|                  Graduate|          3|  12.985|  77.5533|  560010|   Yes| Positive| Yes|                    No|\n",
      "| 32|Female|          Married|    House wife|      No Income|                    School|          5| 12.9889|  77.5741|  560020|   Yes| Positive| Yes|                    No|\n",
      "| 32|  Male|          Married|Self Employeed| 10001 to 25000|                    School|          3|  12.982|  77.6256|  560008|   Yes|Negative | Yes|                    No|\n",
      "| 32|  Male|          Married|      Employee|More than 50000|                  Graduate|          5| 12.9037|  77.5376|  560061|   Yes| Positive| Yes|                    No|\n",
      "| 32|  Male|          Married|      Employee| 25001 to 50000|                  Graduate|          3| 12.9706|  77.6529|  560075|   Yes| Positive| Yes|                    No|\n",
      "| 32|  Male|          Married|      Employee|More than 50000|             Post Graduate|          6| 12.9369|  77.6407|  560095|   Yes| Positive| Yes|                   Yes|\n",
      "| 32|  Male|          Married|      Employee|More than 50000|                  Graduate|          5| 12.9037|  77.5376|  560061|   Yes| Positive| Yes|                    No|\n",
      "| 32|  Male|          Married|      Employee| 25001 to 50000|                  Graduate|          3| 12.9706|  77.6529|  560075|   Yes| Positive| Yes|                    No|\n",
      "| 32|  Male|          Married|      Employee|More than 50000|             Post Graduate|          6| 12.9369|  77.6407|  560095|   Yes| Positive| Yes|                   Yes|\n",
      "| 32|  Male|          Married|      Employee| 25001 to 50000|                  Graduate|          3| 12.9706|  77.6529|  560075|   Yes| Positive| Yes|                    No|\n",
      "+---+------+-----------------+--------------+---------------+--------------------------+-----------+--------+---------+--------+------+---------+----+----------------------+\n",
      "\n"
     ]
    }
   ],
   "source": [
    "# Register the dataFrame as temporary view\n",
    "df.createOrReplaceTempView(\"food\")\n",
    "\n",
    "# Executing sql query using spark sql\n",
    "result = spark.sql(\"Select * from food where Age > 31\")\n",
    "\n",
    "result.show()"
   ]
  },
  {
   "cell_type": "code",
   "execution_count": 34,
   "metadata": {},
   "outputs": [
    {
     "name": "stdout",
     "output_type": "stream",
     "text": [
      "+-------+------------------+------+--------------+----------+--------------+--------------------------+------------------+--------------------+------------------+------------------+------+---------+----+----------------------+\n",
      "|summary|               Age|Gender|Marital Status|Job Status|Monthly Income|Educational Qualifications|       Family size|            latitude|         longitude|          Pin code|Output| Feedback|_c12|Post_Graduate_Customer|\n",
      "+-------+------------------+------+--------------+----------+--------------+--------------------------+------------------+--------------------+------------------+------------------+------+---------+----+----------------------+\n",
      "|  count|               388|   388|           388|       388|           388|                       388|               388|                 388|               388|               388|   388|      388| 388|                   388|\n",
      "|   mean|24.628865979381445|  NULL|          NULL|      NULL|          NULL|                      NULL|3.2809278350515463|  12.972057989690706| 77.60015953608251| 560040.1134020619|  NULL|     NULL|NULL|                  NULL|\n",
      "| stddev| 2.975592660672904|  NULL|          NULL|      NULL|          NULL|                      NULL|1.3510249396453127|0.044489248628105924|0.0513539170127217|31.399608710261372|  NULL|     NULL|NULL|                  NULL|\n",
      "|    min|                18|Female|       Married|  Employee|10001 to 25000|                  Graduate|                 1|             12.8652|           77.4842|            560001|    No|Negative |  No|                    No|\n",
      "|    max|                33|  Male|        Single|   Student|     No Income|                Uneducated|                 6|              13.102|           77.7582|            560109|   Yes| Positive| Yes|                   Yes|\n",
      "+-------+------------------+------+--------------+----------+--------------+--------------------------+------------------+--------------------+------------------+------------------+------+---------+----+----------------------+\n",
      "\n"
     ]
    }
   ],
   "source": [
    "df.describe().show()"
   ]
  },
  {
   "cell_type": "code",
   "execution_count": 37,
   "metadata": {},
   "outputs": [
    {
     "data": {
      "text/plain": [
       "[('Age', 'int'),\n",
       " ('Gender', 'string'),\n",
       " ('Marital Status', 'string'),\n",
       " ('Job Status', 'string'),\n",
       " ('Monthly Income', 'string'),\n",
       " ('Educational Qualifications', 'string'),\n",
       " ('Family size', 'int'),\n",
       " ('latitude', 'double'),\n",
       " ('longitude', 'double'),\n",
       " ('Pin code', 'int'),\n",
       " ('Output', 'string'),\n",
       " ('Feedback', 'string'),\n",
       " ('_c12', 'string'),\n",
       " ('Post_Graduate_Customer', 'string')]"
      ]
     },
     "execution_count": 37,
     "metadata": {},
     "output_type": "execute_result"
    }
   ],
   "source": [
    "filtered_df.dtypes"
   ]
  },
  {
   "cell_type": "code",
   "execution_count": 38,
   "metadata": {},
   "outputs": [
    {
     "name": "stdout",
     "output_type": "stream",
     "text": [
      "+---+------+--------------+--------------+---------------+--------------------------+-----------+--------+---------+--------+------+---------+----+----------------------+\n",
      "|Age|Gender|Marital Status|    Job Status| Monthly Income|Educational Qualifications|Family size|latitude|longitude|Pin code|Output| Feedback|_c12|Post_Graduate_Customer|\n",
      "+---+------+--------------+--------------+---------------+--------------------------+-----------+--------+---------+--------+------+---------+----+----------------------+\n",
      "| 28|Female|        Single|      Employee| 25001 to 50000|             Post Graduate|          2| 12.9783|  77.6408|  560038|   Yes| Positive| Yes|                   Yes|\n",
      "| 26|  Male|        Single|       Student|      No Income|             Post Graduate|          4| 13.0019|  77.5713|  560003|   Yes| Positive| Yes|                   Yes|\n",
      "| 26|  Male|        Single|       Student|      No Income|             Post Graduate|          4| 12.9048|  77.6821|  560036|   Yes| Positive| Yes|                   Yes|\n",
      "| 26|  Male|        Single|Self Employeed| 10001 to 25000|                      Ph.D|          1| 12.9698|    77.75|  560066|    No| Positive|  No|                    No|\n",
      "| 26|  Male|        Single|      Employee| 25001 to 50000|                  Graduate|          2| 12.9261|  77.6221|  560034|   Yes|Negative | Yes|                    No|\n",
      "| 26|  Male|        Single|      Employee|More than 50000|             Post Graduate|          2| 12.9698|    77.75|  560066|    No| Positive|  No|                   Yes|\n",
      "| 26|  Male|        Single|Self Employeed| 25001 to 50000|                  Graduate|          3| 12.9766|  77.5993|  560001|   Yes| Positive| Yes|                    No|\n",
      "| 26|Female|        Single|Self Employeed| 25001 to 50000|             Post Graduate|          3| 12.9635|  77.5821|  560002|   Yes| Positive| Yes|                   Yes|\n",
      "| 26|Female|        Single|      Employee|More than 50000|                  Graduate|          3|  12.998|  77.6227|  560005|   Yes| Positive| Yes|                    No|\n",
      "| 26|  Male|        Single|      Employee|More than 50000|             Post Graduate|          3| 12.9337|    77.59|  560011|    No|Negative |  No|                   Yes|\n",
      "| 26|  Male|        Single|      Employee| 25001 to 50000|             Post Graduate|          3|  13.014|  77.5658|  560012|   Yes| Positive| Yes|                   Yes|\n",
      "| 27|  Male|        Single|      Employee|More than 50000|                      Ph.D|          4| 13.0503|  77.5529|  560013|    No| Positive|  No|                    No|\n",
      "| 27|Female|        Single|       Student|      No Income|                      Ph.D|          5| 13.0503|  77.5529|  560013|    No|Negative |  No|                    No|\n",
      "| 26|  Male|        Single|      Employee| Below Rs.10000|             Post Graduate|          1|  12.957|  77.5637|  560018|   Yes|Negative | Yes|                   Yes|\n",
      "| 26|  Male|        Single|      Employee| 25001 to 50000|                  Graduate|          2| 12.9343|  77.6044|  560029|   Yes| Positive| Yes|                    No|\n",
      "| 26|  Male|        Single|      Employee| 10001 to 25000|                  Graduate|          2| 12.9217|  77.5936|  560041|    No|Negative |  No|                    No|\n",
      "| 28|  Male|        Single|Self Employeed| 10001 to 25000|             Post Graduate|          2| 12.9149|  77.5635|  560070|   Yes| Positive| Yes|                   Yes|\n",
      "| 29|  Male|        Single|Self Employeed|More than 50000|                  Graduate|          6| 12.8845|  77.6036|  560076|   Yes| Positive| Yes|                    No|\n",
      "| 29|  Male|        Single|      Employee| 25001 to 50000|                  Graduate|          3| 13.0641|  77.5931|  560092|    No|Negative |  No|                    No|\n",
      "| 26|Female|        Single|      Employee| 25001 to 50000|             Post Graduate|          2| 12.9783|  77.6408|  560038|   Yes| Positive| Yes|                   Yes|\n",
      "+---+------+--------------+--------------+---------------+--------------------------+-----------+--------+---------+--------+------+---------+----+----------------------+\n",
      "only showing top 20 rows\n",
      "\n"
     ]
    }
   ],
   "source": [
    "filtered_df = df.filter((col(\"Age\") > 25) & (col(\"Marital Status\") == \"Single\"))\n",
    "\n",
    "filtered_df.show()"
   ]
  },
  {
   "cell_type": "code",
   "execution_count": 39,
   "metadata": {},
   "outputs": [
    {
     "name": "stdout",
     "output_type": "stream",
     "text": [
      "[Row(Age=20, Gender='Female', Marital Status='Single', Job Status='Student', Monthly Income='No Income', Educational Qualifications='Post Graduate', Family size=4, latitude=12.9766, longitude=77.5993, Pin code=560001, Output='Yes', Feedback='Positive', _c12='Yes', Post_Graduate_Customer='Yes'), Row(Age=24, Gender='Female', Marital Status='Single', Job Status='Student', Monthly Income='Below Rs.10000', Educational Qualifications='Graduate', Family size=3, latitude=12.977, longitude=77.5773, Pin code=560009, Output='Yes', Feedback='Positive', _c12='Yes', Post_Graduate_Customer='No'), Row(Age=22, Gender='Male', Marital Status='Single', Job Status='Student', Monthly Income='Below Rs.10000', Educational Qualifications='Post Graduate', Family size=3, latitude=12.9551, longitude=77.6593, Pin code=560017, Output='Yes', Feedback='Negative ', _c12='Yes', Post_Graduate_Customer='Yes'), Row(Age=22, Gender='Female', Marital Status='Single', Job Status='Student', Monthly Income='No Income', Educational Qualifications='Graduate', Family size=6, latitude=12.9473, longitude=77.5616, Pin code=560019, Output='Yes', Feedback='Positive', _c12='Yes', Post_Graduate_Customer='No'), Row(Age=22, Gender='Male', Marital Status='Single', Job Status='Student', Monthly Income='Below Rs.10000', Educational Qualifications='Post Graduate', Family size=4, latitude=12.985, longitude=77.5533, Pin code=560010, Output='Yes', Feedback='Positive', _c12='Yes', Post_Graduate_Customer='Yes'), Row(Age=27, Gender='Female', Marital Status='Married', Job Status='Employee', Monthly Income='More than 50000', Educational Qualifications='Post Graduate', Family size=2, latitude=12.9299, longitude=77.6848, Pin code=560103, Output='Yes', Feedback='Positive', _c12='Yes', Post_Graduate_Customer='Yes'), Row(Age=22, Gender='Male', Marital Status='Single', Job Status='Student', Monthly Income='No Income', Educational Qualifications='Graduate', Family size=3, latitude=12.977, longitude=77.5773, Pin code=560009, Output='Yes', Feedback='Positive', _c12='Yes', Post_Graduate_Customer='No'), Row(Age=24, Gender='Female', Marital Status='Single', Job Status='Student', Monthly Income='No Income', Educational Qualifications='Post Graduate', Family size=3, latitude=12.9828, longitude=77.6131, Pin code=560042, Output='Yes', Feedback='Positive', _c12='Yes', Post_Graduate_Customer='Yes'), Row(Age=23, Gender='Female', Marital Status='Single', Job Status='Student', Monthly Income='No Income', Educational Qualifications='Post Graduate', Family size=2, latitude=12.9766, longitude=77.5993, Pin code=560001, Output='Yes', Feedback='Positive', _c12='Yes', Post_Graduate_Customer='Yes'), Row(Age=23, Gender='Female', Marital Status='Single', Job Status='Student', Monthly Income='No Income', Educational Qualifications='Post Graduate', Family size=4, latitude=12.9854, longitude=77.7081, Pin code=560048, Output='Yes', Feedback='Positive', _c12='Yes', Post_Graduate_Customer='Yes'), Row(Age=22, Gender='Female', Marital Status='Single', Job Status='Student', Monthly Income='No Income', Educational Qualifications='Post Graduate', Family size=5, latitude=12.985, longitude=77.5533, Pin code=560010, Output='Yes', Feedback='Positive', _c12='Yes', Post_Graduate_Customer='Yes'), Row(Age=23, Gender='Male', Marital Status='Single', Job Status='Student', Monthly Income='Below Rs.10000', Educational Qualifications='Post Graduate', Family size=2, latitude=12.977, longitude=77.5773, Pin code=560009, Output='Yes', Feedback='Negative ', _c12='Yes', Post_Graduate_Customer='Yes'), Row(Age=23, Gender='Male', Marital Status='Single', Job Status='Student', Monthly Income='No Income', Educational Qualifications='Post Graduate', Family size=5, latitude=12.8988, longitude=77.5764, Pin code=560078, Output='Yes', Feedback='Positive', _c12='Yes', Post_Graduate_Customer='Yes'), Row(Age=21, Gender='Male', Marital Status='Single', Job Status='Student', Monthly Income='No Income', Educational Qualifications='Graduate', Family size=4, latitude=12.977, longitude=77.5773, Pin code=560009, Output='Yes', Feedback='Positive', _c12='Yes', Post_Graduate_Customer='No'), Row(Age=23, Gender='Female', Marital Status='Single', Job Status='Self Employeed', Monthly Income='10001 to 25000', Educational Qualifications='Post Graduate', Family size=5, latitude=12.9438, longitude=77.5738, Pin code=560004, Output='Yes', Feedback='Positive', _c12='Yes', Post_Graduate_Customer='Yes'), Row(Age=24, Gender='Female', Marital Status='Single', Job Status='Student', Monthly Income='No Income', Educational Qualifications='Post Graduate', Family size=6, latitude=12.8893, longitude=77.6399, Pin code=560068, Output='Yes', Feedback='Positive', _c12='Yes', Post_Graduate_Customer='Yes'), Row(Age=28, Gender='Female', Marital Status='Single', Job Status='Employee', Monthly Income='25001 to 50000', Educational Qualifications='Post Graduate', Family size=2, latitude=12.9783, longitude=77.6408, Pin code=560038, Output='Yes', Feedback='Positive', _c12='Yes', Post_Graduate_Customer='Yes'), Row(Age=23, Gender='Female', Marital Status='Single', Job Status='Student', Monthly Income='No Income', Educational Qualifications='Graduate', Family size=3, latitude=12.982, longitude=77.6256, Pin code=560008, Output='Yes', Feedback='Negative ', _c12='Yes', Post_Graduate_Customer='No'), Row(Age=25, Gender='Male', Marital Status='Single', Job Status='Student', Monthly Income='No Income', Educational Qualifications='Graduate', Family size=4, latitude=12.8988, longitude=77.5764, Pin code=560078, Output='Yes', Feedback='Negative ', _c12='Yes', Post_Graduate_Customer='No'), Row(Age=21, Gender='Female', Marital Status='Single', Job Status='Student', Monthly Income='Below Rs.10000', Educational Qualifications='Post Graduate', Family size=1, latitude=12.9783, longitude=77.6408, Pin code=560038, Output='Yes', Feedback='Positive', _c12='Yes', Post_Graduate_Customer='Yes'), Row(Age=24, Gender='Male', Marital Status='Single', Job Status='Student', Monthly Income='No Income', Educational Qualifications='Post Graduate', Family size=3, latitude=12.977, longitude=77.5773, Pin code=560009, Output='Yes', Feedback='Positive', _c12='Yes', Post_Graduate_Customer='Yes'), Row(Age=22, Gender='Male', Marital Status='Single', Job Status='Student', Monthly Income='No Income', Educational Qualifications='Post Graduate', Family size=4, latitude=13.0298, longitude=77.6047, Pin code=560032, Output='Yes', Feedback='Positive', _c12='Yes', Post_Graduate_Customer='Yes'), Row(Age=22, Gender='Female', Marital Status='Single', Job Status='Student', Monthly Income='No Income', Educational Qualifications='Graduate', Family size=4, latitude=12.9983, longitude=77.6409, Pin code=560033, Output='Yes', Feedback='Positive', _c12='Yes', Post_Graduate_Customer='No'), Row(Age=23, Gender='Male', Marital Status='Single', Job Status='Student', Monthly Income='No Income', Educational Qualifications='Graduate', Family size=4, latitude=12.9925, longitude=77.5633, Pin code=560021, Output='Yes', Feedback='Positive', _c12='Yes', Post_Graduate_Customer='No'), Row(Age=21, Gender='Male', Marital Status='Single', Job Status='Student', Monthly Income='Below Rs.10000', Educational Qualifications='Post Graduate', Family size=3, latitude=12.9306, longitude=77.5434, Pin code=560085, Output='Yes', Feedback='Positive', _c12='Yes', Post_Graduate_Customer='Yes'), Row(Age=25, Gender='Male', Marital Status='Single', Job Status='Student', Monthly Income='No Income', Educational Qualifications='Post Graduate', Family size=3, latitude=12.982, longitude=77.6256, Pin code=560008, Output='Yes', Feedback='Positive', _c12='Yes', Post_Graduate_Customer='Yes'), Row(Age=22, Gender='Female', Marital Status='Single', Job Status='Student', Monthly Income='No Income', Educational Qualifications='Post Graduate', Family size=5, latitude=12.9353, longitude=77.5585, Pin code=560050, Output='Yes', Feedback='Positive', _c12='Yes', Post_Graduate_Customer='Yes'), Row(Age=22, Gender='Male', Marital Status='Single', Job Status='Student', Monthly Income='No Income', Educational Qualifications='Post Graduate', Family size=3, latitude=12.9155, longitude=77.5135, Pin code=560098, Output='Yes', Feedback='Positive', _c12='Yes', Post_Graduate_Customer='Yes'), Row(Age=23, Gender='Female', Marital Status='Single', Job Status='Employee', Monthly Income='10001 to 25000', Educational Qualifications='Graduate', Family size=3, latitude=12.9854, longitude=77.7081, Pin code=560048, Output='Yes', Feedback='Positive', _c12='Yes', Post_Graduate_Customer='No'), Row(Age=22, Gender='Male', Marital Status='Single', Job Status='Student', Monthly Income='Below Rs.10000', Educational Qualifications='Post Graduate', Family size=4, latitude=13.0019, longitude=77.5713, Pin code=560003, Output='Yes', Feedback='Positive', _c12='Yes', Post_Graduate_Customer='Yes'), Row(Age=22, Gender='Female', Marital Status='Single', Job Status='Employee', Monthly Income='10001 to 25000', Educational Qualifications='Graduate', Family size=5, latitude=12.9698, longitude=77.75, Pin code=560066, Output='Yes', Feedback='Positive', _c12='Yes', Post_Graduate_Customer='No'), Row(Age=22, Gender='Male', Marital Status='Single', Job Status='Student', Monthly Income='No Income', Educational Qualifications='Post Graduate', Family size=4, latitude=12.9783, longitude=77.6408, Pin code=560038, Output='Yes', Feedback='Positive', _c12='Yes', Post_Graduate_Customer='Yes'), Row(Age=25, Gender='Male', Marital Status='Married', Job Status='Employee', Monthly Income='More than 50000', Educational Qualifications='Ph.D', Family size=4, latitude=12.9261, longitude=77.6221, Pin code=560034, Output='Yes', Feedback='Positive', _c12='Yes', Post_Graduate_Customer='No'), Row(Age=22, Gender='Female', Marital Status='Single', Job Status='Student', Monthly Income='10001 to 25000', Educational Qualifications='Post Graduate', Family size=5, latitude=12.985, longitude=77.5533, Pin code=560010, Output='Yes', Feedback='Positive', _c12='Yes', Post_Graduate_Customer='Yes'), Row(Age=22, Gender='Female', Marital Status='Single', Job Status='Student', Monthly Income='No Income', Educational Qualifications='Post Graduate', Family size=2, latitude=12.9119, longitude=77.6446, Pin code=560102, Output='Yes', Feedback='Positive', _c12='Yes', Post_Graduate_Customer='Yes'), Row(Age=25, Gender='Male', Marital Status='Single', Job Status='Student', Monthly Income='10001 to 25000', Educational Qualifications='Post Graduate', Family size=3, latitude=12.9306, longitude=77.5434, Pin code=560085, Output='Yes', Feedback='Positive', _c12='Yes', Post_Graduate_Customer='Yes'), Row(Age=25, Gender='Male', Marital Status='Single', Job Status='Student', Monthly Income='No Income', Educational Qualifications='Post Graduate', Family size=5, latitude=12.977, longitude=77.5773, Pin code=560009, Output='No', Feedback='Positive', _c12='No', Post_Graduate_Customer='Yes'), Row(Age=32, Gender='Female', Marital Status='Prefer not to say', Job Status='House wife', Monthly Income='No Income', Educational Qualifications='Graduate', Family size=5, latitude=12.982, longitude=77.6256, Pin code=560008, Output='Yes', Feedback='Negative ', _c12='Yes', Post_Graduate_Customer='No'), Row(Age=23, Gender='Female', Marital Status='Single', Job Status='Student', Monthly Income='No Income', Educational Qualifications='Post Graduate', Family size=3, latitude=12.9438, longitude=77.5738, Pin code=560004, Output='Yes', Feedback='Positive', _c12='Yes', Post_Graduate_Customer='Yes'), Row(Age=23, Gender='Female', Marital Status='Single', Job Status='Student', Monthly Income='No Income', Educational Qualifications='Post Graduate', Family size=4, latitude=12.8988, longitude=77.5764, Pin code=560078, Output='Yes', Feedback='Positive', _c12='Yes', Post_Graduate_Customer='Yes'), Row(Age=30, Gender='Male', Marital Status='Married', Job Status='Self Employeed', Monthly Income='More than 50000', Educational Qualifications='Uneducated', Family size=4, latitude=12.9662, longitude=77.6068, Pin code=560025, Output='Yes', Feedback='Negative ', _c12='Yes', Post_Graduate_Customer='No'), Row(Age=23, Gender='Male', Marital Status='Single', Job Status='Student', Monthly Income='No Income', Educational Qualifications='Graduate', Family size=3, latitude=12.9565, longitude=77.5484, Pin code=560026, Output='Yes', Feedback='Positive', _c12='Yes', Post_Graduate_Customer='No'), Row(Age=23, Gender='Male', Marital Status='Single', Job Status='Student', Monthly Income='No Income', Educational Qualifications='Post Graduate', Family size=4, latitude=12.9925, longitude=77.5633, Pin code=560021, Output='Yes', Feedback='Positive', _c12='Yes', Post_Graduate_Customer='Yes'), Row(Age=22, Gender='Female', Marital Status='Single', Job Status='Student', Monthly Income='No Income', Educational Qualifications='Post Graduate', Family size=5, latitude=12.985, longitude=77.5533, Pin code=560010, Output='Yes', Feedback='Positive', _c12='Yes', Post_Graduate_Customer='Yes'), Row(Age=22, Gender='Male', Marital Status='Single', Job Status='Student', Monthly Income='No Income', Educational Qualifications='Graduate', Family size=5, latitude=12.985, longitude=77.5533, Pin code=560010, Output='Yes', Feedback='Positive', _c12='Yes', Post_Graduate_Customer='No'), Row(Age=27, Gender='Female', Marital Status='Married', Job Status='Self Employeed', Monthly Income='10001 to 25000', Educational Qualifications='Post Graduate', Family size=2, latitude=12.9261, longitude=77.6221, Pin code=560034, Output='Yes', Feedback='Positive', _c12='Yes', Post_Graduate_Customer='Yes'), Row(Age=24, Gender='Female', Marital Status='Single', Job Status='Student', Monthly Income='No Income', Educational Qualifications='Post Graduate', Family size=3, latitude=12.977, longitude=77.5773, Pin code=560009, Output='Yes', Feedback='Positive', _c12='Yes', Post_Graduate_Customer='Yes'), Row(Age=23, Gender='Male', Marital Status='Single', Job Status='Student', Monthly Income='No Income', Educational Qualifications='Post Graduate', Family size=2, latitude=12.977, longitude=77.5773, Pin code=560009, Output='Yes', Feedback='Positive', _c12='Yes', Post_Graduate_Customer='Yes'), Row(Age=23, Gender='Female', Marital Status='Single', Job Status='Student', Monthly Income='No Income', Educational Qualifications='Graduate', Family size=3, latitude=12.982, longitude=77.6256, Pin code=560008, Output='Yes', Feedback='Negative ', _c12='Yes', Post_Graduate_Customer='No'), Row(Age=22, Gender='Female', Marital Status='Single', Job Status='Student', Monthly Income='10001 to 25000', Educational Qualifications='Post Graduate', Family size=5, latitude=12.985, longitude=77.5533, Pin code=560010, Output='Yes', Feedback='Positive', _c12='Yes', Post_Graduate_Customer='Yes'), Row(Age=23, Gender='Female', Marital Status='Single', Job Status='Student', Monthly Income='No Income', Educational Qualifications='Graduate', Family size=5, latitude=13.0206, longitude=77.6479, Pin code=560043, Output='Yes', Feedback='Positive', _c12='Yes', Post_Graduate_Customer='No'), Row(Age=23, Gender='Female', Marital Status='Single', Job Status='Student', Monthly Income='No Income', Educational Qualifications='Post Graduate', Family size=2, latitude=12.977, longitude=77.5773, Pin code=560009, Output='Yes', Feedback='Positive', _c12='Yes', Post_Graduate_Customer='Yes'), Row(Age=24, Gender='Male', Marital Status='Single', Job Status='Student', Monthly Income='No Income', Educational Qualifications='Post Graduate', Family size=3, latitude=12.977, longitude=77.5773, Pin code=560009, Output='Yes', Feedback='Positive', _c12='Yes', Post_Graduate_Customer='Yes'), Row(Age=25, Gender='Male', Marital Status='Single', Job Status='Student', Monthly Income='No Income', Educational Qualifications='Post Graduate', Family size=2, latitude=12.9635, longitude=77.5821, Pin code=560002, Output='Yes', Feedback='Positive', _c12='Yes', Post_Graduate_Customer='Yes'), Row(Age=22, Gender='Male', Marital Status='Single', Job Status='Student', Monthly Income='No Income', Educational Qualifications='Post Graduate', Family size=3, latitude=12.9306, longitude=77.5434, Pin code=560085, Output='Yes', Feedback='Positive', _c12='Yes', Post_Graduate_Customer='Yes'), Row(Age=28, Gender='Female', Marital Status='Married', Job Status='Student', Monthly Income='No Income', Educational Qualifications='Graduate', Family size=2, latitude=13.0067, longitude=77.545, Pin code=560086, Output='Yes', Feedback='Positive', _c12='Yes', Post_Graduate_Customer='No'), Row(Age=22, Gender='Female', Marital Status='Single', Job Status='Student', Monthly Income='No Income', Educational Qualifications='Post Graduate', Family size=1, latitude=12.8845, longitude=77.6036, Pin code=560076, Output='Yes', Feedback='Positive', _c12='Yes', Post_Graduate_Customer='Yes'), Row(Age=24, Gender='Female', Marital Status='Single', Job Status='Student', Monthly Income='No Income', Educational Qualifications='Graduate', Family size=3, latitude=12.977, longitude=77.5773, Pin code=560009, Output='Yes', Feedback='Positive', _c12='Yes', Post_Graduate_Customer='No'), Row(Age=31, Gender='Male', Marital Status='Married', Job Status='Employee', Monthly Income='More than 50000', Educational Qualifications='Ph.D', Family size=5, latitude=12.9119, longitude=77.6446, Pin code=560102, Output='Yes', Feedback='Positive', _c12='Yes', Post_Graduate_Customer='No'), Row(Age=25, Gender='Male', Marital Status='Single', Job Status='Student', Monthly Income='No Income', Educational Qualifications='Post Graduate', Family size=4, latitude=13.0067, longitude=77.545, Pin code=560086, Output='Yes', Feedback='Positive', _c12='Yes', Post_Graduate_Customer='Yes'), Row(Age=23, Gender='Male', Marital Status='Single', Job Status='Student', Monthly Income='No Income', Educational Qualifications='Post Graduate', Family size=5, latitude=12.8988, longitude=77.5764, Pin code=560078, Output='Yes', Feedback='Positive', _c12='Yes', Post_Graduate_Customer='Yes'), Row(Age=22, Gender='Male', Marital Status='Single', Job Status='Student', Monthly Income='No Income', Educational Qualifications='Post Graduate', Family size=3, latitude=12.8845, longitude=77.6036, Pin code=560076, Output='Yes', Feedback='Positive', _c12='Yes', Post_Graduate_Customer='Yes'), Row(Age=23, Gender='Male', Marital Status='Single', Job Status='Student', Monthly Income='25001 to 50000', Educational Qualifications='Post Graduate', Family size=1, latitude=13.0158, longitude=77.539, Pin code=560096, Output='Yes', Feedback='Positive', _c12='Yes', Post_Graduate_Customer='Yes'), Row(Age=23, Gender='Male', Marital Status='Single', Job Status='Student', Monthly Income='No Income', Educational Qualifications='Graduate', Family size=4, latitude=12.9343, longitude=77.6044, Pin code=560029, Output='Yes', Feedback='Positive', _c12='Yes', Post_Graduate_Customer='No'), Row(Age=23, Gender='Female', Marital Status='Single', Job Status='Student', Monthly Income='No Income', Educational Qualifications='Post Graduate', Family size=2, latitude=13.0019, longitude=77.5713, Pin code=560003, Output='Yes', Feedback='Positive', _c12='Yes', Post_Graduate_Customer='Yes'), Row(Age=25, Gender='Male', Marital Status='Single', Job Status='Student', Monthly Income='No Income', Educational Qualifications='Post Graduate', Family size=6, latitude=13.0012, longitude=77.5995, Pin code=560046, Output='Yes', Feedback='Positive', _c12='Yes', Post_Graduate_Customer='Yes'), Row(Age=24, Gender='Male', Marital Status='Single', Job Status='Employee', Monthly Income='10001 to 25000', Educational Qualifications='Graduate', Family size=4, latitude=12.9442, longitude=77.6076, Pin code=560030, Output='Yes', Feedback='Positive', _c12='Yes', Post_Graduate_Customer='No'), Row(Age=23, Gender='Female', Marital Status='Single', Job Status='Student', Monthly Income='No Income', Educational Qualifications='Post Graduate', Family size=4, latitude=13.0487, longitude=77.5923, Pin code=560024, Output='Yes', Feedback='Positive', _c12='Yes', Post_Graduate_Customer='Yes'), Row(Age=23, Gender='Female', Marital Status='Single', Job Status='Student', Monthly Income='No Income', Educational Qualifications='Post Graduate', Family size=4, latitude=13.0487, longitude=77.5923, Pin code=560024, Output='Yes', Feedback='Positive', _c12='Yes', Post_Graduate_Customer='Yes'), Row(Age=24, Gender='Female', Marital Status='Married', Job Status='Employee', Monthly Income='More than 50000', Educational Qualifications='Ph.D', Family size=4, latitude=12.9438, longitude=77.5738, Pin code=560004, Output='Yes', Feedback='Positive', _c12='Yes', Post_Graduate_Customer='No'), Row(Age=22, Gender='Male', Marital Status='Single', Job Status='Student', Monthly Income='No Income', Educational Qualifications='Graduate', Family size=4, latitude=12.9889, longitude=77.5741, Pin code=560020, Output='Yes', Feedback='Positive', _c12='Yes', Post_Graduate_Customer='No'), Row(Age=24, Gender='Female', Marital Status='Single', Job Status='Student', Monthly Income='10001 to 25000', Educational Qualifications='Post Graduate', Family size=3, latitude=12.9335, longitude=77.5691, Pin code=560028, Output='No', Feedback='Positive', _c12='No', Post_Graduate_Customer='Yes'), Row(Age=25, Gender='Female', Marital Status='Single', Job Status='Student', Monthly Income='No Income', Educational Qualifications='Post Graduate', Family size=3, latitude=12.9766, longitude=77.5993, Pin code=560001, Output='Yes', Feedback='Positive', _c12='Yes', Post_Graduate_Customer='Yes'), Row(Age=23, Gender='Male', Marital Status='Single', Job Status='Student', Monthly Income='No Income', Educational Qualifications='Post Graduate', Family size=2, latitude=12.8845, longitude=77.6036, Pin code=560076, Output='Yes', Feedback='Positive', _c12='Yes', Post_Graduate_Customer='Yes'), Row(Age=26, Gender='Male', Marital Status='Single', Job Status='Student', Monthly Income='No Income', Educational Qualifications='Post Graduate', Family size=4, latitude=13.0019, longitude=77.5713, Pin code=560003, Output='Yes', Feedback='Positive', _c12='Yes', Post_Graduate_Customer='Yes'), Row(Age=24, Gender='Female', Marital Status='Single', Job Status='Student', Monthly Income='25001 to 50000', Educational Qualifications='Post Graduate', Family size=3, latitude=13.102, longitude=77.5864, Pin code=560064, Output='Yes', Feedback='Positive', _c12='Yes', Post_Graduate_Customer='Yes'), Row(Age=26, Gender='Male', Marital Status='Single', Job Status='Student', Monthly Income='No Income', Educational Qualifications='Post Graduate', Family size=4, latitude=12.9048, longitude=77.6821, Pin code=560036, Output='Yes', Feedback='Positive', _c12='Yes', Post_Graduate_Customer='Yes'), Row(Age=21, Gender='Male', Marital Status='Single', Job Status='Student', Monthly Income='No Income', Educational Qualifications='Graduate', Family size=4, latitude=12.977, longitude=77.5773, Pin code=560009, Output='Yes', Feedback='Positive', _c12='Yes', Post_Graduate_Customer='No'), Row(Age=22, Gender='Female', Marital Status='Single', Job Status='Student', Monthly Income='No Income', Educational Qualifications='Post Graduate', Family size=3, latitude=12.977, longitude=77.5773, Pin code=560009, Output='Yes', Feedback='Positive', _c12='Yes', Post_Graduate_Customer='Yes'), Row(Age=24, Gender='Male', Marital Status='Single', Job Status='Student', Monthly Income='No Income', Educational Qualifications='Post Graduate', Family size=5, latitude=12.9337, longitude=77.59, Pin code=560011, Output='Yes', Feedback='Positive', _c12='Yes', Post_Graduate_Customer='Yes'), Row(Age=24, Gender='Male', Marital Status='Single', Job Status='Student', Monthly Income='10001 to 25000', Educational Qualifications='Post Graduate', Family size=4, latitude=12.9037, longitude=77.5376, Pin code=560061, Output='Yes', Feedback='Positive', _c12='Yes', Post_Graduate_Customer='Yes'), Row(Age=23, Gender='Female', Marital Status='Single', Job Status='Student', Monthly Income='No Income', Educational Qualifications='Post Graduate', Family size=3, latitude=12.977, longitude=77.5773, Pin code=560009, Output='Yes', Feedback='Positive', _c12='Yes', Post_Graduate_Customer='Yes'), Row(Age=23, Gender='Male', Marital Status='Single', Job Status='Student', Monthly Income='No Income', Educational Qualifications='Post Graduate', Family size=3, latitude=12.9343, longitude=77.6044, Pin code=560029, Output='Yes', Feedback='Positive', _c12='Yes', Post_Graduate_Customer='Yes'), Row(Age=22, Gender='Male', Marital Status='Single', Job Status='Student', Monthly Income='No Income', Educational Qualifications='Post Graduate', Family size=3, latitude=12.9438, longitude=77.5738, Pin code=560004, Output='Yes', Feedback='Positive', _c12='Yes', Post_Graduate_Customer='Yes'), Row(Age=23, Gender='Male', Marital Status='Single', Job Status='Student', Monthly Income='No Income', Educational Qualifications='Post Graduate', Family size=3, latitude=12.977, longitude=77.5773, Pin code=560009, Output='Yes', Feedback='Positive', _c12='Yes', Post_Graduate_Customer='Yes'), Row(Age=24, Gender='Female', Marital Status='Single', Job Status='Student', Monthly Income='No Income', Educational Qualifications='Post Graduate', Family size=4, latitude=12.9783, longitude=77.6408, Pin code=560038, Output='Yes', Feedback='Positive', _c12='Yes', Post_Graduate_Customer='Yes'), Row(Age=24, Gender='Male', Marital Status='Single', Job Status='Student', Monthly Income='No Income', Educational Qualifications='Post Graduate', Family size=5, latitude=12.9337, longitude=77.59, Pin code=560011, Output='Yes', Feedback='Positive', _c12='Yes', Post_Graduate_Customer='Yes'), Row(Age=25, Gender='Male', Marital Status='Single', Job Status='Student', Monthly Income='No Income', Educational Qualifications='Graduate', Family size=1, latitude=12.977, longitude=77.5773, Pin code=560009, Output='Yes', Feedback='Positive', _c12='Yes', Post_Graduate_Customer='No'), Row(Age=25, Gender='Male', Marital Status='Single', Job Status='Student', Monthly Income='No Income', Educational Qualifications='Post Graduate', Family size=5, latitude=12.977, longitude=77.5773, Pin code=560009, Output='No', Feedback='Positive', _c12='No', Post_Graduate_Customer='Yes'), Row(Age=28, Gender='Male', Marital Status='Married', Job Status='Self Employeed', Monthly Income='10001 to 25000', Educational Qualifications='Graduate', Family size=2, latitude=13.0289, longitude=77.54, Pin code=560022, Output='No', Feedback='Negative ', _c12='No', Post_Graduate_Customer='No'), Row(Age=27, Gender='Female', Marital Status='Prefer not to say', Job Status='Employee', Monthly Income='25001 to 50000', Educational Qualifications='Post Graduate', Family size=5, latitude=13.0289, longitude=77.54, Pin code=560022, Output='No', Feedback='Positive', _c12='No', Post_Graduate_Customer='Yes'), Row(Age=26, Gender='Male', Marital Status='Single', Job Status='Self Employeed', Monthly Income='10001 to 25000', Educational Qualifications='Ph.D', Family size=1, latitude=12.9698, longitude=77.75, Pin code=560066, Output='No', Feedback='Positive', _c12='No', Post_Graduate_Customer='No'), Row(Age=22, Gender='Male', Marital Status='Single', Job Status='Student', Monthly Income='No Income', Educational Qualifications='Post Graduate', Family size=2, latitude=12.977, longitude=77.5773, Pin code=560009, Output='Yes', Feedback='Positive', _c12='Yes', Post_Graduate_Customer='Yes'), Row(Age=24, Gender='Female', Marital Status='Single', Job Status='Student', Monthly Income='No Income', Educational Qualifications='Post Graduate', Family size=3, latitude=12.977, longitude=77.5773, Pin code=560009, Output='Yes', Feedback='Positive', _c12='Yes', Post_Graduate_Customer='Yes'), Row(Age=23, Gender='Male', Marital Status='Single', Job Status='Student', Monthly Income='No Income', Educational Qualifications='Post Graduate', Family size=1, latitude=12.9561, longitude=77.5921, Pin code=560027, Output='Yes', Feedback='Positive', _c12='Yes', Post_Graduate_Customer='Yes'), Row(Age=25, Gender='Male', Marital Status='Single', Job Status='Student', Monthly Income='No Income', Educational Qualifications='Graduate', Family size=1, latitude=12.977, longitude=77.5773, Pin code=560009, Output='Yes', Feedback='Positive', _c12='Yes', Post_Graduate_Customer='No'), Row(Age=23, Gender='Female', Marital Status='Single', Job Status='Student', Monthly Income='No Income', Educational Qualifications='Graduate', Family size=5, latitude=13.0206, longitude=77.6479, Pin code=560043, Output='Yes', Feedback='Positive', _c12='Yes', Post_Graduate_Customer='No'), Row(Age=23, Gender='Female', Marital Status='Single', Job Status='Student', Monthly Income='No Income', Educational Qualifications='Graduate', Family size=5, latitude=13.0206, longitude=77.6479, Pin code=560043, Output='Yes', Feedback='Positive', _c12='Yes', Post_Graduate_Customer='No'), Row(Age=26, Gender='Male', Marital Status='Married', Job Status='Employee', Monthly Income='25001 to 50000', Educational Qualifications='Graduate', Family size=5, latitude=12.9579, longitude=77.6309, Pin code=560007, Output='No', Feedback='Positive', _c12='No', Post_Graduate_Customer='No'), Row(Age=32, Gender='Female', Marital Status='Married', Job Status='House wife', Monthly Income='No Income', Educational Qualifications='Uneducated', Family size=3, latitude=13.014, longitude=77.5658, Pin code=560012, Output='No', Feedback='Positive', _c12='No', Post_Graduate_Customer='No'), Row(Age=24, Gender='Female', Marital Status='Single', Job Status='Student', Monthly Income='10001 to 25000', Educational Qualifications='Post Graduate', Family size=3, latitude=12.9335, longitude=77.5691, Pin code=560028, Output='No', Feedback='Positive', _c12='No', Post_Graduate_Customer='Yes'), Row(Age=23, Gender='Male', Marital Status='Single', Job Status='Student', Monthly Income='No Income', Educational Qualifications='Post Graduate', Family size=2, latitude=12.9442, longitude=77.6076, Pin code=560030, Output='Yes', Feedback='Positive', _c12='Yes', Post_Graduate_Customer='Yes'), Row(Age=22, Gender='Female', Marital Status='Single', Job Status='Employee', Monthly Income='10001 to 25000', Educational Qualifications='Graduate', Family size=3, latitude=12.9698, longitude=77.75, Pin code=560066, Output='Yes', Feedback='Positive', _c12='Yes', Post_Graduate_Customer='No'), Row(Age=24, Gender='Female', Marital Status='Single', Job Status='Student', Monthly Income='No Income', Educational Qualifications='Ph.D', Family size=3, latitude=12.9438, longitude=77.5738, Pin code=560004, Output='Yes', Feedback='Positive', _c12='Yes', Post_Graduate_Customer='No'), Row(Age=26, Gender='Male', Marital Status='Single', Job Status='Employee', Monthly Income='25001 to 50000', Educational Qualifications='Graduate', Family size=2, latitude=12.9261, longitude=77.6221, Pin code=560034, Output='Yes', Feedback='Negative ', _c12='Yes', Post_Graduate_Customer='No'), Row(Age=28, Gender='Male', Marital Status='Married', Job Status='Employee', Monthly Income='More than 50000', Educational Qualifications='Graduate', Family size=3, latitude=12.9698, longitude=77.75, Pin code=560066, Output='No', Feedback='Positive', _c12='No', Post_Graduate_Customer='No'), Row(Age=26, Gender='Male', Marital Status='Single', Job Status='Employee', Monthly Income='More than 50000', Educational Qualifications='Post Graduate', Family size=2, latitude=12.9698, longitude=77.75, Pin code=560066, Output='No', Feedback='Positive', _c12='No', Post_Graduate_Customer='Yes'), Row(Age=25, Gender='Male', Marital Status='Single', Job Status='Student', Monthly Income='No Income', Educational Qualifications='Post Graduate', Family size=1, latitude=12.9343, longitude=77.6044, Pin code=560029, Output='Yes', Feedback='Positive', _c12='Yes', Post_Graduate_Customer='Yes'), Row(Age=25, Gender='Male', Marital Status='Single', Job Status='Employee', Monthly Income='Below Rs.10000', Educational Qualifications='Graduate', Family size=2, latitude=12.9698, longitude=77.75, Pin code=560066, Output='No', Feedback='Positive', _c12='No', Post_Graduate_Customer='No'), Row(Age=18, Gender='Male', Marital Status='Single', Job Status='Student', Monthly Income='No Income', Educational Qualifications='Graduate', Family size=5, latitude=12.9635, longitude=77.5821, Pin code=560002, Output='Yes', Feedback='Positive', _c12='Yes', Post_Graduate_Customer='No'), Row(Age=21, Gender='Male', Marital Status='Single', Job Status='Student', Monthly Income='No Income', Educational Qualifications='Post Graduate', Family size=4, latitude=12.977, longitude=77.5773, Pin code=560009, Output='Yes', Feedback='Positive', _c12='Yes', Post_Graduate_Customer='Yes'), Row(Age=25, Gender='Male', Marital Status='Single', Job Status='Student', Monthly Income='No Income', Educational Qualifications='Post Graduate', Family size=1, latitude=12.9343, longitude=77.6044, Pin code=560029, Output='Yes', Feedback='Positive', _c12='Yes', Post_Graduate_Customer='Yes'), Row(Age=25, Gender='Male', Marital Status='Single', Job Status='Student', Monthly Income='Below Rs.10000', Educational Qualifications='Post Graduate', Family size=2, latitude=12.9925, longitude=77.5633, Pin code=560021, Output='Yes', Feedback='Positive', _c12='Yes', Post_Graduate_Customer='Yes'), Row(Age=23, Gender='Female', Marital Status='Single', Job Status='Student', Monthly Income='No Income', Educational Qualifications='Graduate', Family size=5, latitude=13.0206, longitude=77.6479, Pin code=560043, Output='Yes', Feedback='Positive', _c12='Yes', Post_Graduate_Customer='No'), Row(Age=23, Gender='Male', Marital Status='Single', Job Status='Employee', Monthly Income='10001 to 25000', Educational Qualifications='Post Graduate', Family size=2, latitude=12.985, longitude=77.5533, Pin code=560010, Output='Yes', Feedback='Positive', _c12='Yes', Post_Graduate_Customer='Yes'), Row(Age=25, Gender='Female', Marital Status='Married', Job Status='Employee', Monthly Income='25001 to 50000', Educational Qualifications='Graduate', Family size=4, latitude=12.9551, longitude=77.6593, Pin code=560017, Output='No', Feedback='Negative ', _c12='No', Post_Graduate_Customer='No'), Row(Age=31, Gender='Female', Marital Status='Married', Job Status='House wife', Monthly Income='No Income', Educational Qualifications='School', Family size=5, latitude=13.0289, longitude=77.54, Pin code=560022, Output='Yes', Feedback='Positive', _c12='Yes', Post_Graduate_Customer='No'), Row(Age=24, Gender='Male', Marital Status='Prefer not to say', Job Status='Self Employeed', Monthly Income='More than 50000', Educational Qualifications='Ph.D', Family size=2, latitude=13.0138, longitude=77.5877, Pin code=560006, Output='No', Feedback='Positive', _c12='No', Post_Graduate_Customer='No'), Row(Age=32, Gender='Female', Marital Status='Married', Job Status='Employee', Monthly Income='25001 to 50000', Educational Qualifications='Graduate', Family size=5, latitude=12.9261, longitude=77.6221, Pin code=560034, Output='Yes', Feedback='Positive', _c12='Yes', Post_Graduate_Customer='No'), Row(Age=25, Gender='Male', Marital Status='Single', Job Status='Employee', Monthly Income='25001 to 50000', Educational Qualifications='Graduate', Family size=3, latitude=12.9766, longitude=77.5993, Pin code=560001, Output='Yes', Feedback='Positive', _c12='Yes', Post_Graduate_Customer='No'), Row(Age=27, Gender='Female', Marital Status='Married', Job Status='Self Employeed', Monthly Income='More than 50000', Educational Qualifications='Graduate', Family size=5, latitude=12.9766, longitude=77.5993, Pin code=560001, Output='No', Feedback='Positive', _c12='No', Post_Graduate_Customer='No'), Row(Age=26, Gender='Male', Marital Status='Single', Job Status='Self Employeed', Monthly Income='25001 to 50000', Educational Qualifications='Graduate', Family size=3, latitude=12.9766, longitude=77.5993, Pin code=560001, Output='Yes', Feedback='Positive', _c12='Yes', Post_Graduate_Customer='No'), Row(Age=26, Gender='Female', Marital Status='Single', Job Status='Self Employeed', Monthly Income='25001 to 50000', Educational Qualifications='Post Graduate', Family size=3, latitude=12.9635, longitude=77.5821, Pin code=560002, Output='Yes', Feedback='Positive', _c12='Yes', Post_Graduate_Customer='Yes'), Row(Age=32, Gender='Male', Marital Status='Married', Job Status='Employee', Monthly Income='More than 50000', Educational Qualifications='Ph.D', Family size=5, latitude=12.9635, longitude=77.5821, Pin code=560002, Output='Yes', Feedback='Negative ', _c12='Yes', Post_Graduate_Customer='No'), Row(Age=24, Gender='Male', Marital Status='Married', Job Status='Self Employeed', Monthly Income='More than 50000', Educational Qualifications='Ph.D', Family size=6, latitude=12.9635, longitude=77.5821, Pin code=560002, Output='No', Feedback='Negative ', _c12='No', Post_Graduate_Customer='No'), Row(Age=27, Gender='Female', Marital Status='Married', Job Status='Self Employeed', Monthly Income='25001 to 50000', Educational Qualifications='Graduate', Family size=3, latitude=12.9635, longitude=77.5821, Pin code=560002, Output='Yes', Feedback='Positive', _c12='Yes', Post_Graduate_Customer='No'), Row(Age=23, Gender='Male', Marital Status='Single', Job Status='Student', Monthly Income='No Income', Educational Qualifications='Post Graduate', Family size=3, latitude=12.977, longitude=77.5773, Pin code=560009, Output='Yes', Feedback='Positive', _c12='Yes', Post_Graduate_Customer='Yes'), Row(Age=25, Gender='Male', Marital Status='Single', Job Status='Student', Monthly Income='No Income', Educational Qualifications='Post Graduate', Family size=4, latitude=12.977, longitude=77.5773, Pin code=560009, Output='Yes', Feedback='Positive', _c12='Yes', Post_Graduate_Customer='Yes'), Row(Age=23, Gender='Male', Marital Status='Single', Job Status='Student', Monthly Income='No Income', Educational Qualifications='Post Graduate', Family size=3, latitude=12.977, longitude=77.5773, Pin code=560009, Output='Yes', Feedback='Positive', _c12='Yes', Post_Graduate_Customer='Yes'), Row(Age=23, Gender='Female', Marital Status='Single', Job Status='Student', Monthly Income='No Income', Educational Qualifications='Post Graduate', Family size=4, latitude=13.0487, longitude=77.5923, Pin code=560024, Output='Yes', Feedback='Positive', _c12='Yes', Post_Graduate_Customer='Yes'), Row(Age=28, Gender='Male', Marital Status='Married', Job Status='Employee', Monthly Income='More than 50000', Educational Qualifications='Post Graduate', Family size=3, latitude=13.0019, longitude=77.5713, Pin code=560003, Output='Yes', Feedback='Positive', _c12='Yes', Post_Graduate_Customer='Yes'), Row(Age=32, Gender='Female', Marital Status='Married', Job Status='Employee', Monthly Income='More than 50000', Educational Qualifications='Graduate', Family size=1, latitude=13.0019, longitude=77.5713, Pin code=560003, Output='No', Feedback='Positive', _c12='No', Post_Graduate_Customer='No'), Row(Age=23, Gender='Male', Marital Status='Single', Job Status='Student', Monthly Income='No Income', Educational Qualifications='Post Graduate', Family size=2, latitude=13.0019, longitude=77.5713, Pin code=560003, Output='Yes', Feedback='Positive', _c12='Yes', Post_Graduate_Customer='Yes'), Row(Age=19, Gender='Male', Marital Status='Single', Job Status='Student', Monthly Income='No Income', Educational Qualifications='Graduate', Family size=2, latitude=13.0019, longitude=77.5713, Pin code=560003, Output='No', Feedback='Negative ', _c12='No', Post_Graduate_Customer='No'), Row(Age=19, Gender='Female', Marital Status='Single', Job Status='Student', Monthly Income='No Income', Educational Qualifications='Graduate', Family size=4, latitude=12.9537, longitude=77.6176, Pin code=560047, Output='Yes', Feedback='Positive', _c12='Yes', Post_Graduate_Customer='No'), Row(Age=27, Gender='Female', Marital Status='Married', Job Status='Employee', Monthly Income='25001 to 50000', Educational Qualifications='Post Graduate', Family size=2, latitude=12.9698, longitude=77.75, Pin code=560066, Output='No', Feedback='Positive', _c12='No', Post_Graduate_Customer='Yes'), Row(Age=25, Gender='Male', Marital Status='Single', Job Status='Self Employeed', Monthly Income='25001 to 50000', Educational Qualifications='Graduate', Family size=3, latitude=12.998, longitude=77.6227, Pin code=560005, Output='Yes', Feedback='Positive', _c12='Yes', Post_Graduate_Customer='No'), Row(Age=33, Gender='Male', Marital Status='Married', Job Status='Employee', Monthly Income='More than 50000', Educational Qualifications='Ph.D', Family size=5, latitude=12.998, longitude=77.6227, Pin code=560005, Output='No', Feedback='Negative ', _c12='No', Post_Graduate_Customer='No'), Row(Age=26, Gender='Female', Marital Status='Single', Job Status='Employee', Monthly Income='More than 50000', Educational Qualifications='Graduate', Family size=3, latitude=12.998, longitude=77.6227, Pin code=560005, Output='Yes', Feedback='Positive', _c12='Yes', Post_Graduate_Customer='No'), Row(Age=22, Gender='Female', Marital Status='Single', Job Status='Student', Monthly Income='Below Rs.10000', Educational Qualifications='Post Graduate', Family size=4, latitude=12.9343, longitude=77.6044, Pin code=560029, Output='Yes', Feedback='Positive', _c12='Yes', Post_Graduate_Customer='Yes'), Row(Age=23, Gender='Male', Marital Status='Single', Job Status='Student', Monthly Income='No Income', Educational Qualifications='Post Graduate', Family size=3, latitude=13.102, longitude=77.5864, Pin code=560064, Output='No', Feedback='Positive', _c12='No', Post_Graduate_Customer='Yes'), Row(Age=22, Gender='Female', Marital Status='Single', Job Status='Student', Monthly Income='No Income', Educational Qualifications='Graduate', Family size=3, latitude=13.0158, longitude=77.539, Pin code=560096, Output='Yes', Feedback='Negative ', _c12='Yes', Post_Graduate_Customer='No'), Row(Age=25, Gender='Male', Marital Status='Married', Job Status='Employee', Monthly Income='25001 to 50000', Educational Qualifications='Graduate', Family size=2, latitude=12.998, longitude=77.6227, Pin code=560005, Output='Yes', Feedback='Positive', _c12='Yes', Post_Graduate_Customer='No'), Row(Age=30, Gender='Female', Marital Status='Married', Job Status='House wife', Monthly Income='No Income', Educational Qualifications='School', Family size=5, latitude=12.998, longitude=77.6227, Pin code=560005, Output='Yes', Feedback='Positive', _c12='Yes', Post_Graduate_Customer='No'), Row(Age=24, Gender='Male', Marital Status='Single', Job Status='Student', Monthly Income='No Income', Educational Qualifications='Post Graduate', Family size=3, latitude=13.0138, longitude=77.5877, Pin code=560006, Output='No', Feedback='Negative ', _c12='No', Post_Graduate_Customer='Yes'), Row(Age=25, Gender='Male', Marital Status='Single', Job Status='Employee', Monthly Income='10001 to 25000', Educational Qualifications='Post Graduate', Family size=3, latitude=13.0138, longitude=77.5877, Pin code=560006, Output='Yes', Feedback='Positive', _c12='Yes', Post_Graduate_Customer='Yes'), Row(Age=23, Gender='Male', Marital Status='Single', Job Status='Student', Monthly Income='More than 50000', Educational Qualifications='Post Graduate', Family size=3, latitude=12.977, longitude=77.5773, Pin code=560009, Output='Yes', Feedback='Positive', _c12='Yes', Post_Graduate_Customer='Yes'), Row(Age=24, Gender='Female', Marital Status='Single', Job Status='Student', Monthly Income='No Income', Educational Qualifications='Post Graduate', Family size=4, latitude=13.0496, longitude=77.4941, Pin code=560073, Output='Yes', Feedback='Positive', _c12='Yes', Post_Graduate_Customer='Yes'), Row(Age=32, Gender='Male', Marital Status='Married', Job Status='Employee', Monthly Income='10001 to 25000', Educational Qualifications='Graduate', Family size=4, latitude=12.9783, longitude=77.6408, Pin code=560038, Output='Yes', Feedback='Positive', _c12='Yes', Post_Graduate_Customer='No'), Row(Age=22, Gender='Male', Marital Status='Single', Job Status='Student', Monthly Income='No Income', Educational Qualifications='Post Graduate', Family size=4, latitude=12.9889, longitude=77.5741, Pin code=560020, Output='Yes', Feedback='Positive', _c12='Yes', Post_Graduate_Customer='Yes'), Row(Age=23, Gender='Male', Marital Status='Single', Job Status='Student', Monthly Income='More than 50000', Educational Qualifications='Post Graduate', Family size=3, latitude=12.977, longitude=77.5773, Pin code=560009, Output='Yes', Feedback='Positive', _c12='Yes', Post_Graduate_Customer='Yes'), Row(Age=23, Gender='Female', Marital Status='Single', Job Status='Student', Monthly Income='No Income', Educational Qualifications='Post Graduate', Family size=4, latitude=13.0487, longitude=77.5923, Pin code=560024, Output='Yes', Feedback='Positive', _c12='Yes', Post_Graduate_Customer='Yes'), Row(Age=20, Gender='Male', Marital Status='Single', Job Status='Student', Monthly Income='No Income', Educational Qualifications='Graduate', Family size=2, latitude=12.9579, longitude=77.6309, Pin code=560007, Output='Yes', Feedback='Positive', _c12='Yes', Post_Graduate_Customer='No'), Row(Age=21, Gender='Male', Marital Status='Single', Job Status='Student', Monthly Income='No Income', Educational Qualifications='Graduate', Family size=2, latitude=12.9579, longitude=77.6309, Pin code=560007, Output='Yes', Feedback='Positive', _c12='Yes', Post_Graduate_Customer='No'), Row(Age=24, Gender='Female', Marital Status='Married', Job Status='Self Employeed', Monthly Income='10001 to 25000', Educational Qualifications='Graduate', Family size=5, latitude=12.9579, longitude=77.6309, Pin code=560007, Output='Yes', Feedback='Positive', _c12='Yes', Post_Graduate_Customer='No'), Row(Age=23, Gender='Female', Marital Status='Single', Job Status='Student', Monthly Income='No Income', Educational Qualifications='Post Graduate', Family size=4, latitude=13.0487, longitude=77.5923, Pin code=560024, Output='Yes', Feedback='Positive', _c12='Yes', Post_Graduate_Customer='Yes'), Row(Age=25, Gender='Male', Marital Status='Single', Job Status='Employee', Monthly Income='25001 to 50000', Educational Qualifications='Post Graduate', Family size=3, latitude=12.985, longitude=77.5533, Pin code=560010, Output='Yes', Feedback='Positive', _c12='Yes', Post_Graduate_Customer='Yes'), Row(Age=32, Gender='Female', Marital Status='Married', Job Status='House wife', Monthly Income='No Income', Educational Qualifications='Graduate', Family size=3, latitude=12.985, longitude=77.5533, Pin code=560010, Output='Yes', Feedback='Positive', _c12='Yes', Post_Graduate_Customer='No'), Row(Age=27, Gender='Male', Marital Status='Married', Job Status='Employee', Monthly Income='More than 50000', Educational Qualifications='Ph.D', Family size=5, latitude=12.985, longitude=77.5533, Pin code=560010, Output='No', Feedback='Negative ', _c12='No', Post_Graduate_Customer='No'), Row(Age=20, Gender='Female', Marital Status='Single', Job Status='Student', Monthly Income='No Income', Educational Qualifications='Graduate', Family size=2, latitude=12.9337, longitude=77.59, Pin code=560011, Output='Yes', Feedback='Positive', _c12='Yes', Post_Graduate_Customer='No'), Row(Age=21, Gender='Male', Marital Status='Single', Job Status='Student', Monthly Income='No Income', Educational Qualifications='Graduate', Family size=2, latitude=12.9337, longitude=77.59, Pin code=560011, Output='Yes', Feedback='Positive', _c12='Yes', Post_Graduate_Customer='No'), Row(Age=26, Gender='Male', Marital Status='Single', Job Status='Employee', Monthly Income='More than 50000', Educational Qualifications='Post Graduate', Family size=3, latitude=12.9337, longitude=77.59, Pin code=560011, Output='No', Feedback='Negative ', _c12='No', Post_Graduate_Customer='Yes'), Row(Age=25, Gender='Male', Marital Status='Single', Job Status='Employee', Monthly Income='10001 to 25000', Educational Qualifications='Graduate', Family size=4, latitude=13.0166, longitude=77.6804, Pin code=560016, Output='Yes', Feedback='Positive', _c12='Yes', Post_Graduate_Customer='No'), Row(Age=26, Gender='Male', Marital Status='Single', Job Status='Employee', Monthly Income='25001 to 50000', Educational Qualifications='Post Graduate', Family size=3, latitude=13.014, longitude=77.5658, Pin code=560012, Output='Yes', Feedback='Positive', _c12='Yes', Post_Graduate_Customer='Yes'), Row(Age=26, Gender='Female', Marital Status='Married', Job Status='Employee', Monthly Income='25001 to 50000', Educational Qualifications='Graduate', Family size=3, latitude=13.014, longitude=77.5658, Pin code=560012, Output='Yes', Feedback='Positive', _c12='Yes', Post_Graduate_Customer='No'), Row(Age=27, Gender='Male', Marital Status='Single', Job Status='Employee', Monthly Income='More than 50000', Educational Qualifications='Ph.D', Family size=4, latitude=13.0503, longitude=77.5529, Pin code=560013, Output='No', Feedback='Positive', _c12='No', Post_Graduate_Customer='No'), Row(Age=27, Gender='Female', Marital Status='Single', Job Status='Student', Monthly Income='No Income', Educational Qualifications='Ph.D', Family size=5, latitude=13.0503, longitude=77.5529, Pin code=560013, Output='No', Feedback='Negative ', _c12='No', Post_Graduate_Customer='No'), Row(Age=24, Gender='Female', Marital Status='Single', Job Status='Student', Monthly Income='No Income', Educational Qualifications='Post Graduate', Family size=5, latitude=12.9883, longitude=77.5987, Pin code=560051, Output='Yes', Feedback='Positive', _c12='Yes', Post_Graduate_Customer='Yes'), Row(Age=25, Gender='Male', Marital Status='Married', Job Status='Self Employeed', Monthly Income='More than 50000', Educational Qualifications='School', Family size=2, latitude=13.0626, longitude=77.5284, Pin code=560015, Output='Yes', Feedback='Positive', _c12='Yes', Post_Graduate_Customer='No'), Row(Age=20, Gender='Male', Marital Status='Single', Job Status='Student', Monthly Income='No Income', Educational Qualifications='Graduate', Family size=2, latitude=13.0626, longitude=77.5284, Pin code=560015, Output='No', Feedback='Negative ', _c12='No', Post_Graduate_Customer='No'), Row(Age=22, Gender='Male', Marital Status='Single', Job Status='Student', Monthly Income='No Income', Educational Qualifications='Post Graduate', Family size=1, latitude=13.0626, longitude=77.5284, Pin code=560015, Output='Yes', Feedback='Positive', _c12='Yes', Post_Graduate_Customer='Yes'), Row(Age=26, Gender='Female', Marital Status='Married', Job Status='Student', Monthly Income='Below Rs.10000', Educational Qualifications='Ph.D', Family size=3, latitude=13.0166, longitude=77.6804, Pin code=560016, Output='Yes', Feedback='Positive', _c12='Yes', Post_Graduate_Customer='No'), Row(Age=27, Gender='Male', Marital Status='Prefer not to say', Job Status='Employee', Monthly Income='25001 to 50000', Educational Qualifications='Post Graduate', Family size=1, latitude=13.0166, longitude=77.6804, Pin code=560016, Output='Yes', Feedback='Positive', _c12='Yes', Post_Graduate_Customer='Yes'), Row(Age=25, Gender='Female', Marital Status='Single', Job Status='Student', Monthly Income='No Income', Educational Qualifications='Post Graduate', Family size=3, latitude=12.9551, longitude=77.6593, Pin code=560017, Output='Yes', Feedback='Positive', _c12='Yes', Post_Graduate_Customer='Yes'), Row(Age=24, Gender='Male', Marital Status='Single', Job Status='Employee', Monthly Income='Below Rs.10000', Educational Qualifications='Graduate', Family size=2, latitude=12.9551, longitude=77.6593, Pin code=560017, Output='Yes', Feedback='Positive', _c12='Yes', Post_Graduate_Customer='No'), Row(Age=23, Gender='Female', Marital Status='Single', Job Status='Employee', Monthly Income='10001 to 25000', Educational Qualifications='Graduate', Family size=6, latitude=12.9551, longitude=77.6593, Pin code=560017, Output='Yes', Feedback='Positive', _c12='Yes', Post_Graduate_Customer='No'), Row(Age=22, Gender='Male', Marital Status='Single', Job Status='Student', Monthly Income='No Income', Educational Qualifications='Graduate', Family size=2, latitude=12.957, longitude=77.5637, Pin code=560018, Output='No', Feedback='Positive', _c12='No', Post_Graduate_Customer='No'), Row(Age=26, Gender='Male', Marital Status='Married', Job Status='Self Employeed', Monthly Income='More than 50000', Educational Qualifications='Post Graduate', Family size=3, latitude=12.957, longitude=77.5637, Pin code=560018, Output='No', Feedback='Negative ', _c12='No', Post_Graduate_Customer='Yes'), Row(Age=26, Gender='Male', Marital Status='Single', Job Status='Employee', Monthly Income='Below Rs.10000', Educational Qualifications='Post Graduate', Family size=1, latitude=12.957, longitude=77.5637, Pin code=560018, Output='Yes', Feedback='Negative ', _c12='Yes', Post_Graduate_Customer='Yes'), Row(Age=25, Gender='Female', Marital Status='Married', Job Status='Self Employeed', Monthly Income='25001 to 50000', Educational Qualifications='Post Graduate', Family size=3, latitude=12.957, longitude=77.5637, Pin code=560018, Output='No', Feedback='Positive', _c12='No', Post_Graduate_Customer='Yes'), Row(Age=29, Gender='Female', Marital Status='Married', Job Status='Employee', Monthly Income='More than 50000', Educational Qualifications='Graduate', Family size=3, latitude=12.957, longitude=77.5637, Pin code=560018, Output='No', Feedback='Positive', _c12='No', Post_Graduate_Customer='No'), Row(Age=23, Gender='Male', Marital Status='Single', Job Status='Student', Monthly Income='Below Rs.10000', Educational Qualifications='Graduate', Family size=3, latitude=12.8652, longitude=77.524, Pin code=560109, Output='Yes', Feedback='Negative ', _c12='Yes', Post_Graduate_Customer='No'), Row(Age=22, Gender='Female', Marital Status='Single', Job Status='Employee', Monthly Income='25001 to 50000', Educational Qualifications='Graduate', Family size=4, latitude=12.9698, longitude=77.75, Pin code=560066, Output='Yes', Feedback='Positive', _c12='Yes', Post_Graduate_Customer='No'), Row(Age=22, Gender='Male', Marital Status='Single', Job Status='Student', Monthly Income='No Income', Educational Qualifications='Graduate', Family size=2, latitude=12.9889, longitude=77.5741, Pin code=560020, Output='No', Feedback='Positive', _c12='No', Post_Graduate_Customer='No'), Row(Age=32, Gender='Female', Marital Status='Married', Job Status='House wife', Monthly Income='No Income', Educational Qualifications='School', Family size=5, latitude=12.9889, longitude=77.5741, Pin code=560020, Output='Yes', Feedback='Positive', _c12='Yes', Post_Graduate_Customer='No'), Row(Age=28, Gender='Male', Marital Status='Married', Job Status='Employee', Monthly Income='More than 50000', Educational Qualifications='Post Graduate', Family size=1, latitude=12.9925, longitude=77.5633, Pin code=560021, Output='Yes', Feedback='Positive', _c12='Yes', Post_Graduate_Customer='Yes'), Row(Age=22, Gender='Male', Marital Status='Single', Job Status='Student', Monthly Income='No Income', Educational Qualifications='Post Graduate', Family size=2, latitude=12.977, longitude=77.5773, Pin code=560009, Output='Yes', Feedback='Positive', _c12='Yes', Post_Graduate_Customer='Yes'), Row(Age=25, Gender='Male', Marital Status='Single', Job Status='Employee', Monthly Income='10001 to 25000', Educational Qualifications='Graduate', Family size=2, latitude=12.9757, longitude=77.5586, Pin code=560023, Output='Yes', Feedback='Positive', _c12='Yes', Post_Graduate_Customer='No'), Row(Age=26, Gender='Female', Marital Status='Married', Job Status='Employee', Monthly Income='25001 to 50000', Educational Qualifications='Post Graduate', Family size=2, latitude=12.9757, longitude=77.5586, Pin code=560023, Output='No', Feedback='Negative ', _c12='No', Post_Graduate_Customer='Yes'), Row(Age=31, Gender='Male', Marital Status='Married', Job Status='Self Employeed', Monthly Income='More than 50000', Educational Qualifications='School', Family size=6, latitude=13.0487, longitude=77.5923, Pin code=560024, Output='Yes', Feedback='Positive', _c12='Yes', Post_Graduate_Customer='No'), Row(Age=24, Gender='Male', Marital Status='Single', Job Status='Student', Monthly Income='No Income', Educational Qualifications='Post Graduate', Family size=3, latitude=13.0487, longitude=77.5923, Pin code=560024, Output='No', Feedback='Negative ', _c12='No', Post_Graduate_Customer='Yes'), Row(Age=24, Gender='Male', Marital Status='Single', Job Status='Employee', Monthly Income='25001 to 50000', Educational Qualifications='Post Graduate', Family size=2, latitude=12.9662, longitude=77.6068, Pin code=560025, Output='Yes', Feedback='Positive', _c12='Yes', Post_Graduate_Customer='Yes'), Row(Age=31, Gender='Female', Marital Status='Married', Job Status='Employee', Monthly Income='More than 50000', Educational Qualifications='Ph.D', Family size=5, latitude=12.9662, longitude=77.6068, Pin code=560025, Output='Yes', Feedback='Positive', _c12='Yes', Post_Graduate_Customer='No'), Row(Age=26, Gender='Male', Marital Status='Single', Job Status='Employee', Monthly Income='25001 to 50000', Educational Qualifications='Graduate', Family size=2, latitude=12.9343, longitude=77.6044, Pin code=560029, Output='Yes', Feedback='Positive', _c12='Yes', Post_Graduate_Customer='No'), Row(Age=24, Gender='Female', Marital Status='Married', Job Status='Self Employeed', Monthly Income='More than 50000', Educational Qualifications='Graduate', Family size=2, latitude=12.9343, longitude=77.6044, Pin code=560029, Output='Yes', Feedback='Positive', _c12='Yes', Post_Graduate_Customer='No'), Row(Age=22, Gender='Female', Marital Status='Single', Job Status='Student', Monthly Income='No Income', Educational Qualifications='Graduate', Family size=3, latitude=12.9343, longitude=77.6044, Pin code=560029, Output='Yes', Feedback='Positive', _c12='Yes', Post_Graduate_Customer='No'), Row(Age=19, Gender='Male', Marital Status='Single', Job Status='Student', Monthly Income='No Income', Educational Qualifications='Graduate', Family size=6, latitude=12.9442, longitude=77.6076, Pin code=560030, Output='Yes', Feedback='Positive', _c12='Yes', Post_Graduate_Customer='No'), Row(Age=25, Gender='Male', Marital Status='Married', Job Status='Employee', Monthly Income='More than 50000', Educational Qualifications='Post Graduate', Family size=6, latitude=12.9442, longitude=77.6076, Pin code=560030, Output='Yes', Feedback='Positive', _c12='Yes', Post_Graduate_Customer='Yes'), Row(Age=23, Gender='Female', Marital Status='Married', Job Status='House wife', Monthly Income='No Income', Educational Qualifications='School', Family size=6, latitude=12.9442, longitude=77.6076, Pin code=560030, Output='Yes', Feedback='Positive', _c12='Yes', Post_Graduate_Customer='No'), Row(Age=23, Gender='Female', Marital Status='Single', Job Status='Student', Monthly Income='No Income', Educational Qualifications='Graduate', Family size=2, latitude=13.0298, longitude=77.6047, Pin code=560032, Output='No', Feedback='Negative ', _c12='No', Post_Graduate_Customer='No'), Row(Age=23, Gender='Male', Marital Status='Single', Job Status='Student', Monthly Income='No Income', Educational Qualifications='Post Graduate', Family size=2, latitude=12.9261, longitude=77.6221, Pin code=560034, Output='Yes', Feedback='Positive', _c12='Yes', Post_Graduate_Customer='Yes'), Row(Age=24, Gender='Male', Marital Status='Single', Job Status='Student', Monthly Income='No Income', Educational Qualifications='Post Graduate', Family size=5, latitude=12.9621, longitude=77.5376, Pin code=560104, Output='Yes', Feedback='Positive', _c12='Yes', Post_Graduate_Customer='Yes'), Row(Age=22, Gender='Female', Marital Status='Single', Job Status='Employee', Monthly Income='25001 to 50000', Educational Qualifications='Graduate', Family size=4, latitude=12.8845, longitude=77.6036, Pin code=560076, Output='Yes', Feedback='Positive', _c12='Yes', Post_Graduate_Customer='No'), Row(Age=26, Gender='Male', Marital Status='Married', Job Status='Employee', Monthly Income='More than 50000', Educational Qualifications='Graduate', Family size=4, latitude=12.9048, longitude=77.6821, Pin code=560036, Output='Yes', Feedback='Positive', _c12='Yes', Post_Graduate_Customer='No'), Row(Age=25, Gender='Female', Marital Status='Single', Job Status='Student', Monthly Income='No Income', Educational Qualifications='Ph.D', Family size=3, latitude=12.9048, longitude=77.6821, Pin code=560036, Output='Yes', Feedback='Positive', _c12='Yes', Post_Graduate_Customer='No'), Row(Age=20, Gender='Male', Marital Status='Single', Job Status='Student', Monthly Income='No Income', Educational Qualifications='Graduate', Family size=2, latitude=12.9261, longitude=77.6221, Pin code=560034, Output='Yes', Feedback='Positive', _c12='Yes', Post_Graduate_Customer='No'), Row(Age=29, Gender='Male', Marital Status='Married', Job Status='Employee', Monthly Income='25001 to 50000', Educational Qualifications='Graduate', Family size=4, latitude=12.9261, longitude=77.6221, Pin code=560034, Output='No', Feedback='Negative ', _c12='No', Post_Graduate_Customer='No'), Row(Age=23, Gender='Female', Marital Status='Single', Job Status='Student', Monthly Income='No Income', Educational Qualifications='Graduate', Family size=1, latitude=12.977, longitude=77.5773, Pin code=560009, Output='Yes', Feedback='Positive', _c12='Yes', Post_Graduate_Customer='No'), Row(Age=25, Gender='Male', Marital Status='Single', Job Status='Self Employeed', Monthly Income='More than 50000', Educational Qualifications='Graduate', Family size=2, latitude=12.9783, longitude=77.6408, Pin code=560038, Output='Yes', Feedback='Positive', _c12='Yes', Post_Graduate_Customer='No'), Row(Age=29, Gender='Female', Marital Status='Married', Job Status='Employee', Monthly Income='25001 to 50000', Educational Qualifications='Graduate', Family size=4, latitude=12.9783, longitude=77.6408, Pin code=560038, Output='No', Feedback='Negative ', _c12='No', Post_Graduate_Customer='No'), Row(Age=27, Gender='Male', Marital Status='Married', Job Status='Self Employeed', Monthly Income='25001 to 50000', Educational Qualifications='Graduate', Family size=6, latitude=12.9217, longitude=77.5936, Pin code=560041, Output='No', Feedback='Negative ', _c12='No', Post_Graduate_Customer='No'), Row(Age=25, Gender='Male', Marital Status='Single', Job Status='Self Employeed', Monthly Income='10001 to 25000', Educational Qualifications='Graduate', Family size=3, latitude=13.0206, longitude=77.6479, Pin code=560043, Output='Yes', Feedback='Positive', _c12='Yes', Post_Graduate_Customer='No'), Row(Age=21, Gender='Male', Marital Status='Single', Job Status='Student', Monthly Income='No Income', Educational Qualifications='Graduate', Family size=2, latitude=13.0012, longitude=77.5995, Pin code=560046, Output='No', Feedback='Negative ', _c12='No', Post_Graduate_Customer='No'), Row(Age=23, Gender='Male', Marital Status='Single', Job Status='Student', Monthly Income='No Income', Educational Qualifications='Graduate', Family size=3, latitude=13.0223, longitude=77.7132, Pin code=560049, Output='Yes', Feedback='Positive', _c12='Yes', Post_Graduate_Customer='No'), Row(Age=24, Gender='Female', Marital Status='Single', Job Status='Employee', Monthly Income='10001 to 25000', Educational Qualifications='Post Graduate', Family size=4, latitude=12.9337, longitude=77.59, Pin code=560011, Output='Yes', Feedback='Positive', _c12='Yes', Post_Graduate_Customer='Yes'), Row(Age=32, Gender='Male', Marital Status='Married', Job Status='Self Employeed', Monthly Income='10001 to 25000', Educational Qualifications='School', Family size=3, latitude=12.982, longitude=77.6256, Pin code=560008, Output='Yes', Feedback='Negative ', _c12='Yes', Post_Graduate_Customer='No'), Row(Age=28, Gender='Male', Marital Status='Married', Job Status='Employee', Monthly Income='25001 to 50000', Educational Qualifications='Post Graduate', Family size=5, latitude=13.0262, longitude=77.62, Pin code=560045, Output='Yes', Feedback='Positive', _c12='Yes', Post_Graduate_Customer='Yes'), Row(Age=26, Gender='Male', Marital Status='Single', Job Status='Employee', Monthly Income='10001 to 25000', Educational Qualifications='Graduate', Family size=2, latitude=12.9217, longitude=77.5936, Pin code=560041, Output='No', Feedback='Negative ', _c12='No', Post_Graduate_Customer='No'), Row(Age=31, Gender='Female', Marital Status='Married', Job Status='House wife', Monthly Income='No Income', Educational Qualifications='Graduate', Family size=5, latitude=13.0078, longitude=77.5577, Pin code=560055, Output='Yes', Feedback='Positive', _c12='Yes', Post_Graduate_Customer='No'), Row(Age=27, Gender='Female', Marital Status='Married', Job Status='Self Employeed', Monthly Income='25001 to 50000', Educational Qualifications='Graduate', Family size=3, latitude=13.0078, longitude=77.5577, Pin code=560055, Output='Yes', Feedback='Positive', _c12='Yes', Post_Graduate_Customer='No'), Row(Age=21, Gender='Female', Marital Status='Single', Job Status='Student', Monthly Income='No Income', Educational Qualifications='Post Graduate', Family size=1, latitude=12.9217, longitude=77.5936, Pin code=560041, Output='Yes', Feedback='Positive', _c12='Yes', Post_Graduate_Customer='Yes'), Row(Age=23, Gender='Female', Marital Status='Single', Job Status='Student', Monthly Income='No Income', Educational Qualifications='Graduate', Family size=2, latitude=12.9105, longitude=77.4842, Pin code=560060, Output='No', Feedback='Positive', _c12='No', Post_Graduate_Customer='No'), Row(Age=26, Gender='Male', Marital Status='Married', Job Status='Employee', Monthly Income='10001 to 25000', Educational Qualifications='Graduate', Family size=4, latitude=12.9105, longitude=77.4842, Pin code=560060, Output='No', Feedback='Positive', _c12='No', Post_Graduate_Customer='No'), Row(Age=32, Gender='Male', Marital Status='Married', Job Status='Employee', Monthly Income='More than 50000', Educational Qualifications='Graduate', Family size=5, latitude=12.9037, longitude=77.5376, Pin code=560061, Output='Yes', Feedback='Positive', _c12='Yes', Post_Graduate_Customer='No'), Row(Age=25, Gender='Female', Marital Status='Married', Job Status='Student', Monthly Income='No Income', Educational Qualifications='Post Graduate', Family size=2, latitude=12.8834, longitude=77.5486, Pin code=560062, Output='Yes', Feedback='Positive', _c12='Yes', Post_Graduate_Customer='Yes'), Row(Age=28, Gender='Male', Marital Status='Single', Job Status='Self Employeed', Monthly Income='10001 to 25000', Educational Qualifications='Post Graduate', Family size=2, latitude=12.9149, longitude=77.5635, Pin code=560070, Output='Yes', Feedback='Positive', _c12='Yes', Post_Graduate_Customer='Yes'), Row(Age=21, Gender='Female', Marital Status='Single', Job Status='Student', Monthly Income='No Income', Educational Qualifications='Post Graduate', Family size=3, latitude=12.9149, longitude=77.5635, Pin code=560070, Output='Yes', Feedback='Positive', _c12='Yes', Post_Graduate_Customer='Yes'), Row(Age=24, Gender='Male', Marital Status='Single', Job Status='Student', Monthly Income='No Income', Educational Qualifications='Post Graduate', Family size=2, latitude=12.9706, longitude=77.6529, Pin code=560075, Output='Yes', Feedback='Positive', _c12='Yes', Post_Graduate_Customer='Yes'), Row(Age=26, Gender='Female', Marital Status='Married', Job Status='Self Employeed', Monthly Income='10001 to 25000', Educational Qualifications='Graduate', Family size=5, latitude=12.9706, longitude=77.6529, Pin code=560075, Output='No', Feedback='Negative ', _c12='No', Post_Graduate_Customer='No'), Row(Age=32, Gender='Male', Marital Status='Married', Job Status='Employee', Monthly Income='25001 to 50000', Educational Qualifications='Graduate', Family size=3, latitude=12.9706, longitude=77.6529, Pin code=560075, Output='Yes', Feedback='Positive', _c12='Yes', Post_Graduate_Customer='No'), Row(Age=29, Gender='Male', Marital Status='Single', Job Status='Self Employeed', Monthly Income='More than 50000', Educational Qualifications='Graduate', Family size=6, latitude=12.8845, longitude=77.6036, Pin code=560076, Output='Yes', Feedback='Positive', _c12='Yes', Post_Graduate_Customer='No'), Row(Age=21, Gender='Male', Marital Status='Single', Job Status='Student', Monthly Income='No Income', Educational Qualifications='Graduate', Family size=5, latitude=12.9783, longitude=77.6408, Pin code=560038, Output='Yes', Feedback='Positive', _c12='Yes', Post_Graduate_Customer='No'), Row(Age=24, Gender='Female', Marital Status='Single', Job Status='Self Employeed', Monthly Income='25001 to 50000', Educational Qualifications='Post Graduate', Family size=3, latitude=13.0103, longitude=77.5796, Pin code=560080, Output='No', Feedback='Negative ', _c12='No', Post_Graduate_Customer='Yes'), Row(Age=26, Gender='Male', Marital Status='Prefer not to say', Job Status='Self Employeed', Monthly Income='More than 50000', Educational Qualifications='Post Graduate', Family size=2, latitude=13.0103, longitude=77.5796, Pin code=560080, Output='Yes', Feedback='Positive', _c12='Yes', Post_Graduate_Customer='Yes'), Row(Age=25, Gender='Male', Marital Status='Married', Job Status='Employee', Monthly Income='More than 50000', Educational Qualifications='Ph.D', Family size=3, latitude=12.9306, longitude=77.5434, Pin code=560085, Output='Yes', Feedback='Positive', _c12='Yes', Post_Graduate_Customer='No'), Row(Age=29, Gender='Male', Marital Status='Single', Job Status='Employee', Monthly Income='25001 to 50000', Educational Qualifications='Graduate', Family size=3, latitude=13.0641, longitude=77.5931, Pin code=560092, Output='No', Feedback='Negative ', _c12='No', Post_Graduate_Customer='No'), Row(Age=22, Gender='Male', Marital Status='Single', Job Status='Student', Monthly Income='No Income', Educational Qualifications='Graduate', Family size=3, latitude=13.0158, longitude=77.539, Pin code=560096, Output='Yes', Feedback='Positive', _c12='Yes', Post_Graduate_Customer='No'), Row(Age=24, Gender='Male', Marital Status='Single', Job Status='Student', Monthly Income='No Income', Educational Qualifications='Graduate', Family size=2, latitude=12.9561, longitude=77.5921, Pin code=560027, Output='Yes', Feedback='Positive', _c12='Yes', Post_Graduate_Customer='No'), Row(Age=27, Gender='Male', Marital Status='Married', Job Status='Employee', Monthly Income='25001 to 50000', Educational Qualifications='Graduate', Family size=2, latitude=12.8845, longitude=77.6036, Pin code=560076, Output='Yes', Feedback='Positive', _c12='Yes', Post_Graduate_Customer='No'), Row(Age=23, Gender='Female', Marital Status='Single', Job Status='Student', Monthly Income='No Income', Educational Qualifications='Post Graduate', Family size=3, latitude=12.9369, longitude=77.6407, Pin code=560095, Output='No', Feedback='Positive', _c12='No', Post_Graduate_Customer='Yes'), Row(Age=32, Gender='Male', Marital Status='Married', Job Status='Employee', Monthly Income='More than 50000', Educational Qualifications='Post Graduate', Family size=6, latitude=12.9369, longitude=77.6407, Pin code=560095, Output='Yes', Feedback='Positive', _c12='Yes', Post_Graduate_Customer='Yes'), Row(Age=22, Gender='Female', Marital Status='Single', Job Status='Student', Monthly Income='No Income', Educational Qualifications='Graduate', Family size=2, latitude=12.9369, longitude=77.6407, Pin code=560095, Output='Yes', Feedback='Positive', _c12='Yes', Post_Graduate_Customer='No'), Row(Age=28, Gender='Male', Marital Status='Married', Job Status='Employee', Monthly Income='25001 to 50000', Educational Qualifications='Graduate', Family size=3, latitude=12.9369, longitude=77.6407, Pin code=560095, Output='Yes', Feedback='Positive', _c12='Yes', Post_Graduate_Customer='No'), Row(Age=23, Gender='Female', Marital Status='Single', Job Status='Student', Monthly Income='No Income', Educational Qualifications='Post Graduate', Family size=2, latitude=13.0158, longitude=77.539, Pin code=560096, Output='Yes', Feedback='Positive', _c12='Yes', Post_Graduate_Customer='Yes'), Row(Age=30, Gender='Male', Marital Status='Married', Job Status='Self Employeed', Monthly Income='More than 50000', Educational Qualifications='Graduate', Family size=1, latitude=13.0809, longitude=77.5565, Pin code=560097, Output='No', Feedback='Negative ', _c12='No', Post_Graduate_Customer='No'), Row(Age=21, Gender='Male', Marital Status='Single', Job Status='Student', Monthly Income='No Income', Educational Qualifications='Graduate', Family size=3, latitude=13.0641, longitude=77.5931, Pin code=560092, Output='Yes', Feedback='Positive', _c12='Yes', Post_Graduate_Customer='No'), Row(Age=26, Gender='Female', Marital Status='Married', Job Status='Employee', Monthly Income='Below Rs.10000', Educational Qualifications='Graduate', Family size=6, latitude=12.9859, longitude=77.6713, Pin code=560093, Output='No', Feedback='Negative ', _c12='No', Post_Graduate_Customer='No'), Row(Age=25, Gender='Male', Marital Status='Single', Job Status='Self Employeed', Monthly Income='More than 50000', Educational Qualifications='School', Family size=3, latitude=12.9859, longitude=77.6713, Pin code=560093, Output='Yes', Feedback='Positive', _c12='Yes', Post_Graduate_Customer='No'), Row(Age=31, Gender='Male', Marital Status='Prefer not to say', Job Status='Employee', Monthly Income='Below Rs.10000', Educational Qualifications='Graduate', Family size=1, latitude=12.9866, longitude=77.4904, Pin code=560091, Output='No', Feedback='Negative ', _c12='No', Post_Graduate_Customer='No'), Row(Age=23, Gender='Female', Marital Status='Single', Job Status='Employee', Monthly Income='25001 to 50000', Educational Qualifications='Post Graduate', Family size=2, latitude=12.9847, longitude=77.5491, Pin code=560100, Output='Yes', Feedback='Positive', _c12='Yes', Post_Graduate_Customer='Yes'), Row(Age=29, Gender='Female', Marital Status='Married', Job Status='Employee', Monthly Income='25001 to 50000', Educational Qualifications='Ph.D', Family size=3, latitude=12.9847, longitude=77.5491, Pin code=560100, Output='Yes', Feedback='Positive', _c12='Yes', Post_Graduate_Customer='No'), Row(Age=21, Gender='Male', Marital Status='Single', Job Status='Student', Monthly Income='No Income', Educational Qualifications='Graduate', Family size=6, latitude=12.9847, longitude=77.5491, Pin code=560100, Output='Yes', Feedback='Positive', _c12='Yes', Post_Graduate_Customer='No'), Row(Age=20, Gender='Male', Marital Status='Single', Job Status='Student', Monthly Income='No Income', Educational Qualifications='Graduate', Family size=3, latitude=12.9299, longitude=77.6848, Pin code=560103, Output='Yes', Feedback='Positive', _c12='Yes', Post_Graduate_Customer='No'), Row(Age=22, Gender='Male', Marital Status='Single', Job Status='Employee', Monthly Income='10001 to 25000', Educational Qualifications='Graduate', Family size=2, latitude=12.9299, longitude=77.6848, Pin code=560103, Output='Yes', Feedback='Positive', _c12='Yes', Post_Graduate_Customer='No'), Row(Age=30, Gender='Female', Marital Status='Married', Job Status='House wife', Monthly Income='No Income', Educational Qualifications='School', Family size=6, latitude=12.9828, longitude=77.6131, Pin code=560042, Output='No', Feedback='Positive', _c12='No', Post_Graduate_Customer='No'), Row(Age=27, Gender='Male', Marital Status='Married', Job Status='Self Employeed', Monthly Income='More than 50000', Educational Qualifications='Graduate', Family size=3, latitude=12.989, longitude=77.5332, Pin code=560079, Output='Yes', Feedback='Positive', _c12='Yes', Post_Graduate_Customer='No'), Row(Age=23, Gender='Male', Marital Status='Single', Job Status='Student', Monthly Income='No Income', Educational Qualifications='Post Graduate', Family size=2, latitude=12.977, longitude=77.5773, Pin code=560009, Output='No', Feedback='Negative ', _c12='No', Post_Graduate_Customer='Yes'), Row(Age=30, Gender='Male', Marital Status='Married', Job Status='Self Employeed', Monthly Income='25001 to 50000', Educational Qualifications='School', Family size=6, latitude=12.9251, longitude=77.4992, Pin code=560059, Output='No', Feedback='Negative ', _c12='No', Post_Graduate_Customer='No'), Row(Age=23, Gender='Male', Marital Status='Single', Job Status='Student', Monthly Income='No Income', Educational Qualifications='Post Graduate', Family size=3, latitude=12.9967, longitude=77.7582, Pin code=560067, Output='Yes', Feedback='Positive', _c12='Yes', Post_Graduate_Customer='Yes'), Row(Age=28, Gender='Female', Marital Status='Married', Job Status='Employee', Monthly Income='25001 to 50000', Educational Qualifications='Post Graduate', Family size=6, latitude=12.9967, longitude=77.7582, Pin code=560067, Output='No', Feedback='Negative ', _c12='No', Post_Graduate_Customer='Yes'), Row(Age=30, Gender='Male', Marital Status='Married', Job Status='Self Employeed', Monthly Income='More than 50000', Educational Qualifications='Graduate', Family size=6, latitude=12.9967, longitude=77.7582, Pin code=560067, Output='Yes', Feedback='Positive', _c12='Yes', Post_Graduate_Customer='No'), Row(Age=24, Gender='Female', Marital Status='Married', Job Status='Employee', Monthly Income='25001 to 50000', Educational Qualifications='Post Graduate', Family size=2, latitude=12.957, longitude=77.5637, Pin code=560018, Output='Yes', Feedback='Negative ', _c12='Yes', Post_Graduate_Customer='Yes'), Row(Age=21, Gender='Male', Marital Status='Single', Job Status='Student', Monthly Income='No Income', Educational Qualifications='Graduate', Family size=2, latitude=12.957, longitude=77.5637, Pin code=560018, Output='No', Feedback='Negative ', _c12='No', Post_Graduate_Customer='No'), Row(Age=23, Gender='Female', Marital Status='Prefer not to say', Job Status='Employee', Monthly Income='10001 to 25000', Educational Qualifications='Graduate', Family size=3, latitude=12.9889, longitude=77.5741, Pin code=560020, Output='No', Feedback='Negative ', _c12='No', Post_Graduate_Customer='No'), Row(Age=25, Gender='Male', Marital Status='Married', Job Status='Self Employeed', Monthly Income='More than 50000', Educational Qualifications='Post Graduate', Family size=4, latitude=13.0206, longitude=77.6479, Pin code=560043, Output='Yes', Feedback='Positive', _c12='Yes', Post_Graduate_Customer='Yes'), Row(Age=24, Gender='Female', Marital Status='Single', Job Status='Employee', Monthly Income='25001 to 50000', Educational Qualifications='Graduate', Family size=2, latitude=12.8893, longitude=77.6399, Pin code=560068, Output='Yes', Feedback='Positive', _c12='Yes', Post_Graduate_Customer='No'), Row(Age=26, Gender='Male', Marital Status='Married', Job Status='Employee', Monthly Income='10001 to 25000', Educational Qualifications='Graduate', Family size=3, latitude=12.8893, longitude=77.6399, Pin code=560068, Output='No', Feedback='Negative ', _c12='No', Post_Graduate_Customer='No'), Row(Age=25, Gender='Female', Marital Status='Single', Job Status='Employee', Monthly Income='25001 to 50000', Educational Qualifications='Post Graduate', Family size=2, latitude=12.9967, longitude=77.7582, Pin code=560067, Output='Yes', Feedback='Positive', _c12='Yes', Post_Graduate_Customer='Yes'), Row(Age=22, Gender='Male', Marital Status='Single', Job Status='Student', Monthly Income='25001 to 50000', Educational Qualifications='Graduate', Family size=3, latitude=12.9783, longitude=77.6408, Pin code=560038, Output='Yes', Feedback='Positive', _c12='Yes', Post_Graduate_Customer='No'), Row(Age=26, Gender='Female', Marital Status='Single', Job Status='Employee', Monthly Income='25001 to 50000', Educational Qualifications='Post Graduate', Family size=2, latitude=12.9783, longitude=77.6408, Pin code=560038, Output='Yes', Feedback='Positive', _c12='Yes', Post_Graduate_Customer='Yes'), Row(Age=23, Gender='Male', Marital Status='Single', Job Status='Employee', Monthly Income='10001 to 25000', Educational Qualifications='Graduate', Family size=2, latitude=12.9925, longitude=77.5633, Pin code=560021, Output='Yes', Feedback='Positive', _c12='Yes', Post_Graduate_Customer='No'), Row(Age=21, Gender='Female', Marital Status='Single', Job Status='Employee', Monthly Income='Below Rs.10000', Educational Qualifications='Graduate', Family size=2, latitude=12.9925, longitude=77.5633, Pin code=560021, Output='No', Feedback='Negative ', _c12='No', Post_Graduate_Customer='No'), Row(Age=25, Gender='Male', Marital Status='Married', Job Status='Self Employeed', Monthly Income='25001 to 50000', Educational Qualifications='Graduate', Family size=3, latitude=12.9561, longitude=77.5921, Pin code=560027, Output='Yes', Feedback='Positive', _c12='Yes', Post_Graduate_Customer='No'), Row(Age=24, Gender='Female', Marital Status='Married', Job Status='Employee', Monthly Income='10001 to 25000', Educational Qualifications='Post Graduate', Family size=2, latitude=12.9561, longitude=77.5921, Pin code=560027, Output='Yes', Feedback='Positive', _c12='Yes', Post_Graduate_Customer='Yes'), Row(Age=22, Gender='Male', Marital Status='Married', Job Status='Student', Monthly Income='No Income', Educational Qualifications='Graduate', Family size=2, latitude=13.0734, longitude=77.5464, Pin code=560014, Output='Yes', Feedback='Positive', _c12='Yes', Post_Graduate_Customer='No'), Row(Age=23, Gender='Female', Marital Status='Single', Job Status='Student', Monthly Income='No Income', Educational Qualifications='Post Graduate', Family size=4, latitude=13.0487, longitude=77.5923, Pin code=560024, Output='Yes', Feedback='Positive', _c12='Yes', Post_Graduate_Customer='Yes'), Row(Age=24, Gender='Male', Marital Status='Married', Job Status='Employee', Monthly Income='More than 50000', Educational Qualifications='Post Graduate', Family size=3, latitude=12.9515, longitude=77.4921, Pin code=560056, Output='Yes', Feedback='Positive', _c12='Yes', Post_Graduate_Customer='Yes'), Row(Age=22, Gender='Female', Marital Status='Single', Job Status='Student', Monthly Income='No Income', Educational Qualifications='Graduate', Family size=2, latitude=12.9515, longitude=77.4921, Pin code=560056, Output='Yes', Feedback='Positive', _c12='Yes', Post_Graduate_Customer='No'), Row(Age=30, Gender='Male', Marital Status='Married', Job Status='Employee', Monthly Income='More than 50000', Educational Qualifications='Graduate', Family size=5, latitude=12.9719, longitude=77.5128, Pin code=560072, Output='No', Feedback='Negative ', _c12='No', Post_Graduate_Customer='No'), Row(Age=23, Gender='Female', Marital Status='Prefer not to say', Job Status='Employee', Monthly Income='10001 to 25000', Educational Qualifications='Graduate', Family size=4, latitude=12.9048, longitude=77.6821, Pin code=560036, Output='Yes', Feedback='Positive', _c12='Yes', Post_Graduate_Customer='No'), Row(Age=19, Gender='Male', Marital Status='Single', Job Status='Student', Monthly Income='No Income', Educational Qualifications='Graduate', Family size=6, latitude=12.9048, longitude=77.6821, Pin code=560036, Output='Yes', Feedback='Positive', _c12='Yes', Post_Graduate_Customer='No'), Row(Age=21, Gender='Female', Marital Status='Single', Job Status='Student', Monthly Income='No Income', Educational Qualifications='Graduate', Family size=2, latitude=13.0103, longitude=77.5796, Pin code=560080, Output='Yes', Feedback='Positive', _c12='Yes', Post_Graduate_Customer='No'), Row(Age=23, Gender='Male', Marital Status='Single', Job Status='Student', Monthly Income='No Income', Educational Qualifications='Graduate', Family size=4, latitude=13.0103, longitude=77.5796, Pin code=560080, Output='Yes', Feedback='Positive', _c12='Yes', Post_Graduate_Customer='No'), Row(Age=24, Gender='Female', Marital Status='Single', Job Status='Employee', Monthly Income='25001 to 50000', Educational Qualifications='Graduate', Family size=3, latitude=12.8893, longitude=77.6399, Pin code=560068, Output='Yes', Feedback='Positive', _c12='Yes', Post_Graduate_Customer='No'), Row(Age=26, Gender='Female', Marital Status='Married', Job Status='Employee', Monthly Income='10001 to 25000', Educational Qualifications='Post Graduate', Family size=2, latitude=12.9828, longitude=77.6131, Pin code=560042, Output='No', Feedback='Positive', _c12='No', Post_Graduate_Customer='Yes'), Row(Age=26, Gender='Female', Marital Status='Single', Job Status='Student', Monthly Income='No Income', Educational Qualifications='Ph.D', Family size=2, latitude=12.9757, longitude=77.5586, Pin code=560023, Output='Yes', Feedback='Positive', _c12='Yes', Post_Graduate_Customer='No'), Row(Age=25, Gender='Female', Marital Status='Single', Job Status='Student', Monthly Income='10001 to 25000', Educational Qualifications='Graduate', Family size=2, latitude=12.9757, longitude=77.5586, Pin code=560023, Output='Yes', Feedback='Positive', _c12='Yes', Post_Graduate_Customer='No'), Row(Age=28, Gender='Female', Marital Status='Married', Job Status='Employee', Monthly Income='25001 to 50000', Educational Qualifications='Graduate', Family size=5, latitude=12.9757, longitude=77.5586, Pin code=560023, Output='No', Feedback='Negative ', _c12='No', Post_Graduate_Customer='No'), Row(Age=25, Gender='Female', Marital Status='Single', Job Status='Student', Monthly Income='No Income', Educational Qualifications='Post Graduate', Family size=3, latitude=13.0734, longitude=77.5464, Pin code=560014, Output='Yes', Feedback='Positive', _c12='Yes', Post_Graduate_Customer='Yes'), Row(Age=20, Gender='Female', Marital Status='Single', Job Status='Student', Monthly Income='No Income', Educational Qualifications='Graduate', Family size=2, latitude=13.0734, longitude=77.5464, Pin code=560014, Output='Yes', Feedback='Positive', _c12='Yes', Post_Graduate_Customer='No'), Row(Age=27, Gender='Female', Marital Status='Married', Job Status='Self Employeed', Monthly Income='More than 50000', Educational Qualifications='Graduate', Family size=6, latitude=13.0734, longitude=77.5464, Pin code=560014, Output='No', Feedback='Positive', _c12='No', Post_Graduate_Customer='No'), Row(Age=25, Gender='Female', Marital Status='Married', Job Status='Employee', Monthly Income='25001 to 50000', Educational Qualifications='Graduate', Family size=3, latitude=13.0626, longitude=77.5284, Pin code=560015, Output='No', Feedback='Positive', _c12='No', Post_Graduate_Customer='No'), Row(Age=24, Gender='Female', Marital Status='Single', Job Status='Student', Monthly Income='No Income', Educational Qualifications='Post Graduate', Family size=5, latitude=13.0626, longitude=77.5284, Pin code=560015, Output='No', Feedback='Negative ', _c12='No', Post_Graduate_Customer='Yes'), Row(Age=25, Gender='Female', Marital Status='Married', Job Status='Employee', Monthly Income='More than 50000', Educational Qualifications='Graduate', Family size=1, latitude=12.977, longitude=77.5773, Pin code=560009, Output='No', Feedback='Negative ', _c12='No', Post_Graduate_Customer='No'), Row(Age=25, Gender='Female', Marital Status='Prefer not to say', Job Status='Employee', Monthly Income='25001 to 50000', Educational Qualifications='Post Graduate', Family size=3, latitude=12.998, longitude=77.6227, Pin code=560005, Output='No', Feedback='Negative ', _c12='No', Post_Graduate_Customer='Yes'), Row(Age=24, Gender='Female', Marital Status='Married', Job Status='Student', Monthly Income='Below Rs.10000', Educational Qualifications='Ph.D', Family size=5, latitude=13.0626, longitude=77.5284, Pin code=560015, Output='Yes', Feedback='Positive', _c12='Yes', Post_Graduate_Customer='No'), Row(Age=24, Gender='Male', Marital Status='Single', Job Status='Student', Monthly Income='No Income', Educational Qualifications='Post Graduate', Family size=3, latitude=13.0626, longitude=77.5284, Pin code=560015, Output='Yes', Feedback='Positive', _c12='Yes', Post_Graduate_Customer='Yes'), Row(Age=22, Gender='Male', Marital Status='Single', Job Status='Employee', Monthly Income='10001 to 25000', Educational Qualifications='Graduate', Family size=1, latitude=13.0138, longitude=77.5877, Pin code=560006, Output='Yes', Feedback='Positive', _c12='Yes', Post_Graduate_Customer='No'), Row(Age=28, Gender='Male', Marital Status='Single', Job Status='Employee', Monthly Income='25001 to 50000', Educational Qualifications='Post Graduate', Family size=2, latitude=13.0138, longitude=77.5877, Pin code=560006, Output='No', Feedback='Negative ', _c12='No', Post_Graduate_Customer='Yes'), Row(Age=25, Gender='Female', Marital Status='Single', Job Status='Employee', Monthly Income='More than 50000', Educational Qualifications='Post Graduate', Family size=6, latitude=13.014, longitude=77.5658, Pin code=560012, Output='No', Feedback='Negative ', _c12='No', Post_Graduate_Customer='Yes'), Row(Age=22, Gender='Male', Marital Status='Single', Job Status='Student', Monthly Income='Below Rs.10000', Educational Qualifications='Post Graduate', Family size=3, latitude=12.9551, longitude=77.6593, Pin code=560017, Output='Yes', Feedback='Negative ', _c12='Yes', Post_Graduate_Customer='Yes'), Row(Age=22, Gender='Female', Marital Status='Single', Job Status='Student', Monthly Income='No Income', Educational Qualifications='Graduate', Family size=6, latitude=12.9473, longitude=77.5616, Pin code=560019, Output='Yes', Feedback='Positive', _c12='Yes', Post_Graduate_Customer='No'), Row(Age=22, Gender='Male', Marital Status='Single', Job Status='Student', Monthly Income='Below Rs.10000', Educational Qualifications='Post Graduate', Family size=4, latitude=12.985, longitude=77.5533, Pin code=560010, Output='Yes', Feedback='Positive', _c12='Yes', Post_Graduate_Customer='Yes'), Row(Age=27, Gender='Female', Marital Status='Married', Job Status='Employee', Monthly Income='More than 50000', Educational Qualifications='Post Graduate', Family size=2, latitude=12.9299, longitude=77.6848, Pin code=560103, Output='Yes', Feedback='Positive', _c12='Yes', Post_Graduate_Customer='Yes'), Row(Age=22, Gender='Male', Marital Status='Single', Job Status='Student', Monthly Income='No Income', Educational Qualifications='Graduate', Family size=3, latitude=12.977, longitude=77.5773, Pin code=560009, Output='Yes', Feedback='Positive', _c12='Yes', Post_Graduate_Customer='No'), Row(Age=24, Gender='Female', Marital Status='Single', Job Status='Student', Monthly Income='No Income', Educational Qualifications='Post Graduate', Family size=3, latitude=12.9828, longitude=77.6131, Pin code=560042, Output='Yes', Feedback='Positive', _c12='Yes', Post_Graduate_Customer='Yes'), Row(Age=23, Gender='Female', Marital Status='Single', Job Status='Student', Monthly Income='No Income', Educational Qualifications='Post Graduate', Family size=2, latitude=12.9766, longitude=77.5993, Pin code=560001, Output='Yes', Feedback='Positive', _c12='Yes', Post_Graduate_Customer='Yes'), Row(Age=23, Gender='Female', Marital Status='Single', Job Status='Student', Monthly Income='No Income', Educational Qualifications='Post Graduate', Family size=4, latitude=12.9854, longitude=77.7081, Pin code=560048, Output='Yes', Feedback='Positive', _c12='Yes', Post_Graduate_Customer='Yes'), Row(Age=22, Gender='Female', Marital Status='Single', Job Status='Student', Monthly Income='No Income', Educational Qualifications='Post Graduate', Family size=5, latitude=12.985, longitude=77.5533, Pin code=560010, Output='Yes', Feedback='Positive', _c12='Yes', Post_Graduate_Customer='Yes'), Row(Age=23, Gender='Male', Marital Status='Single', Job Status='Student', Monthly Income='Below Rs.10000', Educational Qualifications='Post Graduate', Family size=2, latitude=12.977, longitude=77.5773, Pin code=560009, Output='Yes', Feedback='Negative ', _c12='Yes', Post_Graduate_Customer='Yes'), Row(Age=32, Gender='Male', Marital Status='Married', Job Status='Employee', Monthly Income='More than 50000', Educational Qualifications='Graduate', Family size=5, latitude=12.9037, longitude=77.5376, Pin code=560061, Output='Yes', Feedback='Positive', _c12='Yes', Post_Graduate_Customer='No'), Row(Age=25, Gender='Female', Marital Status='Married', Job Status='Student', Monthly Income='No Income', Educational Qualifications='Post Graduate', Family size=2, latitude=12.8834, longitude=77.5486, Pin code=560062, Output='Yes', Feedback='Positive', _c12='Yes', Post_Graduate_Customer='Yes'), Row(Age=28, Gender='Male', Marital Status='Single', Job Status='Self Employeed', Monthly Income='10001 to 25000', Educational Qualifications='Post Graduate', Family size=2, latitude=12.9149, longitude=77.5635, Pin code=560070, Output='Yes', Feedback='Positive', _c12='Yes', Post_Graduate_Customer='Yes'), Row(Age=21, Gender='Female', Marital Status='Single', Job Status='Student', Monthly Income='No Income', Educational Qualifications='Post Graduate', Family size=3, latitude=12.9149, longitude=77.5635, Pin code=560070, Output='Yes', Feedback='Positive', _c12='Yes', Post_Graduate_Customer='Yes'), Row(Age=24, Gender='Male', Marital Status='Single', Job Status='Student', Monthly Income='No Income', Educational Qualifications='Post Graduate', Family size=2, latitude=12.9706, longitude=77.6529, Pin code=560075, Output='Yes', Feedback='Positive', _c12='Yes', Post_Graduate_Customer='Yes'), Row(Age=26, Gender='Female', Marital Status='Married', Job Status='Self Employeed', Monthly Income='10001 to 25000', Educational Qualifications='Graduate', Family size=5, latitude=12.9706, longitude=77.6529, Pin code=560075, Output='No', Feedback='Negative ', _c12='No', Post_Graduate_Customer='No'), Row(Age=32, Gender='Male', Marital Status='Married', Job Status='Employee', Monthly Income='25001 to 50000', Educational Qualifications='Graduate', Family size=3, latitude=12.9706, longitude=77.6529, Pin code=560075, Output='Yes', Feedback='Positive', _c12='Yes', Post_Graduate_Customer='No'), Row(Age=29, Gender='Male', Marital Status='Single', Job Status='Self Employeed', Monthly Income='More than 50000', Educational Qualifications='Graduate', Family size=6, latitude=12.8845, longitude=77.6036, Pin code=560076, Output='Yes', Feedback='Positive', _c12='Yes', Post_Graduate_Customer='No'), Row(Age=21, Gender='Male', Marital Status='Single', Job Status='Student', Monthly Income='No Income', Educational Qualifications='Graduate', Family size=5, latitude=12.9783, longitude=77.6408, Pin code=560038, Output='Yes', Feedback='Positive', _c12='Yes', Post_Graduate_Customer='No'), Row(Age=24, Gender='Female', Marital Status='Single', Job Status='Self Employeed', Monthly Income='25001 to 50000', Educational Qualifications='Post Graduate', Family size=3, latitude=13.0103, longitude=77.5796, Pin code=560080, Output='No', Feedback='Negative ', _c12='No', Post_Graduate_Customer='Yes'), Row(Age=26, Gender='Male', Marital Status='Prefer not to say', Job Status='Self Employeed', Monthly Income='More than 50000', Educational Qualifications='Post Graduate', Family size=2, latitude=13.0103, longitude=77.5796, Pin code=560080, Output='Yes', Feedback='Positive', _c12='Yes', Post_Graduate_Customer='Yes'), Row(Age=21, Gender='Male', Marital Status='Married', Job Status='Employee', Monthly Income='More than 50000', Educational Qualifications='Ph.D', Family size=3, latitude=12.9306, longitude=77.5434, Pin code=560085, Output='Yes', Feedback='Positive', _c12='Yes', Post_Graduate_Customer='No'), Row(Age=29, Gender='Male', Marital Status='Single', Job Status='Employee', Monthly Income='25001 to 50000', Educational Qualifications='Graduate', Family size=3, latitude=13.0641, longitude=77.5931, Pin code=560092, Output='No', Feedback='Negative ', _c12='No', Post_Graduate_Customer='No'), Row(Age=22, Gender='Male', Marital Status='Single', Job Status='Student', Monthly Income='No Income', Educational Qualifications='Graduate', Family size=3, latitude=13.0158, longitude=77.539, Pin code=560096, Output='Yes', Feedback='Positive', _c12='Yes', Post_Graduate_Customer='No'), Row(Age=24, Gender='Male', Marital Status='Single', Job Status='Student', Monthly Income='No Income', Educational Qualifications='Graduate', Family size=2, latitude=12.9561, longitude=77.5921, Pin code=560027, Output='Yes', Feedback='Positive', _c12='Yes', Post_Graduate_Customer='No'), Row(Age=27, Gender='Male', Marital Status='Married', Job Status='Employee', Monthly Income='25001 to 50000', Educational Qualifications='Graduate', Family size=2, latitude=12.8845, longitude=77.6036, Pin code=560076, Output='Yes', Feedback='Positive', _c12='Yes', Post_Graduate_Customer='No'), Row(Age=23, Gender='Female', Marital Status='Single', Job Status='Student', Monthly Income='No Income', Educational Qualifications='Post Graduate', Family size=3, latitude=12.9369, longitude=77.6407, Pin code=560095, Output='No', Feedback='Positive', _c12='No', Post_Graduate_Customer='Yes'), Row(Age=32, Gender='Male', Marital Status='Married', Job Status='Employee', Monthly Income='More than 50000', Educational Qualifications='Post Graduate', Family size=6, latitude=12.9369, longitude=77.6407, Pin code=560095, Output='Yes', Feedback='Positive', _c12='Yes', Post_Graduate_Customer='Yes'), Row(Age=22, Gender='Female', Marital Status='Single', Job Status='Student', Monthly Income='No Income', Educational Qualifications='Graduate', Family size=2, latitude=12.9369, longitude=77.6407, Pin code=560095, Output='Yes', Feedback='Positive', _c12='Yes', Post_Graduate_Customer='No'), Row(Age=22, Gender='Female', Marital Status='Single', Job Status='Employee', Monthly Income='25001 to 50000', Educational Qualifications='Graduate', Family size=4, latitude=12.8845, longitude=77.6036, Pin code=560076, Output='Yes', Feedback='Positive', _c12='Yes', Post_Graduate_Customer='No'), Row(Age=26, Gender='Male', Marital Status='Married', Job Status='Employee', Monthly Income='More than 50000', Educational Qualifications='Graduate', Family size=4, latitude=12.9048, longitude=77.6821, Pin code=560036, Output='Yes', Feedback='Positive', _c12='Yes', Post_Graduate_Customer='No'), Row(Age=25, Gender='Female', Marital Status='Single', Job Status='Student', Monthly Income='No Income', Educational Qualifications='Ph.D', Family size=3, latitude=12.9048, longitude=77.6821, Pin code=560036, Output='Yes', Feedback='Positive', _c12='Yes', Post_Graduate_Customer='No'), Row(Age=20, Gender='Male', Marital Status='Single', Job Status='Student', Monthly Income='No Income', Educational Qualifications='Graduate', Family size=2, latitude=12.9261, longitude=77.6221, Pin code=560034, Output='Yes', Feedback='Positive', _c12='Yes', Post_Graduate_Customer='No'), Row(Age=29, Gender='Male', Marital Status='Married', Job Status='Employee', Monthly Income='25001 to 50000', Educational Qualifications='Graduate', Family size=4, latitude=12.9261, longitude=77.6221, Pin code=560034, Output='No', Feedback='Negative ', _c12='No', Post_Graduate_Customer='No'), Row(Age=23, Gender='Female', Marital Status='Single', Job Status='Student', Monthly Income='No Income', Educational Qualifications='Graduate', Family size=1, latitude=12.977, longitude=77.5773, Pin code=560009, Output='Yes', Feedback='Positive', _c12='Yes', Post_Graduate_Customer='No'), Row(Age=25, Gender='Male', Marital Status='Single', Job Status='Self Employeed', Monthly Income='More than 50000', Educational Qualifications='Graduate', Family size=2, latitude=12.9783, longitude=77.6408, Pin code=560038, Output='Yes', Feedback='Positive', _c12='Yes', Post_Graduate_Customer='No'), Row(Age=29, Gender='Female', Marital Status='Married', Job Status='Employee', Monthly Income='25001 to 50000', Educational Qualifications='Graduate', Family size=4, latitude=12.9783, longitude=77.6408, Pin code=560038, Output='No', Feedback='Negative ', _c12='No', Post_Graduate_Customer='No'), Row(Age=27, Gender='Male', Marital Status='Married', Job Status='Self Employeed', Monthly Income='25001 to 50000', Educational Qualifications='Graduate', Family size=6, latitude=12.9217, longitude=77.5936, Pin code=560041, Output='No', Feedback='Positive', _c12='No', Post_Graduate_Customer='No'), Row(Age=25, Gender='Male', Marital Status='Single', Job Status='Self Employeed', Monthly Income='10001 to 25000', Educational Qualifications='Graduate', Family size=3, latitude=13.0206, longitude=77.6479, Pin code=560043, Output='Yes', Feedback='Positive', _c12='Yes', Post_Graduate_Customer='No'), Row(Age=21, Gender='Male', Marital Status='Single', Job Status='Student', Monthly Income='No Income', Educational Qualifications='Graduate', Family size=2, latitude=13.0012, longitude=77.5995, Pin code=560046, Output='No', Feedback='Negative ', _c12='No', Post_Graduate_Customer='No'), Row(Age=23, Gender='Male', Marital Status='Single', Job Status='Student', Monthly Income='No Income', Educational Qualifications='Graduate', Family size=3, latitude=13.0223, longitude=77.7132, Pin code=560049, Output='Yes', Feedback='Positive', _c12='Yes', Post_Graduate_Customer='No'), Row(Age=24, Gender='Female', Marital Status='Single', Job Status='Employee', Monthly Income='10001 to 25000', Educational Qualifications='Post Graduate', Family size=4, latitude=12.9337, longitude=77.59, Pin code=560011, Output='Yes', Feedback='Positive', _c12='Yes', Post_Graduate_Customer='Yes'), Row(Age=22, Gender='Male', Marital Status='Married', Job Status='Self Employeed', Monthly Income='10001 to 25000', Educational Qualifications='School', Family size=3, latitude=12.982, longitude=77.6256, Pin code=560008, Output='Yes', Feedback='Negative ', _c12='Yes', Post_Graduate_Customer='No'), Row(Age=28, Gender='Male', Marital Status='Married', Job Status='Employee', Monthly Income='25001 to 50000', Educational Qualifications='Post Graduate', Family size=5, latitude=13.0262, longitude=77.62, Pin code=560045, Output='Yes', Feedback='Positive', _c12='Yes', Post_Graduate_Customer='Yes'), Row(Age=26, Gender='Male', Marital Status='Single', Job Status='Employee', Monthly Income='10001 to 25000', Educational Qualifications='Graduate', Family size=2, latitude=12.9217, longitude=77.5936, Pin code=560041, Output='No', Feedback='Negative ', _c12='No', Post_Graduate_Customer='No'), Row(Age=22, Gender='Female', Marital Status='Single', Job Status='Employee', Monthly Income='25001 to 50000', Educational Qualifications='Graduate', Family size=4, latitude=12.8845, longitude=77.6036, Pin code=560076, Output='Yes', Feedback='Positive', _c12='Yes', Post_Graduate_Customer='No'), Row(Age=26, Gender='Male', Marital Status='Married', Job Status='Employee', Monthly Income='More than 50000', Educational Qualifications='Graduate', Family size=4, latitude=12.9048, longitude=77.6821, Pin code=560036, Output='Yes', Feedback='Positive', _c12='Yes', Post_Graduate_Customer='No'), Row(Age=25, Gender='Female', Marital Status='Single', Job Status='Student', Monthly Income='No Income', Educational Qualifications='Ph.D', Family size=3, latitude=12.9048, longitude=77.6821, Pin code=560036, Output='Yes', Feedback='Positive', _c12='Yes', Post_Graduate_Customer='No'), Row(Age=20, Gender='Male', Marital Status='Single', Job Status='Student', Monthly Income='No Income', Educational Qualifications='Graduate', Family size=2, latitude=12.9261, longitude=77.6221, Pin code=560034, Output='Yes', Feedback='Positive', _c12='Yes', Post_Graduate_Customer='No'), Row(Age=29, Gender='Male', Marital Status='Married', Job Status='Employee', Monthly Income='25001 to 50000', Educational Qualifications='Graduate', Family size=4, latitude=12.9261, longitude=77.6221, Pin code=560034, Output='No', Feedback='Negative ', _c12='No', Post_Graduate_Customer='No'), Row(Age=23, Gender='Female', Marital Status='Single', Job Status='Student', Monthly Income='No Income', Educational Qualifications='Graduate', Family size=1, latitude=12.977, longitude=77.5773, Pin code=560009, Output='Yes', Feedback='Positive', _c12='Yes', Post_Graduate_Customer='No'), Row(Age=25, Gender='Male', Marital Status='Single', Job Status='Self Employeed', Monthly Income='More than 50000', Educational Qualifications='Graduate', Family size=2, latitude=12.9783, longitude=77.6408, Pin code=560038, Output='Yes', Feedback='Positive', _c12='Yes', Post_Graduate_Customer='No'), Row(Age=29, Gender='Female', Marital Status='Married', Job Status='Employee', Monthly Income='25001 to 50000', Educational Qualifications='Graduate', Family size=4, latitude=12.9783, longitude=77.6408, Pin code=560038, Output='No', Feedback='Positive', _c12='No', Post_Graduate_Customer='No'), Row(Age=27, Gender='Male', Marital Status='Married', Job Status='Self Employeed', Monthly Income='25001 to 50000', Educational Qualifications='Graduate', Family size=6, latitude=12.9217, longitude=77.5936, Pin code=560041, Output='No', Feedback='Positive', _c12='No', Post_Graduate_Customer='No'), Row(Age=25, Gender='Male', Marital Status='Single', Job Status='Self Employeed', Monthly Income='10001 to 25000', Educational Qualifications='Graduate', Family size=3, latitude=13.0206, longitude=77.6479, Pin code=560043, Output='Yes', Feedback='Positive', _c12='Yes', Post_Graduate_Customer='No'), Row(Age=21, Gender='Male', Marital Status='Single', Job Status='Student', Monthly Income='No Income', Educational Qualifications='Graduate', Family size=2, latitude=13.0012, longitude=77.5995, Pin code=560046, Output='No', Feedback='Positive', _c12='No', Post_Graduate_Customer='No'), Row(Age=24, Gender='Male', Marital Status='Single', Job Status='Student', Monthly Income='No Income', Educational Qualifications='Post Graduate', Family size=2, latitude=12.9706, longitude=77.6529, Pin code=560075, Output='Yes', Feedback='Positive', _c12='Yes', Post_Graduate_Customer='Yes'), Row(Age=26, Gender='Female', Marital Status='Married', Job Status='Self Employeed', Monthly Income='10001 to 25000', Educational Qualifications='Graduate', Family size=5, latitude=12.9706, longitude=77.6529, Pin code=560075, Output='No', Feedback='Negative ', _c12='No', Post_Graduate_Customer='No'), Row(Age=32, Gender='Male', Marital Status='Married', Job Status='Employee', Monthly Income='25001 to 50000', Educational Qualifications='Graduate', Family size=3, latitude=12.9706, longitude=77.6529, Pin code=560075, Output='Yes', Feedback='Positive', _c12='Yes', Post_Graduate_Customer='No'), Row(Age=29, Gender='Male', Marital Status='Single', Job Status='Self Employeed', Monthly Income='More than 50000', Educational Qualifications='Graduate', Family size=6, latitude=12.8845, longitude=77.6036, Pin code=560076, Output='Yes', Feedback='Positive', _c12='Yes', Post_Graduate_Customer='No'), Row(Age=21, Gender='Male', Marital Status='Single', Job Status='Student', Monthly Income='No Income', Educational Qualifications='Graduate', Family size=5, latitude=12.9783, longitude=77.6408, Pin code=560038, Output='Yes', Feedback='Positive', _c12='Yes', Post_Graduate_Customer='No'), Row(Age=24, Gender='Female', Marital Status='Single', Job Status='Self Employeed', Monthly Income='25001 to 50000', Educational Qualifications='Post Graduate', Family size=3, latitude=13.0103, longitude=77.5796, Pin code=560080, Output='No', Feedback='Negative ', _c12='No', Post_Graduate_Customer='Yes'), Row(Age=26, Gender='Male', Marital Status='Prefer not to say', Job Status='Self Employeed', Monthly Income='More than 50000', Educational Qualifications='Post Graduate', Family size=2, latitude=13.0103, longitude=77.5796, Pin code=560080, Output='Yes', Feedback='Positive', _c12='Yes', Post_Graduate_Customer='Yes'), Row(Age=31, Gender='Male', Marital Status='Married', Job Status='Employee', Monthly Income='More than 50000', Educational Qualifications='Ph.D', Family size=3, latitude=12.9306, longitude=77.5434, Pin code=560085, Output='Yes', Feedback='Positive', _c12='Yes', Post_Graduate_Customer='No'), Row(Age=29, Gender='Male', Marital Status='Single', Job Status='Employee', Monthly Income='25001 to 50000', Educational Qualifications='Graduate', Family size=3, latitude=13.0641, longitude=77.5931, Pin code=560092, Output='No', Feedback='Negative ', _c12='No', Post_Graduate_Customer='No'), Row(Age=22, Gender='Male', Marital Status='Single', Job Status='Student', Monthly Income='No Income', Educational Qualifications='Graduate', Family size=3, latitude=13.0158, longitude=77.539, Pin code=560096, Output='Yes', Feedback='Positive', _c12='Yes', Post_Graduate_Customer='No'), Row(Age=24, Gender='Male', Marital Status='Single', Job Status='Student', Monthly Income='No Income', Educational Qualifications='Graduate', Family size=2, latitude=12.9561, longitude=77.5921, Pin code=560027, Output='Yes', Feedback='Positive', _c12='Yes', Post_Graduate_Customer='No'), Row(Age=27, Gender='Male', Marital Status='Married', Job Status='Employee', Monthly Income='25001 to 50000', Educational Qualifications='Graduate', Family size=2, latitude=12.8845, longitude=77.6036, Pin code=560076, Output='Yes', Feedback='Positive', _c12='Yes', Post_Graduate_Customer='No'), Row(Age=23, Gender='Female', Marital Status='Single', Job Status='Student', Monthly Income='No Income', Educational Qualifications='Post Graduate', Family size=3, latitude=12.9369, longitude=77.6407, Pin code=560095, Output='No', Feedback='Positive', _c12='No', Post_Graduate_Customer='Yes'), Row(Age=30, Gender='Male', Marital Status='Married', Job Status='Employee', Monthly Income='More than 50000', Educational Qualifications='Post Graduate', Family size=6, latitude=12.9369, longitude=77.6407, Pin code=560095, Output='Yes', Feedback='Positive', _c12='Yes', Post_Graduate_Customer='Yes'), Row(Age=22, Gender='Female', Marital Status='Single', Job Status='Student', Monthly Income='No Income', Educational Qualifications='Graduate', Family size=2, latitude=12.9369, longitude=77.6407, Pin code=560095, Output='Yes', Feedback='Positive', _c12='Yes', Post_Graduate_Customer='No'), Row(Age=28, Gender='Male', Marital Status='Married', Job Status='Employee', Monthly Income='25001 to 50000', Educational Qualifications='Graduate', Family size=3, latitude=12.9369, longitude=77.6407, Pin code=560095, Output='Yes', Feedback='Positive', _c12='Yes', Post_Graduate_Customer='No'), Row(Age=23, Gender='Female', Marital Status='Single', Job Status='Student', Monthly Income='No Income', Educational Qualifications='Post Graduate', Family size=2, latitude=13.0158, longitude=77.539, Pin code=560096, Output='Yes', Feedback='Positive', _c12='Yes', Post_Graduate_Customer='Yes'), Row(Age=30, Gender='Male', Marital Status='Married', Job Status='Self Employeed', Monthly Income='More than 50000', Educational Qualifications='Graduate', Family size=1, latitude=13.0809, longitude=77.5565, Pin code=560097, Output='No', Feedback='Negative ', _c12='No', Post_Graduate_Customer='No'), Row(Age=21, Gender='Male', Marital Status='Single', Job Status='Student', Monthly Income='No Income', Educational Qualifications='Graduate', Family size=3, latitude=13.0641, longitude=77.5931, Pin code=560092, Output='Yes', Feedback='Negative ', _c12='Yes', Post_Graduate_Customer='No'), Row(Age=26, Gender='Female', Marital Status='Married', Job Status='Employee', Monthly Income='Below Rs.10000', Educational Qualifications='Graduate', Family size=6, latitude=12.9859, longitude=77.6713, Pin code=560093, Output='No', Feedback='Negative ', _c12='No', Post_Graduate_Customer='No'), Row(Age=25, Gender='Male', Marital Status='Single', Job Status='Self Employeed', Monthly Income='More than 50000', Educational Qualifications='School', Family size=3, latitude=12.9859, longitude=77.6713, Pin code=560093, Output='Yes', Feedback='Positive', _c12='Yes', Post_Graduate_Customer='No'), Row(Age=31, Gender='Male', Marital Status='Prefer not to say', Job Status='Employee', Monthly Income='Below Rs.10000', Educational Qualifications='Graduate', Family size=1, latitude=12.9866, longitude=77.4904, Pin code=560091, Output='No', Feedback='Negative ', _c12='No', Post_Graduate_Customer='No'), Row(Age=23, Gender='Female', Marital Status='Single', Job Status='Employee', Monthly Income='25001 to 50000', Educational Qualifications='Post Graduate', Family size=2, latitude=12.9847, longitude=77.5491, Pin code=560100, Output='Yes', Feedback='Positive', _c12='Yes', Post_Graduate_Customer='Yes'), Row(Age=22, Gender='Male', Marital Status='Single', Job Status='Student', Monthly Income='Below Rs.10000', Educational Qualifications='Post Graduate', Family size=4, latitude=12.985, longitude=77.5533, Pin code=560010, Output='Yes', Feedback='Positive', _c12='Yes', Post_Graduate_Customer='Yes'), Row(Age=27, Gender='Female', Marital Status='Married', Job Status='Employee', Monthly Income='More than 50000', Educational Qualifications='Post Graduate', Family size=2, latitude=12.9299, longitude=77.6848, Pin code=560103, Output='Yes', Feedback='Positive', _c12='Yes', Post_Graduate_Customer='Yes'), Row(Age=22, Gender='Male', Marital Status='Single', Job Status='Student', Monthly Income='No Income', Educational Qualifications='Graduate', Family size=3, latitude=12.977, longitude=77.5773, Pin code=560009, Output='Yes', Feedback='Positive', _c12='Yes', Post_Graduate_Customer='No'), Row(Age=24, Gender='Female', Marital Status='Single', Job Status='Student', Monthly Income='No Income', Educational Qualifications='Post Graduate', Family size=3, latitude=12.9828, longitude=77.6131, Pin code=560042, Output='Yes', Feedback='Positive', _c12='Yes', Post_Graduate_Customer='Yes'), Row(Age=23, Gender='Female', Marital Status='Single', Job Status='Student', Monthly Income='No Income', Educational Qualifications='Post Graduate', Family size=2, latitude=12.9766, longitude=77.5993, Pin code=560001, Output='Yes', Feedback='Positive', _c12='Yes', Post_Graduate_Customer='Yes'), Row(Age=23, Gender='Female', Marital Status='Single', Job Status='Student', Monthly Income='No Income', Educational Qualifications='Post Graduate', Family size=4, latitude=12.9854, longitude=77.7081, Pin code=560048, Output='Yes', Feedback='Positive', _c12='Yes', Post_Graduate_Customer='Yes'), Row(Age=22, Gender='Female', Marital Status='Single', Job Status='Student', Monthly Income='No Income', Educational Qualifications='Post Graduate', Family size=5, latitude=12.985, longitude=77.5533, Pin code=560010, Output='Yes', Feedback='Positive', _c12='Yes', Post_Graduate_Customer='Yes'), Row(Age=23, Gender='Male', Marital Status='Single', Job Status='Student', Monthly Income='Below Rs.10000', Educational Qualifications='Post Graduate', Family size=2, latitude=12.977, longitude=77.5773, Pin code=560009, Output='Yes', Feedback='Positive', _c12='Yes', Post_Graduate_Customer='Yes'), Row(Age=23, Gender='Male', Marital Status='Single', Job Status='Student', Monthly Income='No Income', Educational Qualifications='Post Graduate', Family size=5, latitude=12.8988, longitude=77.5764, Pin code=560078, Output='Yes', Feedback='Positive', _c12='Yes', Post_Graduate_Customer='Yes')]\n"
     ]
    }
   ],
   "source": [
    "# using collect() method to retrieve all rows as a list\n",
    "collected_data = df.collect()\n",
    "\n",
    "print(collected_data)"
   ]
  },
  {
   "cell_type": "markdown",
   "metadata": {},
   "source": [
    "Using GroupBy Function"
   ]
  },
  {
   "cell_type": "code",
   "execution_count": 40,
   "metadata": {},
   "outputs": [
    {
     "name": "stdout",
     "output_type": "stream",
     "text": [
      "+-----------------+-----+\n",
      "|   Marital Status|Count|\n",
      "+-----------------+-----+\n",
      "|Prefer not to say|   12|\n",
      "|          Married|  108|\n",
      "|           Single|  268|\n",
      "+-----------------+-----+\n",
      "\n"
     ]
    }
   ],
   "source": [
    "marital_status_counts = df.groupBy(\"Marital Status\").agg(count(\"*\").alias(\"Count\"))\n",
    "\n",
    "marital_status_counts.show()"
   ]
  },
  {
   "cell_type": "markdown",
   "metadata": {},
   "source": [
    "Applying Inner Join"
   ]
  },
  {
   "cell_type": "code",
   "execution_count": 42,
   "metadata": {},
   "outputs": [
    {
     "name": "stdout",
     "output_type": "stream",
     "text": [
      "+-------+---+-------------+-----------+\n",
      "|   Name|Age|MaritalStatus|       City|\n",
      "+-------+---+-------------+-----------+\n",
      "|  Alice| 34|       Single|   New York|\n",
      "|    Bob| 45|      Married|Los Angeles|\n",
      "|Charlie| 28|       Single|    Chicago|\n",
      "+-------+---+-------------+-----------+\n",
      "\n"
     ]
    }
   ],
   "source": [
    "# Example data\n",
    "data1 = [(\"Alice\", 34, \"Single\"),\n",
    "        (\"Bob\", 45, \"Married\"),\n",
    "        (\"Charlie\", 28, \"Single\")]\n",
    "\n",
    "columns1 = [\"Name\", \"Age\", \"MaritalStatus\"]\n",
    "df1 = spark.createDataFrame(data1,columns1)\n",
    "\n",
    "data2 = [(\"Alice\", \"New York\"), \n",
    "         (\"Bob\", \"Los Angeles\"),\n",
    "         (\"Charlie\", \"Chicago\")]\n",
    "\n",
    "columns2 = [\"Name\",\"City\"]\n",
    "df2 = spark.createDataFrame(data2,columns2)\n",
    "\n",
    "# Joining the two DataFrames based on the 'Name' column\n",
    "joined_df = df1.join(df2, \"Name\", \"inner\") \n",
    "\n",
    "# Printing the joined DataFrame\n",
    "joined_df.show()"
   ]
  },
  {
   "cell_type": "markdown",
   "metadata": {},
   "source": [
    "Applying Cross Join"
   ]
  },
  {
   "cell_type": "code",
   "execution_count": 44,
   "metadata": {},
   "outputs": [
    {
     "name": "stdout",
     "output_type": "stream",
     "text": [
      "+-------+---+-------------+-----------+\n",
      "|   Name|Age|MaritalStatus|       City|\n",
      "+-------+---+-------------+-----------+\n",
      "|  Alice| 34|       Single|   New York|\n",
      "|  Alice| 34|       Single|Los Angeles|\n",
      "|  Alice| 34|       Single|    Chicago|\n",
      "|    Bob| 45|      Married|   New York|\n",
      "|    Bob| 45|      Married|Los Angeles|\n",
      "|    Bob| 45|      Married|    Chicago|\n",
      "|Charlie| 28|       Single|   New York|\n",
      "|Charlie| 28|       Single|Los Angeles|\n",
      "|Charlie| 28|       Single|    Chicago|\n",
      "+-------+---+-------------+-----------+\n",
      "\n"
     ]
    }
   ],
   "source": [
    "# Example data\n",
    "data1 = [(\"Alice\", 34, \"Single\"),\n",
    "        (\"Bob\", 45, \"Married\"),\n",
    "        (\"Charlie\", 28, \"Single\")]\n",
    "\n",
    "columns1 = [\"Name\", \"Age\", \"MaritalStatus\"]\n",
    "df1 = spark.createDataFrame(data1,columns1)\n",
    "\n",
    "data2 = [(\"New York\",), \n",
    "         (\"Los Angeles\",),\n",
    "         (\"Chicago\",)]\n",
    "\n",
    "columns2 = [\"City\"]\n",
    "df2 = spark.createDataFrame(data2,columns2)\n",
    "\n",
    "# Joining the two DataFrames based on the 'Name' column\n",
    "cross_joined_df = df1.crossJoin(df2.select(\"*\")) \n",
    "\n",
    "# Printing the joined DataFrame\n",
    "cross_joined_df.show()"
   ]
  },
  {
   "cell_type": "markdown",
   "metadata": {},
   "source": [
    "Applying Broadcast"
   ]
  },
  {
   "cell_type": "code",
   "execution_count": 45,
   "metadata": {},
   "outputs": [
    {
     "name": "stdout",
     "output_type": "stream",
     "text": [
      "+-------+---+-----------+\n",
      "|   Name|Age|       City|\n",
      "+-------+---+-----------+\n",
      "|  Alice| 34|   New York|\n",
      "|    Bob| 45|Los Angeles|\n",
      "|Charlie| 28|    Chicago|\n",
      "+-------+---+-----------+\n",
      "\n"
     ]
    }
   ],
   "source": [
    "# Example data\n",
    "data1 = [(\"Alice\", 34),\n",
    "        (\"Bob\", 45),\n",
    "        (\"Charlie\", 28)]\n",
    "\n",
    "columns1 = [\"Name\", \"Age\"]\n",
    "df1 = spark.createDataFrame(data1,columns1)\n",
    "\n",
    "data2 = [(\"Alice\", \"New York\"), \n",
    "         (\"Bob\", \"Los Angeles\"),\n",
    "         (\"Charlie\", \"Chicago\"),\n",
    "         (\"David\", \"Houston\"),\n",
    "         (\"Eve\", \"San Francisco\")]\n",
    "\n",
    "columns2 = [\"Name\",\"City\"]\n",
    "df2 = spark.createDataFrame(data2,columns2)\n",
    "\n",
    "# Broadcast the smaller dataFrame before joining \n",
    "# (Always try to broadcast the smaller dataset -> Coz it will be copied to every executor's memory and occupy space there)\n",
    "broadcast_df1 = broadcast(df1)\n",
    "\n",
    "# Performing a join between the two dataFrames\n",
    "joined_df = broadcast_df1.join(df2, \"Name\", \"inner\")\n",
    "\n",
    "# Printing the joined DataFrame\n",
    "joined_df.show()"
   ]
  },
  {
   "cell_type": "code",
   "execution_count": 46,
   "metadata": {},
   "outputs": [],
   "source": [
    "# Alias -> Giving name to a data frame\n",
    "df_alias = df.alias(\"Person\")"
   ]
  },
  {
   "cell_type": "markdown",
   "metadata": {},
   "source": [
    "Applying Rollup"
   ]
  },
  {
   "cell_type": "code",
   "execution_count": 48,
   "metadata": {},
   "outputs": [
    {
     "name": "stdout",
     "output_type": "stream",
     "text": [
      "+----------+-------+-----------+\n",
      "|Department|   Name|sum(Salary)|\n",
      "+----------+-------+-----------+\n",
      "|      NULL|   NULL|      18000|\n",
      "|     Sales|  Alice|       5000|\n",
      "|     Sales|   NULL|      11000|\n",
      "|     Sales|    Bob|       6000|\n",
      "| Marketing|   NULL|       7000|\n",
      "| Marketing|Charlie|       4000|\n",
      "| Marketing|  David|       3000|\n",
      "+----------+-------+-----------+\n",
      "\n"
     ]
    }
   ],
   "source": [
    "# Example data\n",
    "data = [(\"Alice\", \"Sales\",5000),\n",
    "        (\"Bob\",\"Sales\",6000),\n",
    "        (\"Charlie\",\"Marketing\",4000),\n",
    "        (\"David\",\"Marketing\",3000)]\n",
    "\n",
    "columns = [\"Name\", \"Department\", \"Salary\"]\n",
    "df = spark.createDataFrame(data,columns)\n",
    "\n",
    "# performing rollup aggregation across 'department' and 'name'\n",
    "rollup_df = df.rollup(\"Department\", \"Name\").sum(\"Salary\")\n",
    "\n",
    "# showing the results\n",
    "rollup_df.show()"
   ]
  },
  {
   "cell_type": "markdown",
   "metadata": {},
   "source": [
    "Cube"
   ]
  },
  {
   "cell_type": "code",
   "execution_count": 50,
   "metadata": {},
   "outputs": [
    {
     "name": "stdout",
     "output_type": "stream",
     "text": [
      "+----------+-------+-----------+\n",
      "|Department|   Name|sum(Salary)|\n",
      "+----------+-------+-----------+\n",
      "|      NULL|  Alice|       5000|\n",
      "|      NULL|   NULL|      18000|\n",
      "|     Sales|  Alice|       5000|\n",
      "|     Sales|   NULL|      11000|\n",
      "|     Sales|    Bob|       6000|\n",
      "|      NULL|    Bob|       6000|\n",
      "| Marketing|   NULL|       7000|\n",
      "| Marketing|Charlie|       4000|\n",
      "|      NULL|Charlie|       4000|\n",
      "|      NULL|  David|       3000|\n",
      "| Marketing|  David|       3000|\n",
      "+----------+-------+-----------+\n",
      "\n"
     ]
    }
   ],
   "source": [
    "# Example Data\n",
    "data = [(\"Alice\", \"Sales\",5000),\n",
    "        (\"Bob\",\"Sales\",6000),\n",
    "        (\"Charlie\",\"Marketing\",4000),\n",
    "        (\"David\",\"Marketing\",3000)]\n",
    "\n",
    "columns = [\"Name\", \"Department\", \"Salary\"]\n",
    "df = spark.createDataFrame(data,columns)\n",
    "\n",
    "# perform Cube Aggregation across department and Name\n",
    "cube_df = df.cube(\"Department\", \"Name\").sum(\"Salary\")\n",
    "\n",
    "# Show results\n",
    "cube_df.show()"
   ]
  },
  {
   "cell_type": "markdown",
   "metadata": {},
   "source": [
    "Pivot"
   ]
  },
  {
   "cell_type": "code",
   "execution_count": 51,
   "metadata": {},
   "outputs": [
    {
     "name": "stdout",
     "output_type": "stream",
     "text": [
      "+-------+---------+-----+\n",
      "|   Name|Marketing|Sales|\n",
      "+-------+---------+-----+\n",
      "|Charlie|     4000| NULL|\n",
      "|    Bob|     NULL| 6000|\n",
      "|  Alice|     NULL| 5000|\n",
      "|  David|     3000| NULL|\n",
      "+-------+---------+-----+\n",
      "\n"
     ]
    }
   ],
   "source": [
    "# Example Data\n",
    "data = [(\"Alice\", \"Sales\",5000),\n",
    "        (\"Bob\",\"Sales\",6000),\n",
    "        (\"Charlie\",\"Marketing\",4000),\n",
    "        (\"David\",\"Marketing\",3000)]\n",
    "\n",
    "columns = [\"Name\", \"Department\", \"Salary\"]\n",
    "df = spark.createDataFrame(data,columns)\n",
    "\n",
    "# perform Cube Aggregation across department and Name\n",
    "pivot_df = df.groupby(\"Name\").pivot(\"Department\").sum(\"Salary\")\n",
    "\n",
    "# Show results\n",
    "pivot_df.show()"
   ]
  },
  {
   "cell_type": "markdown",
   "metadata": {},
   "source": [
    "Sort"
   ]
  },
  {
   "cell_type": "code",
   "execution_count": 53,
   "metadata": {},
   "outputs": [
    {
     "name": "stdout",
     "output_type": "stream",
     "text": [
      "+-------+---+-------------+\n",
      "|   Name|Age|MaritalStatus|\n",
      "+-------+---+-------------+\n",
      "|Charlie| 28|       Single|\n",
      "|  Alice| 34|       Single|\n",
      "|    Bob| 45|      Married|\n",
      "+-------+---+-------------+\n",
      "\n"
     ]
    }
   ],
   "source": [
    "# Example data\n",
    "data = [(\"Alice\", 34, \"Single\"),\n",
    "        (\"Bob\", 45, \"Married\"),\n",
    "        (\"Charlie\", 28, \"Single\")]\n",
    "\n",
    "columns = [\"Name\", \"Age\", \"MaritalStatus\"]\n",
    "df = spark.createDataFrame(data,columns)\n",
    "\n",
    "sorted_df = df.sort(\"Age\") #orderby will also give the same result\n",
    "\n",
    "sorted_df.show()"
   ]
  },
  {
   "cell_type": "markdown",
   "metadata": {},
   "source": [
    "Partition (Double check it's result)"
   ]
  },
  {
   "cell_type": "code",
   "execution_count": 55,
   "metadata": {},
   "outputs": [
    {
     "name": "stdout",
     "output_type": "stream",
     "text": [
      "+-------+---+-------------+\n",
      "|   Name|Age|MaritalStatus|\n",
      "+-------+---+-------------+\n",
      "|  Alice| 34|       Single|\n",
      "|    Bob| 45|      Married|\n",
      "|Charlie| 28|       Single|\n",
      "+-------+---+-------------+\n",
      "\n"
     ]
    }
   ],
   "source": [
    "# Example data\n",
    "data = [(\"Alice\", 34, \"Single\"),\n",
    "        (\"Bob\", 45, \"Married\"),\n",
    "        (\"Charlie\", 28, \"Single\")]\n",
    "\n",
    "columns = [\"Name\", \"Age\", \"MaritalStatus\"]\n",
    "df = spark.createDataFrame(data,columns)\n",
    "\n",
    "# Repartitioning the data frame into 2 partitions for demonstration\n",
    "df = df.repartition(2)\n",
    "\n",
    "sorted_within_partitions_df = df.sortWithinPartitions(\"Age\") \n",
    "\n",
    "sorted_within_partitions_df.show()"
   ]
  },
  {
   "cell_type": "markdown",
   "metadata": {},
   "source": [
    "Dropping Duplicates"
   ]
  },
  {
   "cell_type": "code",
   "execution_count": 56,
   "metadata": {},
   "outputs": [
    {
     "name": "stdout",
     "output_type": "stream",
     "text": [
      "+-------+---+-------------+\n",
      "|   Name|Age|MaritalStatus|\n",
      "+-------+---+-------------+\n",
      "|  Alice| 34|       Single|\n",
      "|    Bob| 45|      Married|\n",
      "|Charlie| 28|       Single|\n",
      "+-------+---+-------------+\n",
      "\n"
     ]
    }
   ],
   "source": [
    "# Example data\n",
    "data = [(\"Alice\", 34, \"Single\"),\n",
    "        (\"Bob\", 45, \"Married\"),\n",
    "        (\"Bob\", 45, \"Married\"),\n",
    "        (\"Charlie\", 28, \"Single\")]\n",
    "\n",
    "columns = [\"Name\", \"Age\", \"MaritalStatus\"]\n",
    "df = spark.createDataFrame(data,columns)\n",
    "\n",
    "# Repartitioning the data frame into 2 partitions for demonstration\n",
    "deduplicated_df = df.dropDuplicates()\n",
    "\n",
    "deduplicated_df.show()"
   ]
  }
 ],
 "metadata": {
  "kernelspec": {
   "display_name": "venv",
   "language": "python",
   "name": "python3"
  },
  "language_info": {
   "codemirror_mode": {
    "name": "ipython",
    "version": 3
   },
   "file_extension": ".py",
   "mimetype": "text/x-python",
   "name": "python",
   "nbconvert_exporter": "python",
   "pygments_lexer": "ipython3",
   "version": "3.10.11"
  }
 },
 "nbformat": 4,
 "nbformat_minor": 2
}
